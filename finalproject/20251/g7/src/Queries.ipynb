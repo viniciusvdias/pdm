{
 "cells": [
  {
   "cell_type": "markdown",
   "id": "2665f558-53d8-4586-bfa4-43830aa5384f",
   "metadata": {},
   "source": [
    "# SQL Queries: SparkSQL"
   ]
  },
  {
   "cell_type": "markdown",
   "id": "d78793a7-6d38-4794-a7d1-6b2c0e57ca8f",
   "metadata": {},
   "source": [
    "### Step 1: Start Spark Session"
   ]
  },
  {
   "cell_type": "code",
   "execution_count": 1,
   "id": "6991433e-339e-4dde-a08d-d31ce0c45a54",
   "metadata": {},
   "outputs": [
    {
     "name": "stdout",
     "output_type": "stream",
     "text": [
      "SparkContext not defined\n"
     ]
    },
    {
     "name": "stderr",
     "output_type": "stream",
     "text": [
      "WARNING: Using incubator modules: jdk.incubator.vector\n",
      "Using Spark's default log4j profile: org/apache/spark/log4j2-defaults.properties\n",
      "Setting default log level to \"WARN\".\n",
      "To adjust logging level use sc.setLogLevel(newLevel). For SparkR, use setLogLevel(newLevel).\n",
      "25/07/02 22:48:52 WARN NativeCodeLoader: Unable to load native-hadoop library for your platform... using builtin-java classes where applicable\n",
      "25/07/02 22:48:53 WARN Utils: Service 'SparkUI' could not bind on port 4040. Attempting port 4041.\n"
     ]
    }
   ],
   "source": [
    "from pyspark.sql import SparkSession\n",
    "\n",
    "try:\n",
    "    spark.stop()\n",
    "except NameError:\n",
    "    print(\"SparkContext not defined\")\n",
    "\n",
    "spark = SparkSession.builder \\\n",
    "            .appName(\"Spark SQL basic example\") \\\n",
    "            .master(\"local[*]\") \\\n",
    "\t    \t.config(\"spark.some.config.option\", \"some-value\") \\\n",
    "\t    \t.getOrCreate()"
   ]
  },
  {
   "cell_type": "markdown",
   "id": "c14d39b9-8cb1-4605-9da6-d98d169b9790",
   "metadata": {},
   "source": [
    "### Step 2: Read Parquet files as dataframes"
   ]
  },
  {
   "cell_type": "code",
   "execution_count": 3,
   "id": "b8d2a9a2-4ec7-4ccf-b0f8-b34a0c30d846",
   "metadata": {},
   "outputs": [
    {
     "name": "stderr",
     "output_type": "stream",
     "text": [
      "                                                                                "
     ]
    },
    {
     "name": "stdout",
     "output_type": "stream",
     "text": [
      "+-------------+---------+----------------------+--------------------+------------+------+--------------------+-------------------+-------------------+---------------------+-------------------+---------------------+\n",
      "|id_subsistema|id_estado|nom_modalidadeoperacao|   nom_conjuntousina|   nom_usina|id_ons|                 ceg|       din_instante|val_ventoverificado|flg_dadoventoinvalido|val_geracaoestimada|val_geracaoverificada|\n",
      "+-------------+---------+----------------------+--------------------+------------+------+--------------------+-------------------+-------------------+---------------------+-------------------+---------------------+\n",
      "|            N|       MA|             Tipo II-C| Conj. Paulino Neves|   Delta 3 I|MAEDT1|EOL.CV.MA.033682-...|2025-03-01 00:00:00|              2.632|                  0.0|              0.761|                  0.0|\n",
      "|            N|       MA|             Tipo II-C| Conj. Paulino Neves|  Delta 3 II|MAEDT2|EOL.CV.MA.033683-...|2025-03-01 00:00:00|              2.942|                  0.0|              0.671|                  0.0|\n",
      "|            N|       MA|             Tipo II-C| Conj. Paulino Neves| Delta 3 III|MAEDT3|EOL.CV.MA.033684-...|2025-03-01 00:00:00|              2.602|                  0.0|               0.46|                  0.0|\n",
      "|            N|       MA|             Tipo II-C| Conj. Paulino Neves|  Delta 3 IV|MAEDT4|EOL.CV.MA.033685-...|2025-03-01 00:00:00|              2.385|                  0.0|              0.278|                  0.0|\n",
      "|            N|       MA|             Tipo II-C| Conj. Paulino Neves|   Delta 3 V|MAEDT5|EOL.CV.MA.033675-...|2025-03-01 00:00:00|                7.1|                  1.0|                0.0|                  0.0|\n",
      "|            N|       MA|             Tipo II-C| Conj. Paulino Neves|  Delta 3 VI|MAEDT6|EOL.CV.MA.033673-...|2025-03-01 00:00:00|              2.823|                  0.0|              0.796|                  0.0|\n",
      "|            N|       MA|             Tipo II-C| Conj. Paulino Neves| Delta 3 VII|MAEDT7|EOL.CV.MA.033680-...|2025-03-01 00:00:00|              2.618|                  0.0|              0.364|                  0.0|\n",
      "|            N|       MA|             Tipo II-C| Conj. Paulino Neves|Delta 3 VIII|MAEDT8|EOL.CV.MA.033686-...|2025-03-01 00:00:00|              2.716|                  0.0|              0.512|                  0.0|\n",
      "|            N|       MA|             Tipo II-C| Conj. Paulino Neves|   Delta 5 I|MAEDC1|EOL.CV.MA.037976-...|2025-03-01 00:00:00|              2.131|                  0.0|              0.385|                  0.0|\n",
      "|            N|       MA|             Tipo II-C| Conj. Paulino Neves|  Delta 5 II|MAEDC2|EOL.CV.MA.037972-...|2025-03-01 00:00:00|              2.274|                  0.0|              0.277|                  0.0|\n",
      "|            N|       MA|             Tipo II-C| Conj. Paulino Neves|   Delta 6 I|MAEDS1|EOL.CV.MA.037970-...|2025-03-01 00:00:00|              2.127|                  0.0|               0.39|                  0.0|\n",
      "|            N|       MA|             Tipo II-C| Conj. Paulino Neves|  Delta 6 II|MAEDS2|EOL.CV.MA.037967-...|2025-03-01 00:00:00|              2.358|                  0.0|              0.194|                  0.0|\n",
      "|            N|       MA|             Tipo II-C| Conj. Paulino Neves|   Delta 7 I|MAED7I|EOL.CV.MA.040572-...|2025-03-01 00:00:00|              2.482|                  0.0|              0.464|                  0.0|\n",
      "|            N|       MA|             Tipo II-C| Conj. Paulino Neves|  Delta 7 II|MAED72|EOL.CV.MA.040573-...|2025-03-01 00:00:00|              1.827|                  0.0|              0.583|                  0.0|\n",
      "|            N|       MA|             Tipo II-C| Conj. Paulino Neves|   Delta 8 I|MAED8I|EOL.CV.MA.040574-...|2025-03-01 00:00:00|              2.004|                  0.0|              0.461|                  0.0|\n",
      "|           NE|       BA|             Tipo II-C|Conj. Pindaí II 2...|        Abil|BAEABL|EOL.CV.BA.031402-...|2025-03-01 00:00:00|             11.747|                  1.0|                0.0|                0.496|\n",
      "|           NE|       BA|             Tipo II-C|   Conj. Tamboril II|      Acácia|BAECAC|EOL.CV.BA.031418-...|2025-03-01 00:00:00|              5.473|                  0.0|              2.424|                2.462|\n",
      "|           NE|       BA|             Tipo II-C|       Conj. GPEXPAN|       Acauã|BAEACU|EOL.CV.BA.031433-...|2025-03-01 00:00:00|                8.4|                  1.0|                0.0|                  0.0|\n",
      "|           NE|       BA|             Tipo II-C|    Conj. Igaporã II|    Alvorada|BAUEAV|EOL.CV.BA.030320-...|2025-03-01 00:00:00|             12.961|                  0.0|              7.718|                7.467|\n",
      "|           NE|       BA|             Tipo II-C|Conj. Igaporã III...|     Amescla|BAEAMC|EOL.CV.BA.032090-...|2025-03-01 00:00:00|              7.958|                  0.0|              4.416|                0.234|\n",
      "+-------------+---------+----------------------+--------------------+------------+------+--------------------+-------------------+-------------------+---------------------+-------------------+---------------------+\n",
      "only showing top 20 rows\n"
     ]
    },
    {
     "name": "stderr",
     "output_type": "stream",
     "text": [
      "                                                                                "
     ]
    },
    {
     "data": {
      "text/plain": [
       "55577477"
      ]
     },
     "execution_count": 3,
     "metadata": {},
     "output_type": "execute_result"
    }
   ],
   "source": [
    "parquet_detalhado = spark.read.parquet(\"../data/data_cleared/dados_detalhados.parquet\")\n",
    "parquet_detalhado.show()\n",
    "parquet_detalhado.count()"
   ]
  },
  {
   "cell_type": "code",
   "execution_count": 4,
   "id": "7f9fc205-2c22-44b1-a0b2-538516fe39f4",
   "metadata": {},
   "outputs": [
    {
     "name": "stdout",
     "output_type": "stream",
     "text": [
      "+-------------+--------------+---------+----------+-------------------+---------+---+-------------------+-----------+-------------------+-------------------+---------------------+--------------------------+------------------+-------------------+\n",
      "|id_subsistema|nom_subsistema|id_estado|nom_estado|          nom_usina|   id_ons|ceg|       din_instante|val_geracao|val_geracaolimitada|val_disponibilidade|val_geracaoreferencia|val_geracaoreferenciafinal|cod_razaorestricao|cod_origemrestricao|\n",
      "+-------------+--------------+---------+----------+-------------------+---------+---+-------------------+-----------+-------------------+-------------------+---------------------+--------------------------+------------------+-------------------+\n",
      "|            N|         NORTE|       MA|  MARANHAO|CONJ. PAULINO NEVES|CJU_MAPLN|  -|2022-12-01 00:00:00|    283.132|               NULL|              319.2|               191.83|                      NULL|              NULL|               NULL|\n",
      "|            N|         NORTE|       MA|  MARANHAO|CONJ. PAULINO NEVES|CJU_MAPLN|  -|2022-12-01 00:30:00|    300.771|               NULL|              319.2|              283.467|                      NULL|              NULL|               NULL|\n",
      "|            N|         NORTE|       MA|  MARANHAO|CONJ. PAULINO NEVES|CJU_MAPLN|  -|2022-12-01 01:00:00|    293.947|               NULL|              319.2|              276.996|                      NULL|              NULL|               NULL|\n",
      "|            N|         NORTE|       MA|  MARANHAO|CONJ. PAULINO NEVES|CJU_MAPLN|  -|2022-12-01 01:30:00|     320.03|               NULL|              319.2|              317.757|                      NULL|              NULL|               NULL|\n",
      "|            N|         NORTE|       MA|  MARANHAO|CONJ. PAULINO NEVES|CJU_MAPLN|  -|2022-12-01 02:00:00|    307.208|               NULL|              319.2|              224.097|                      NULL|              NULL|               NULL|\n",
      "|            N|         NORTE|       MA|  MARANHAO|CONJ. PAULINO NEVES|CJU_MAPLN|  -|2022-12-01 02:30:00|    316.907|               NULL|              319.2|               296.63|                      NULL|              NULL|               NULL|\n",
      "|            N|         NORTE|       MA|  MARANHAO|CONJ. PAULINO NEVES|CJU_MAPLN|  -|2022-12-01 03:00:00|    347.528|               NULL|              319.2|              322.772|                      NULL|              NULL|               NULL|\n",
      "|            N|         NORTE|       MA|  MARANHAO|CONJ. PAULINO NEVES|CJU_MAPLN|  -|2022-12-01 03:30:00|    303.573|               NULL|              319.2|              269.975|                      NULL|              NULL|               NULL|\n",
      "|            N|         NORTE|       MA|  MARANHAO|CONJ. PAULINO NEVES|CJU_MAPLN|  -|2022-12-01 04:00:00|    270.528|               NULL|            318.451|              235.856|                      NULL|              NULL|               NULL|\n",
      "|            N|         NORTE|       MA|  MARANHAO|CONJ. PAULINO NEVES|CJU_MAPLN|  -|2022-12-01 04:30:00|    289.261|               NULL|              316.9|               295.21|                      NULL|              NULL|               NULL|\n",
      "|            N|         NORTE|       MA|  MARANHAO|CONJ. PAULINO NEVES|CJU_MAPLN|  -|2022-12-01 05:00:00|    329.918|               NULL|              316.9|              335.232|                      NULL|              NULL|               NULL|\n",
      "|            N|         NORTE|       MA|  MARANHAO|CONJ. PAULINO NEVES|CJU_MAPLN|  -|2022-12-01 05:30:00|    372.466|               NULL|            314.146|              402.681|                      NULL|              NULL|               NULL|\n",
      "|            N|         NORTE|       MA|  MARANHAO|CONJ. PAULINO NEVES|CJU_MAPLN|  -|2022-12-01 06:00:00|    298.193|               NULL|            316.527|              324.279|                      NULL|              NULL|               NULL|\n",
      "|            N|         NORTE|       MA|  MARANHAO|CONJ. PAULINO NEVES|CJU_MAPLN|  -|2022-12-01 06:30:00|    288.344|               NULL|            312.115|              309.413|                      NULL|              NULL|               NULL|\n",
      "|            N|         NORTE|       MA|  MARANHAO|CONJ. PAULINO NEVES|CJU_MAPLN|  -|2022-12-01 07:00:00|    369.204|               NULL|            310.825|              398.955|                      NULL|              NULL|               NULL|\n",
      "|            N|         NORTE|       MA|  MARANHAO|CONJ. PAULINO NEVES|CJU_MAPLN|  -|2022-12-01 07:30:00|     332.06|               NULL|            303.783|              370.887|                      NULL|              NULL|               NULL|\n",
      "|            N|         NORTE|       MA|  MARANHAO|CONJ. PAULINO NEVES|CJU_MAPLN|  -|2022-12-01 08:00:00|    341.543|               NULL|              307.3|              349.166|                      NULL|              NULL|               NULL|\n",
      "|            N|         NORTE|       MA|  MARANHAO|CONJ. PAULINO NEVES|CJU_MAPLN|  -|2022-12-01 08:30:00|    313.189|               NULL|              307.3|              322.691|                      NULL|              NULL|               NULL|\n",
      "|            N|         NORTE|       MA|  MARANHAO|CONJ. PAULINO NEVES|CJU_MAPLN|  -|2022-12-01 09:00:00|    283.799|               NULL|             307.08|              294.963|                      NULL|              NULL|               NULL|\n",
      "|            N|         NORTE|       MA|  MARANHAO|CONJ. PAULINO NEVES|CJU_MAPLN|  -|2022-12-01 09:30:00|    301.471|               NULL|            301.761|              322.455|                      NULL|              NULL|               NULL|\n",
      "+-------------+--------------+---------+----------+-------------------+---------+---+-------------------+-----------+-------------------+-------------------+---------------------+--------------------------+------------------+-------------------+\n",
      "only showing top 20 rows\n"
     ]
    },
    {
     "data": {
      "text/plain": [
       "9503712"
      ]
     },
     "execution_count": 4,
     "metadata": {},
     "output_type": "execute_result"
    }
   ],
   "source": [
    "parquet_principal = spark.read.parquet(\"../data/data_cleared/dados_principais.parquet\")\n",
    "parquet_principal.show()\n",
    "parquet_principal.count()"
   ]
  },
  {
   "cell_type": "code",
   "execution_count": 5,
   "id": "774787a8-e599-4a51-9000-714898da4dc3",
   "metadata": {},
   "outputs": [
    {
     "name": "stdout",
     "output_type": "stream",
     "text": [
      "+-------------+--------------+---------+----------+-------------------+---------+---+-------------------+-----------+-------------------+-------------------+---------------------+--------------------------+------------------+-------------------+-------------------+----------------------+\n",
      "|id_subsistema|nom_subsistema|id_estado|nom_estado|          nom_usina|   id_ons|ceg|       din_instante|val_geracao|val_geracaolimitada|val_disponibilidade|val_geracaoreferencia|val_geracaoreferenciafinal|cod_razaorestricao|cod_origemrestricao|    constrained_off|percentual_constrained|\n",
      "+-------------+--------------+---------+----------+-------------------+---------+---+-------------------+-----------+-------------------+-------------------+---------------------+--------------------------+------------------+-------------------+-------------------+----------------------+\n",
      "|            N|         NORTE|       MA|  MARANHAO|CONJ. PAULINO NEVES|CJU_MAPLN|  -|2022-12-01 00:00:00|    283.132|               NULL|              319.2|               191.83|                      NULL|              NULL|               NULL| 36.067999999999984|    11.299498746867163|\n",
      "|            N|         NORTE|       MA|  MARANHAO|CONJ. PAULINO NEVES|CJU_MAPLN|  -|2022-12-01 00:30:00|    300.771|               NULL|              319.2|              283.467|                      NULL|              NULL|               NULL| 18.428999999999974|     5.773496240601496|\n",
      "|            N|         NORTE|       MA|  MARANHAO|CONJ. PAULINO NEVES|CJU_MAPLN|  -|2022-12-01 01:00:00|    293.947|               NULL|              319.2|              276.996|                      NULL|              NULL|               NULL| 25.252999999999986|     7.911340852130322|\n",
      "|            N|         NORTE|       MA|  MARANHAO|CONJ. PAULINO NEVES|CJU_MAPLN|  -|2022-12-01 01:30:00|     320.03|               NULL|              319.2|              317.757|                      NULL|              NULL|               NULL|                0.0|                   0.0|\n",
      "|            N|         NORTE|       MA|  MARANHAO|CONJ. PAULINO NEVES|CJU_MAPLN|  -|2022-12-01 02:00:00|    307.208|               NULL|              319.2|              224.097|                      NULL|              NULL|               NULL| 11.991999999999962|     3.756892230576429|\n",
      "|            N|         NORTE|       MA|  MARANHAO|CONJ. PAULINO NEVES|CJU_MAPLN|  -|2022-12-01 02:30:00|    316.907|               NULL|              319.2|               296.63|                      NULL|              NULL|               NULL| 2.2930000000000064|     0.718358395989977|\n",
      "|            N|         NORTE|       MA|  MARANHAO|CONJ. PAULINO NEVES|CJU_MAPLN|  -|2022-12-01 03:00:00|    347.528|               NULL|              319.2|              322.772|                      NULL|              NULL|               NULL|                0.0|                   0.0|\n",
      "|            N|         NORTE|       MA|  MARANHAO|CONJ. PAULINO NEVES|CJU_MAPLN|  -|2022-12-01 03:30:00|    303.573|               NULL|              319.2|              269.975|                      NULL|              NULL|               NULL|  15.62700000000001|     4.895676691729327|\n",
      "|            N|         NORTE|       MA|  MARANHAO|CONJ. PAULINO NEVES|CJU_MAPLN|  -|2022-12-01 04:00:00|    270.528|               NULL|            318.451|              235.856|                      NULL|              NULL|               NULL|             47.923|    15.048783015283357|\n",
      "|            N|         NORTE|       MA|  MARANHAO|CONJ. PAULINO NEVES|CJU_MAPLN|  -|2022-12-01 04:30:00|    289.261|               NULL|              316.9|               295.21|                      NULL|              NULL|               NULL| 27.638999999999953|      8.72167876301671|\n",
      "|            N|         NORTE|       MA|  MARANHAO|CONJ. PAULINO NEVES|CJU_MAPLN|  -|2022-12-01 05:00:00|    329.918|               NULL|              316.9|              335.232|                      NULL|              NULL|               NULL|                0.0|                   0.0|\n",
      "|            N|         NORTE|       MA|  MARANHAO|CONJ. PAULINO NEVES|CJU_MAPLN|  -|2022-12-01 05:30:00|    372.466|               NULL|            314.146|              402.681|                      NULL|              NULL|               NULL|                0.0|                   0.0|\n",
      "|            N|         NORTE|       MA|  MARANHAO|CONJ. PAULINO NEVES|CJU_MAPLN|  -|2022-12-01 06:00:00|    298.193|               NULL|            316.527|              324.279|                      NULL|              NULL|               NULL| 18.334000000000003|     5.792238892732691|\n",
      "|            N|         NORTE|       MA|  MARANHAO|CONJ. PAULINO NEVES|CJU_MAPLN|  -|2022-12-01 06:30:00|    288.344|               NULL|            312.115|              309.413|                      NULL|              NULL|               NULL| 23.771000000000015|     7.616103038943983|\n",
      "|            N|         NORTE|       MA|  MARANHAO|CONJ. PAULINO NEVES|CJU_MAPLN|  -|2022-12-01 07:00:00|    369.204|               NULL|            310.825|              398.955|                      NULL|              NULL|               NULL|                0.0|                   0.0|\n",
      "|            N|         NORTE|       MA|  MARANHAO|CONJ. PAULINO NEVES|CJU_MAPLN|  -|2022-12-01 07:30:00|     332.06|               NULL|            303.783|              370.887|                      NULL|              NULL|               NULL|                0.0|                   0.0|\n",
      "|            N|         NORTE|       MA|  MARANHAO|CONJ. PAULINO NEVES|CJU_MAPLN|  -|2022-12-01 08:00:00|    341.543|               NULL|              307.3|              349.166|                      NULL|              NULL|               NULL|                0.0|                   0.0|\n",
      "|            N|         NORTE|       MA|  MARANHAO|CONJ. PAULINO NEVES|CJU_MAPLN|  -|2022-12-01 08:30:00|    313.189|               NULL|              307.3|              322.691|                      NULL|              NULL|               NULL|                0.0|                   0.0|\n",
      "|            N|         NORTE|       MA|  MARANHAO|CONJ. PAULINO NEVES|CJU_MAPLN|  -|2022-12-01 09:00:00|    283.799|               NULL|             307.08|              294.963|                      NULL|              NULL|               NULL| 23.281000000000006|    7.5814120098997035|\n",
      "|            N|         NORTE|       MA|  MARANHAO|CONJ. PAULINO NEVES|CJU_MAPLN|  -|2022-12-01 09:30:00|    301.471|               NULL|            301.761|              322.455|                      NULL|              NULL|               NULL|0.29000000000002046|   0.09610254472911359|\n",
      "+-------------+--------------+---------+----------+-------------------+---------+---+-------------------+-----------+-------------------+-------------------+---------------------+--------------------------+------------------+-------------------+-------------------+----------------------+\n",
      "only showing top 20 rows\n"
     ]
    }
   ],
   "source": [
    "from pyspark.sql.functions import col, when\n",
    "\n",
    "parquet_principal = parquet_principal.withColumn(\n",
    "    \"constrained_off\",\n",
    "    when(col(\"val_disponibilidade\") - col(\"val_geracao\") > 0,\n",
    "         col(\"val_disponibilidade\") - col(\"val_geracao\"))\n",
    "    .otherwise(0)\n",
    ")\n",
    "\n",
    "parquet_principal = parquet_principal.withColumn(\n",
    "    \"percentual_constrained\",\n",
    "    when(col(\"val_disponibilidade\") > 0,\n",
    "         (col(\"constrained_off\") / col(\"val_disponibilidade\")) * 100)\n",
    "    .otherwise(0)\n",
    ")\n",
    "\n",
    "parquet_principal.show()"
   ]
  },
  {
   "cell_type": "code",
   "execution_count": 6,
   "id": "65c5b08f-402d-432a-9850-c8c11cbfdc38",
   "metadata": {},
   "outputs": [],
   "source": [
    "queries = {\n",
    "            \"anomalia_constrained_off_extremo\": \"\"\"\n",
    "            -- Detectar usinas com constrained-off extremamente alto\n",
    "            SELECT \n",
    "                nom_usina,\n",
    "                nom_estado,\n",
    "                ano,\n",
    "                mes,\n",
    "                AVG(percentual_constrained) as percentual_medio,\n",
    "                MAX(percentual_constrained) as percentual_max,\n",
    "                COUNT(*) as registros\n",
    "            FROM wind_data\n",
    "            WHERE percentual_constrained > 50  -- Mais de 50% de constrained-off\n",
    "            GROUP BY nom_usina, nom_estado, ano, mes\n",
    "            HAVING AVG(percentual_constrained) > 70  -- Média acima de 70%\n",
    "            ORDER BY percentual_medio DESC\n",
    "            \"\"\",\n",
    "            \n",
    "            \"anomalia_variacao_geracao\": \"\"\"\n",
    "            -- Detectar variações bruscas na geração\n",
    "            WITH geracao_stats AS (\n",
    "                SELECT \n",
    "                    nom_usina,\n",
    "                    nom_estado,\n",
    "                    ano,\n",
    "                    mes,\n",
    "                    AVG(val_geracao) as geracao_media,\n",
    "                    STDDEV(val_geracao) as geracao_std\n",
    "                FROM wind_data\n",
    "                GROUP BY nom_usina, nom_estado, ano, mes\n",
    "            )\n",
    "            SELECT \n",
    "                w.nom_usina,\n",
    "                w.nom_estado,\n",
    "                w.din_instante,\n",
    "                w.val_geracao,\n",
    "                gs.geracao_media,\n",
    "                gs.geracao_std,\n",
    "                ABS(w.val_geracao - gs.geracao_media) / gs.geracao_std as z_score\n",
    "            FROM wind_data w\n",
    "            JOIN geracao_stats gs ON w.nom_usina = gs.nom_usina \n",
    "                AND w.ano = gs.ano \n",
    "                AND w.mes = gs.mes\n",
    "            WHERE ABS(w.val_geracao - gs.geracao_media) / gs.geracao_std > 3  -- Z-score > 3\n",
    "            ORDER BY z_score DESC\n",
    "            \"\"\",\n",
    "            \n",
    "            \"anomalia_padrao_temporal\": \"\"\"\n",
    "            -- Detectar padrões temporais anômalos\n",
    "            SELECT \n",
    "                nom_usina,\n",
    "                nom_estado,\n",
    "                hora,\n",
    "                AVG(percentual_constrained) as percentual_medio_hora,\n",
    "                COUNT(*) as registros_hora\n",
    "            FROM wind_data\n",
    "            GROUP BY nom_usina, nom_estado, hora\n",
    "            HAVING AVG(percentual_constrained) > (\n",
    "                SELECT AVG(percentual_constrained) * 1.5 \n",
    "                FROM wind_data \n",
    "                WHERE nom_usina = wind_data.nom_usina\n",
    "            )\n",
    "            ORDER BY percentual_medio_hora DESC\n",
    "            \"\"\",\n",
    "            \n",
    "            \"anomalia_correlacao_vento_geracao\": \"\"\"\n",
    "            -- Correlação entre vento e geração (usando dados de detalhamento)\n",
    "            SELECT \n",
    "                w.nom_usina,\n",
    "                w.nom_estado,\n",
    "                w.ano,\n",
    "                w.mes,\n",
    "                CORR(w.val_geracao, d.val_ventoverificado) as correlacao_vento_geracao,\n",
    "                AVG(w.percentual_constrained) as percentual_constrained_medio\n",
    "            FROM wind_data w\n",
    "            JOIN wind_detail d ON w.nom_usina = d.nom_usina \n",
    "                AND w.din_instante = d.din_instante\n",
    "            GROUP BY w.nom_usina, w.nom_estado, w.ano, w.mes\n",
    "            HAVING CORR(w.val_geracao, d.val_ventoverificado) < 0.3  -- Baixa correlação\n",
    "                AND AVG(w.percentual_constrained) > 20  -- Alto constrained-off\n",
    "            ORDER BY percentual_constrained_medio DESC\n",
    "            \"\"\",\n",
    "            \n",
    "            \"anomalia_tendencia_temporal\": \"\"\"\n",
    "            -- Detectar tendências temporais anômalas\n",
    "            WITH monthly_trends AS (\n",
    "                SELECT \n",
    "                    nom_usina,\n",
    "                    nom_estado,\n",
    "                    ano,\n",
    "                    mes,\n",
    "                    AVG(percentual_constrained) as percentual_medio,\n",
    "                    LAG(AVG(percentual_constrained), 1) OVER (\n",
    "                        PARTITION BY nom_usina \n",
    "                        ORDER BY ano, mes\n",
    "                    ) as percentual_anterior\n",
    "                FROM wind_data\n",
    "                GROUP BY nom_usina, nom_estado, ano, mes\n",
    "            )\n",
    "            SELECT \n",
    "                nom_usina,\n",
    "                nom_estado,\n",
    "                ano,\n",
    "                mes,\n",
    "                percentual_medio,\n",
    "                percentual_anterior,\n",
    "                (percentual_medio - percentual_anterior) as variacao,\n",
    "                CASE \n",
    "                    WHEN (percentual_medio - percentual_anterior) > 20 THEN 'AUMENTO_BRUSCO'\n",
    "                    WHEN (percentual_medio - percentual_anterior) < -20 THEN 'DIMINUICAO_BRUSCA'\n",
    "                    ELSE 'NORMAL'\n",
    "                END as tipo_anomalia\n",
    "            FROM monthly_trends\n",
    "            WHERE percentual_anterior IS NOT NULL\n",
    "                AND ABS(percentual_medio - percentual_anterior) > 20\n",
    "            ORDER BY ABS(percentual_medio - percentual_anterior) DESC\n",
    "            \"\"\",\n",
    "            \n",
    "            \"anomalia_cluster_espacial\": \"\"\"\n",
    "            -- Detectar clusters espaciais de anomalias\n",
    "            WITH state_anomalies AS (\n",
    "                SELECT \n",
    "                    nom_estado,\n",
    "                    ano,\n",
    "                    mes,\n",
    "                    AVG(percentual_constrained) as percentual_estado,\n",
    "                    COUNT(DISTINCT nom_usina) as num_usinas_afetadas\n",
    "                FROM wind_data\n",
    "                WHERE percentual_constrained > 30\n",
    "                GROUP BY nom_estado, ano, mes\n",
    "            )\n",
    "            SELECT \n",
    "                nom_estado,\n",
    "                ano,\n",
    "                mes,\n",
    "                percentual_estado,\n",
    "                num_usinas_afetadas,\n",
    "                CASE \n",
    "                    WHEN percentual_estado > 50 AND num_usinas_afetadas > 5 THEN 'CLUSTER_CRITICO'\n",
    "                    WHEN percentual_estado > 30 AND num_usinas_afetadas > 3 THEN 'CLUSTER_MODERADO'\n",
    "                    ELSE 'ISOLADO'\n",
    "                END as tipo_cluster\n",
    "            FROM state_anomalies\n",
    "            WHERE percentual_estado > 30\n",
    "            ORDER BY percentual_estado DESC, num_usinas_afetadas DESC\n",
    "            \"\"\"\n",
    "        }"
   ]
  },
  {
   "cell_type": "code",
   "execution_count": 7,
   "id": "30d59148-bd30-42ff-9dc8-0e9752ac57de",
   "metadata": {},
   "outputs": [],
   "source": [
    "from pyspark.sql.functions import year, month, hour, to_timestamp\n",
    "\n",
    "parquet_principal = parquet_principal.withColumn(\"ano\", year(\"din_instante\"))\n",
    "parquet_principal = parquet_principal.withColumn(\"mes\", month(\"din_instante\"))\n",
    "parquet_principal = parquet_principal.withColumn(\"hora\", hour(\"din_instante\"))\n",
    "\n",
    "parquet_principal.createOrReplaceTempView(\"wind_data\")"
   ]
  },
  {
   "cell_type": "code",
   "execution_count": 8,
   "id": "cfdb2925-7453-4e36-9064-359cc9106932",
   "metadata": {},
   "outputs": [],
   "source": [
    "parquet_detalhado = parquet_detalhado.withColumn(\"din_instante\", to_timestamp(\"din_instante\"))\n",
    "parquet_detalhado.createOrReplaceTempView(\"wind_detail\")"
   ]
  },
  {
   "cell_type": "code",
   "execution_count": 9,
   "id": "b9bddfde-8a5b-43bf-8329-0ec7e501fe26",
   "metadata": {},
   "outputs": [],
   "source": [
    "resultados = {}\n",
    "for nome, query in queries.items():\n",
    "    resultados[nome] = spark.sql(query)"
   ]
  },
  {
   "cell_type": "code",
   "execution_count": 10,
   "id": "fd0d31f1-62a9-421c-887a-8fd4e23079f2",
   "metadata": {},
   "outputs": [
    {
     "name": "stderr",
     "output_type": "stream",
     "text": [
      "[Stage 11:==============================================>           (4 + 1) / 5]"
     ]
    },
    {
     "name": "stdout",
     "output_type": "stream",
     "text": [
      "+---------------------------+----------+----+---+----------------+--------------+---------+\n",
      "|nom_usina                  |nom_estado|ano |mes|percentual_medio|percentual_max|registros|\n",
      "+---------------------------+----------+----+---+----------------+--------------+---------+\n",
      "|CONJ. MORRO DO CHAPÉU SUL 2|BAHIA     |2022|12 |100.0           |100.0         |1488     |\n",
      "|CONJ. SERROTE              |CEARA     |2022|9  |100.0           |100.0         |1392     |\n",
      "|CONJ. MORRO DO CHAPÉU SUL 2|BAHIA     |2022|8  |100.0           |100.0         |1488     |\n",
      "|CONJ. LICÍNIO DE ALMEIDA   |BAHIA     |2022|12 |100.0           |100.0         |1488     |\n",
      "|CONJ. PLANALTINA           |BAHIA     |2022|11 |100.0           |100.0         |1440     |\n",
      "|CONJ. ALVORADA             |BAHIA     |2022|8  |100.0           |100.0         |1488     |\n",
      "|CONJ. LICÍNIO DE ALMEIDA   |BAHIA     |2022|9  |100.0           |100.0         |1392     |\n",
      "|CONJ. PLANALTINA           |BAHIA     |2022|8  |100.0           |100.0         |1488     |\n",
      "|CONJ. VENTOS DE SÃO ROQUE B|PIAUI     |2023|4  |100.0           |100.0         |1440     |\n",
      "|CONJ. SERROTE              |CEARA     |2023|6  |100.0           |100.0         |1440     |\n",
      "|CONJ. ALVORADA             |BAHIA     |2022|9  |100.0           |100.0         |1392     |\n",
      "|CONJ. GUIRAPÁ              |BAHIA     |2022|8  |100.0           |100.0         |1488     |\n",
      "|CONJ. SERROTE              |CEARA     |2023|2  |100.0           |100.0         |1344     |\n",
      "|CONJ. SERROTE              |CEARA     |2022|8  |100.0           |100.0         |1488     |\n",
      "|CONJ. LICÍNIO DE ALMEIDA   |BAHIA     |2022|11 |100.0           |100.0         |1440     |\n",
      "|CONJ. ALVORADA             |BAHIA     |2022|12 |100.0           |100.0         |1488     |\n",
      "|CONJ. PLANALTINA           |BAHIA     |2022|9  |100.0           |100.0         |1392     |\n",
      "|CONJ. SÃO BASÍLIO          |PIAUI     |2023|6  |100.0           |100.0         |1438     |\n",
      "|CONJ. VENTOS DE SÃO ROQUE B|PIAUI     |2022|12 |100.0           |100.0         |1488     |\n",
      "|CONJ. SANTA EUGÊNIA        |BAHIA     |2022|8  |100.0           |100.0         |76       |\n",
      "+---------------------------+----------+----+---+----------------+--------------+---------+\n",
      "only showing top 20 rows\n"
     ]
    },
    {
     "name": "stderr",
     "output_type": "stream",
     "text": [
      "                                                                                "
     ]
    }
   ],
   "source": [
    "resultados[\"anomalia_constrained_off_extremo\"].show(truncate=False)"
   ]
  },
  {
   "cell_type": "code",
   "execution_count": null,
   "id": "8035a464-8e2b-47e9-9c5b-c8fe789b301f",
   "metadata": {},
   "outputs": [
    {
     "name": "stderr",
     "output_type": "stream",
     "text": [
      "INFO:__main__:Encontradas 2880946 ocorrências de constrained-off extremo (>70%)\n",
      "INFO:__main__:Top 10 usinas com mais constrained-off extremo:                   \n",
      "INFO:__main__:CONJ. SANTA VITÓRIA DO PALMAR (RIO GRANDE DO SUL): 7628958.17 MW, 21179 eventos\n",
      "INFO:__main__:CONJ. LAGOA DOS BARROS (RIO GRANDE DO SUL): 6888151.20 MW, 28326 eventos\n",
      "INFO:__main__:CONJ. PEDRA BRANCA (BAHIA): 5619875.67 MW, 26503 eventos\n",
      "INFO:__main__:CONJ. SANTA CLARA (RIO GRANDE DO NORTE): 5487550.83 MW, 35303 eventos\n",
      "INFO:__main__:CONJ. MORRO DO CHAPÉU SUL 2 (BAHIA): 5426057.63 MW, 17489 eventos\n",
      "INFO:__main__:CONJ. SERRA DA BABILÔNIA (BAHIA): 5213800.84 MW, 17968 eventos\n",
      "INFO:__main__:CONJ. CAJU (RIO GRANDE DO NORTE): 4904370.78 MW, 15407 eventos\n",
      "INFO:__main__:CONJ. CAMPO LARGO 2 (BAHIA): 4752770.84 MW, 15915 eventos\n",
      "INFO:__main__:CONJ. LAGOA DOS VENTOS (PIAUI): 4649226.98 MW, 12182 eventos\n",
      "INFO:__main__:CONJ. CUTIA (RIO GRANDE DO NORTE): 4604494.50 MW, 19789 eventos\n"
     ]
    }
   ],
   "source": [
    "import logging\n",
    "from pyspark.sql.functions import col, mean, max as spark_max, min as spark_min, count, sum as spark_sum\n",
    "\n",
    "logging.basicConfig(level=logging.INFO)\n",
    "logger = logging.getLogger(__name__)\n",
    "\n",
    "extreme_constrained = parquet_principal.filter(col(\"percentual_constrained\") > 70)\n",
    "\n",
    "count_extremos = extreme_constrained.count()\n",
    "if count_extremos > 0:\n",
    "    logger.info(f\"Encontradas {count_extremos} ocorrências de constrained-off extremo (>70%)\")\n",
    "        \n",
    "    usina_analysis = extreme_constrained.groupBy(\"nom_usina\", \"nom_estado\") \\\n",
    "        .agg(\n",
    "            mean(\"percentual_constrained\").alias(\"percentual_medio\"),\n",
    "            spark_max(\"percentual_constrained\").alias(\"percentual_max\"),\n",
    "            count(\"*\").alias(\"ocorrencias\"),\n",
    "            spark_sum(\"constrained_off\").alias(\"constrained_off_total\"),\n",
    "            spark_min(\"din_instante\").alias(\"primeiro_evento\"),\n",
    "            spark_max(\"din_instante\").alias(\"ultimo_evento\")\n",
    "        )\n",
    "\n",
    "    top_usinas = usina_analysis.orderBy(col(\"constrained_off_total\").desc()).limit(10).collect()\n",
    "\n",
    "    logger.info(\"Top 10 usinas com mais constrained-off extremo:\")\n",
    "    for row in top_usinas:\n",
    "        logger.info(f\"{row['nom_usina']} ({row['nom_estado']}): {row['constrained_off_total']:.2f} MW, {row['ocorrencias']} eventos\")"
   ]
  },
  {
   "cell_type": "code",
   "execution_count": null,
   "id": "a7f8015e-8f07-4ff0-9840-165fd8b7e00e",
   "metadata": {},
   "outputs": [],
   "source": []
  }
 ],
 "metadata": {
  "kernelspec": {
   "display_name": "Python 3 (ipykernel)",
   "language": "python",
   "name": "python3"
  },
  "language_info": {
   "codemirror_mode": {
    "name": "ipython",
    "version": 3
   },
   "file_extension": ".py",
   "mimetype": "text/x-python",
   "name": "python",
   "nbconvert_exporter": "python",
   "pygments_lexer": "ipython3",
   "version": "3.13.5"
  }
 },
 "nbformat": 4,
 "nbformat_minor": 5
}
