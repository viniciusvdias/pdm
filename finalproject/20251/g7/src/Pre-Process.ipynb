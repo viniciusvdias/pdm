{
 "cells": [
  {
   "cell_type": "markdown",
   "id": "2665f558-53d8-4586-bfa4-43830aa5384f",
   "metadata": {},
   "source": [
    "# Pré-Processamento: SparkSQL"
   ]
  },
  {
   "cell_type": "markdown",
   "id": "d78793a7-6d38-4794-a7d1-6b2c0e57ca8f",
   "metadata": {},
   "source": [
    "### Step 1: Start Spark Session"
   ]
  },
  {
   "cell_type": "code",
   "execution_count": 1,
   "id": "6991433e-339e-4dde-a08d-d31ce0c45a54",
   "metadata": {},
   "outputs": [
    {
     "name": "stdout",
     "output_type": "stream",
     "text": [
      "SparkContext not defined\n"
     ]
    },
    {
     "name": "stderr",
     "output_type": "stream",
     "text": [
      "WARNING: Using incubator modules: jdk.incubator.vector\n",
      ":: loading settings :: url = jar:file:/app/.venv/lib/python3.13/site-packages/pyspark/jars/ivy-2.5.3.jar!/org/apache/ivy/core/settings/ivysettings.xml\n",
      "Ivy Default Cache set to: /root/.ivy2.5.2/cache\n",
      "The jars for the packages stored in: /root/.ivy2.5.2/jars\n",
      "org.xerial.snappy#snappy-java added as a dependency\n",
      ":: resolving dependencies :: org.apache.spark#spark-submit-parent-b6d0f42a-5364-4bff-b07d-fd9fce39de84;1.0\n",
      "\tconfs: [default]\n",
      "\tfound org.xerial.snappy#snappy-java;1.1.10.1 in central\n",
      "downloading https://repo1.maven.org/maven2/org/xerial/snappy/snappy-java/1.1.10.1/snappy-java-1.1.10.1.jar ...\n",
      "\t[SUCCESSFUL ] org.xerial.snappy#snappy-java;1.1.10.1!snappy-java.jar(bundle) (1138ms)\n",
      ":: resolution report :: resolve 1597ms :: artifacts dl 1142ms\n",
      "\t:: modules in use:\n",
      "\torg.xerial.snappy#snappy-java;1.1.10.1 from central in [default]\n",
      "\t---------------------------------------------------------------------\n",
      "\t|                  |            modules            ||   artifacts   |\n",
      "\t|       conf       | number| search|dwnlded|evicted|| number|dwnlded|\n",
      "\t---------------------------------------------------------------------\n",
      "\t|      default     |   1   |   1   |   1   |   0   ||   1   |   1   |\n",
      "\t---------------------------------------------------------------------\n",
      ":: retrieving :: org.apache.spark#spark-submit-parent-b6d0f42a-5364-4bff-b07d-fd9fce39de84\n",
      "\tconfs: [default]\n",
      "\t1 artifacts copied, 0 already retrieved (1732kB/15ms)\n",
      "25/07/02 22:28:03 WARN NativeCodeLoader: Unable to load native-hadoop library for your platform... using builtin-java classes where applicable\n",
      "Using Spark's default log4j profile: org/apache/spark/log4j2-defaults.properties\n",
      "Setting default log level to \"WARN\".\n",
      "To adjust logging level use sc.setLogLevel(newLevel). For SparkR, use setLogLevel(newLevel).\n"
     ]
    }
   ],
   "source": [
    "from pyspark.sql import SparkSession\n",
    "\n",
    "try:\n",
    "    spark.stop()\n",
    "except NameError:\n",
    "    print(\"SparkContext not defined\")\n",
    "\n",
    "# local mode\n",
    "spark = SparkSession.builder \\\n",
    "            .appName(\"Spark SQL\") \\\n",
    "            .master(\"local[*]\") \\\n",
    "\t    \t.config(\"spark.jars.packages\", \"org.xerial.snappy:snappy-java:1.1.10.1\") \\\n",
    "\t    \t.getOrCreate()\n",
    "\n",
    "# cluster mode\n",
    "#spark = SparkSession.builder \\\n",
    "#            .appName(\"Spark SQL basic example\") \\\n",
    "#            .master(\"spark://spark:7077\") \\\n",
    "#\t    \t.config(\"spark.some.config.option\", \"some-value\") \\\n",
    "#\t    \t.getOrCreate()"
   ]
  },
  {
   "cell_type": "code",
   "execution_count": 3,
   "id": "9d8ca032-e731-41e0-b385-d791eff47fbe",
   "metadata": {},
   "outputs": [
    {
     "name": "stdout",
     "output_type": "stream",
     "text": [
      "Pasta /app/data/data_raw não encontrada. Baixando os dados...\n"
     ]
    },
    {
     "name": "stderr",
     "output_type": "stream",
     "text": [
      "Downloading...\n",
      "From (original): https://drive.google.com/uc?export=download&id=1wLFeP8SPEuq_Ac6cPZTFE4PlR3bYdMRP\n",
      "From (redirected): https://drive.google.com/uc?export=download&id=1wLFeP8SPEuq_Ac6cPZTFE4PlR3bYdMRP&confirm=t&uuid=56c8f1bd-8f35-4098-8c13-3ce93da9fc9c\n",
      "To: /app/data/data_raw.zip\n",
      "100%|██████████| 1.41G/1.41G [04:51<00:00, 4.84MB/s]\n"
     ]
    },
    {
     "name": "stdout",
     "output_type": "stream",
     "text": [
      "Download e extração concluídos.\n"
     ]
    }
   ],
   "source": [
    "from pathlib import Path\n",
    "import gdown\n",
    "import zipfile\n",
    "\n",
    "ROOT_DIR = Path.cwd().parent\n",
    "data_path = ROOT_DIR / \"data\"\n",
    "data_raw_path = data_path / \"data_raw\"\n",
    "zip_path = data_path / \"data_raw.zip\"\n",
    "file_id = \"1wLFeP8SPEuq_Ac6cPZTFE4PlR3bYdMRP\"\n",
    "download_url = f\"https://drive.google.com/uc?export=download&id={file_id}\"\n",
    "\n",
    "if not data_path.exists() or not data_raw_path.exists():\n",
    "    print(f\"Pasta {data_raw_path} não encontrada. Baixando os dados...\")\n",
    "    \n",
    "    data_path.mkdir(parents=True, exist_ok=True)\n",
    "\n",
    "    gdown.download(download_url, str(zip_path), quiet=False)\n",
    "\n",
    "    with zipfile.ZipFile(zip_path, 'r') as zip_ref:\n",
    "        zip_ref.extractall(data_path)\n",
    "\n",
    "    zip_path.unlink()\n",
    "\n",
    "    print(\"Download e extração concluídos.\")\n",
    "else:\n",
    "    print(f\"Pasta {data_raw_path} encontrada.\")"
   ]
  },
  {
   "cell_type": "code",
   "execution_count": 4,
   "id": "5d0cb7a4-6fad-4b23-a91a-fc5472b9c4ec",
   "metadata": {},
   "outputs": [],
   "source": [
    "import glob\n",
    "\n",
    "arquivos_detalhados = glob.glob(\"../data/data_raw/**/*_DETAIL_*.csv\", recursive=True)\n",
    "\n",
    "arquivos_principais = [\n",
    "    arq for arq in glob.glob(\"../data/data_raw/**/*.csv\", recursive=True)\n",
    "    if \"_DETAIL_\" not in arq\n",
    "]"
   ]
  },
  {
   "cell_type": "code",
   "execution_count": null,
   "id": "036544d2-64ad-4c94-a4e8-c5407f4cc853",
   "metadata": {},
   "outputs": [],
   "source": [
    "arquivos_detalhados = \"../datasample/RESTRICAO_COFF_EOLICA_DETAIL_2025_05_amostra.csv\"\n",
    "\n",
    "arquivos_principais = \"../datasample/RESTRICAO_COFF_EOLICA_2025_05_amostra.csv\""
   ]
  },
  {
   "cell_type": "code",
   "execution_count": 5,
   "id": "a1c59fd8-fdba-452c-b370-440bb15f88f4",
   "metadata": {},
   "outputs": [
    {
     "name": "stderr",
     "output_type": "stream",
     "text": [
      "                                                                                "
     ]
    }
   ],
   "source": [
    "df_detalhado = spark.read.option(\"delimiter\", \";\").option(\"header\", True).option(\"inferSchema\", True).csv(arquivos_detalhados)\n",
    "\n",
    "df_principal = spark.read.option(\"delimiter\", \";\").option(\"header\", True).option(\"inferSchema\", True).csv(arquivos_principais)"
   ]
  },
  {
   "cell_type": "code",
   "execution_count": 6,
   "id": "3fae5c2d-482b-4d68-982a-525cd4404cce",
   "metadata": {},
   "outputs": [
    {
     "name": "stdout",
     "output_type": "stream",
     "text": [
      "+-------------+---------+----------------------+--------------------+------------+------+--------------------+-------------------+-------------------+---------------------+-------------------+---------------------+\n",
      "|id_subsistema|id_estado|nom_modalidadeoperacao|   nom_conjuntousina|   nom_usina|id_ons|                 ceg|       din_instante|val_ventoverificado|flg_dadoventoinvalido|val_geracaoestimada|val_geracaoverificada|\n",
      "+-------------+---------+----------------------+--------------------+------------+------+--------------------+-------------------+-------------------+---------------------+-------------------+---------------------+\n",
      "|            N|       MA|             Tipo II-C| Conj. Paulino Neves|   Delta 3 I|MAEDT1|EOL.CV.MA.033682-...|2023-09-01 00:00:00|              9.249|                  0.0|             25.291|                23.24|\n",
      "|            N|       MA|             Tipo II-C| Conj. Paulino Neves|  Delta 3 II|MAEDT2|EOL.CV.MA.033683-...|2023-09-01 00:00:00|             10.424|                  0.0|             27.589|               23.898|\n",
      "|            N|       MA|             Tipo II-C| Conj. Paulino Neves| Delta 3 III|MAEDT3|EOL.CV.MA.033684-...|2023-09-01 00:00:00|             10.276|                  1.0|                0.0|               25.943|\n",
      "|            N|       MA|             Tipo II-C| Conj. Paulino Neves|  Delta 3 IV|MAEDT4|EOL.CV.MA.033685-...|2023-09-01 00:00:00|             11.138|                  0.0|             28.679|               22.929|\n",
      "|            N|       MA|             Tipo II-C| Conj. Paulino Neves|   Delta 3 V|MAEDT5|EOL.CV.MA.033675-...|2023-09-01 00:00:00|             10.949|                  0.0|             26.544|               26.531|\n",
      "|            N|       MA|             Tipo II-C| Conj. Paulino Neves|  Delta 3 VI|MAEDT6|EOL.CV.MA.033673-...|2023-09-01 00:00:00|              9.382|                  0.0|             25.585|               26.934|\n",
      "|            N|       MA|             Tipo II-C| Conj. Paulino Neves| Delta 3 VII|MAEDT7|EOL.CV.MA.033680-...|2023-09-01 00:00:00|             11.027|                  0.0|             27.567|               27.575|\n",
      "|            N|       MA|             Tipo II-C| Conj. Paulino Neves|Delta 3 VIII|MAEDT8|EOL.CV.MA.033686-...|2023-09-01 00:00:00|              8.829|                  0.0|             21.213|               22.934|\n",
      "|            N|       MA|             Tipo II-C| Conj. Paulino Neves|   Delta 5 I|MAEDC1|EOL.CV.MA.037976-...|2023-09-01 00:00:00|             11.586|                  0.0|             26.514|               22.336|\n",
      "|            N|       MA|             Tipo II-C| Conj. Paulino Neves|  Delta 5 II|MAEDC2|EOL.CV.MA.037972-...|2023-09-01 00:00:00|                9.9|                  1.0|                0.0|               25.772|\n",
      "|            N|       MA|             Tipo II-C| Conj. Paulino Neves|   Delta 6 I|MAEDS1|EOL.CV.MA.037970-...|2023-09-01 00:00:00|                9.9|                  1.0|                0.0|               28.462|\n",
      "|            N|       MA|             Tipo II-C| Conj. Paulino Neves|  Delta 6 II|MAEDS2|EOL.CV.MA.037967-...|2023-09-01 00:00:00|               41.5|                  1.0|             11.527|               23.095|\n",
      "|            N|       MA|             Tipo II-C| Conj. Paulino Neves|   Delta 7 I|MAED7I|EOL.CV.MA.040572-...|2023-09-01 00:00:00|             10.925|                  0.0|             25.046|               23.093|\n",
      "|            N|       MA|             Tipo II-C| Conj. Paulino Neves|  Delta 7 II|MAED72|EOL.CV.MA.040573-...|2023-09-01 00:00:00|              9.107|                  0.0|             24.772|                29.69|\n",
      "|            N|       MA|             Tipo II-C| Conj. Paulino Neves|   Delta 8 I|MAED8I|EOL.CV.MA.040574-...|2023-09-01 00:00:00|                4.0|                  1.0|                0.0|               28.389|\n",
      "|           NE|       BA|             Tipo II-C|Conj. Eólico Pind...|        Abil|BAEABL|EOL.CV.BA.031402-...|2023-09-01 00:00:00|             11.794|                  1.0|                0.0|               13.599|\n",
      "|           NE|       BA|             Tipo II-C|   Conj. Tamboril II|      Acácia|BAECAC|EOL.CV.BA.031418-...|2023-09-01 00:00:00|             10.757|                  0.0|              12.77|                5.651|\n",
      "|           NE|       BA|             Tipo II-C|       Conj. GPEXPAN|       Acauã|BAEACU|EOL.CV.BA.031433-...|2023-09-01 00:00:00|                4.4|                  1.0|                0.0|                5.989|\n",
      "|           NE|       BA|             Tipo II-C|    Conj. Igaporã II|    Alvorada|BAUEAV|EOL.CV.BA.030320-...|2023-09-01 00:00:00|              9.808|                  0.0|              5.741|                4.237|\n",
      "|           NE|       BA|             Tipo II-C|Conj. Eólico Igap...|     Amescla|BAEAMC|EOL.CV.BA.032090-...|2023-09-01 00:00:00|              6.655|                  0.0|              2.755|                3.617|\n",
      "+-------------+---------+----------------------+--------------------+------------+------+--------------------+-------------------+-------------------+---------------------+-------------------+---------------------+\n",
      "only showing top 20 rows\n"
     ]
    },
    {
     "name": "stderr",
     "output_type": "stream",
     "text": [
      "                                                                                "
     ]
    },
    {
     "data": {
      "text/plain": [
       "55577477"
      ]
     },
     "execution_count": 6,
     "metadata": {},
     "output_type": "execute_result"
    }
   ],
   "source": [
    "df_detalhado.show()\n",
    "df_detalhado.count()"
   ]
  },
  {
   "cell_type": "code",
   "execution_count": 7,
   "id": "49aa1473-7303-412c-8111-61636d978cb4",
   "metadata": {},
   "outputs": [
    {
     "name": "stdout",
     "output_type": "stream",
     "text": [
      "+-------------+--------------+---------+----------+-------------------+---------+---+-------------------+-----------+-------------------+-------------------+---------------------+--------------------------+------------------+-------------------+\n",
      "|id_subsistema|nom_subsistema|id_estado|nom_estado|          nom_usina|   id_ons|ceg|       din_instante|val_geracao|val_geracaolimitada|val_disponibilidade|val_geracaoreferencia|val_geracaoreferenciafinal|cod_razaorestricao|cod_origemrestricao|\n",
      "+-------------+--------------+---------+----------+-------------------+---------+---+-------------------+-----------+-------------------+-------------------+---------------------+--------------------------+------------------+-------------------+\n",
      "|            N|         NORTE|       MA|  MARANHAO|CONJ. PAULINO NEVES|CJU_MAPLN|  -|2024-08-01 00:00:00|    156.526|               NULL|              396.4|              169.492|                      NULL|              NULL|               NULL|\n",
      "|            N|         NORTE|       MA|  MARANHAO|CONJ. PAULINO NEVES|CJU_MAPLN|  -|2024-08-01 00:30:00|    157.177|               NULL|            395.178|              169.216|                      NULL|              NULL|               NULL|\n",
      "|            N|         NORTE|       MA|  MARANHAO|CONJ. PAULINO NEVES|CJU_MAPLN|  -|2024-08-01 01:00:00|    156.568|               NULL|              394.1|              171.713|                      NULL|              NULL|               NULL|\n",
      "|            N|         NORTE|       MA|  MARANHAO|CONJ. PAULINO NEVES|CJU_MAPLN|  -|2024-08-01 01:30:00|     173.69|               NULL|            395.122|              173.383|                      NULL|              NULL|               NULL|\n",
      "|            N|         NORTE|       MA|  MARANHAO|CONJ. PAULINO NEVES|CJU_MAPLN|  -|2024-08-01 02:00:00|    189.261|               NULL|            396.395|              187.216|                      NULL|              NULL|               NULL|\n",
      "|            N|         NORTE|       MA|  MARANHAO|CONJ. PAULINO NEVES|CJU_MAPLN|  -|2024-08-01 02:30:00|    187.104|               NULL|              394.1|              176.753|                      NULL|              NULL|               NULL|\n",
      "|            N|         NORTE|       MA|  MARANHAO|CONJ. PAULINO NEVES|CJU_MAPLN|  -|2024-08-01 03:00:00|    172.845|               NULL|            395.788|              172.478|                      NULL|              NULL|               NULL|\n",
      "|            N|         NORTE|       MA|  MARANHAO|CONJ. PAULINO NEVES|CJU_MAPLN|  -|2024-08-01 03:30:00|    222.607|               NULL|              396.4|              215.115|                      NULL|              NULL|               NULL|\n",
      "|            N|         NORTE|       MA|  MARANHAO|CONJ. PAULINO NEVES|CJU_MAPLN|  -|2024-08-01 04:00:00|    320.458|               NULL|            393.681|              304.882|                      NULL|              NULL|               NULL|\n",
      "|            N|         NORTE|       MA|  MARANHAO|CONJ. PAULINO NEVES|CJU_MAPLN|  -|2024-08-01 04:30:00|    378.134|               NULL|            395.143|              360.032|                      NULL|              NULL|               NULL|\n",
      "|            N|         NORTE|       MA|  MARANHAO|CONJ. PAULINO NEVES|CJU_MAPLN|  -|2024-08-01 05:00:00|    393.394|               NULL|            394.032|              393.207|                      NULL|              NULL|               NULL|\n",
      "|            N|         NORTE|       MA|  MARANHAO|CONJ. PAULINO NEVES|CJU_MAPLN|  -|2024-08-01 05:30:00|    399.355|               NULL|            394.561|              397.929|                      NULL|              NULL|               NULL|\n",
      "|            N|         NORTE|       MA|  MARANHAO|CONJ. PAULINO NEVES|CJU_MAPLN|  -|2024-08-01 06:00:00|    375.536|               NULL|            393.378|              380.421|                      NULL|              NULL|               NULL|\n",
      "|            N|         NORTE|       MA|  MARANHAO|CONJ. PAULINO NEVES|CJU_MAPLN|  -|2024-08-01 06:30:00|    288.924|               NULL|            389.497|              287.596|                      NULL|              NULL|               NULL|\n",
      "|            N|         NORTE|       MA|  MARANHAO|CONJ. PAULINO NEVES|CJU_MAPLN|  -|2024-08-01 07:00:00|     170.44|               NULL|             391.89|              178.993|                      NULL|              NULL|               NULL|\n",
      "|            N|         NORTE|       MA|  MARANHAO|CONJ. PAULINO NEVES|CJU_MAPLN|  -|2024-08-01 07:30:00|     56.911|               NULL|            329.403|               84.448|                      NULL|              NULL|               NULL|\n",
      "|            N|         NORTE|       MA|  MARANHAO|CONJ. PAULINO NEVES|CJU_MAPLN|  -|2024-08-01 08:00:00|     16.328|               NULL|            271.534|               52.918|                      NULL|              NULL|               NULL|\n",
      "|            N|         NORTE|       MA|  MARANHAO|CONJ. PAULINO NEVES|CJU_MAPLN|  -|2024-08-01 08:30:00|     15.833|               NULL|            321.474|               55.434|                      NULL|              NULL|               NULL|\n",
      "|            N|         NORTE|       MA|  MARANHAO|CONJ. PAULINO NEVES|CJU_MAPLN|  -|2024-08-01 09:00:00|      9.335|               NULL|            272.177|               35.435|                      NULL|              NULL|               NULL|\n",
      "|            N|         NORTE|       MA|  MARANHAO|CONJ. PAULINO NEVES|CJU_MAPLN|  -|2024-08-01 09:30:00|      0.786|               NULL|            111.108|               20.238|                      NULL|              NULL|               NULL|\n",
      "+-------------+--------------+---------+----------+-------------------+---------+---+-------------------+-----------+-------------------+-------------------+---------------------+--------------------------+------------------+-------------------+\n",
      "only showing top 20 rows\n"
     ]
    },
    {
     "name": "stderr",
     "output_type": "stream",
     "text": [
      "                                                                                "
     ]
    },
    {
     "data": {
      "text/plain": [
       "9503712"
      ]
     },
     "execution_count": 7,
     "metadata": {},
     "output_type": "execute_result"
    }
   ],
   "source": [
    "df_principal.show()\n",
    "df_principal.count()"
   ]
  },
  {
   "cell_type": "code",
   "execution_count": 10,
   "id": "4896424f-62cf-466c-ba76-97554d4ca211",
   "metadata": {
    "scrolled": true
   },
   "outputs": [
    {
     "name": "stderr",
     "output_type": "stream",
     "text": [
      "                                                                                "
     ]
    }
   ],
   "source": [
    "df_detalhado.write.option(\"compression\", \"uncompressed\").mode(\"overwrite\").parquet(\"../data/data_cleared/dados_detalhados.parquet\")"
   ]
  },
  {
   "cell_type": "code",
   "execution_count": 9,
   "id": "66edea96-18c8-461a-ae01-f709c062de50",
   "metadata": {
    "scrolled": true
   },
   "outputs": [
    {
     "name": "stderr",
     "output_type": "stream",
     "text": [
      "                                                                                "
     ]
    }
   ],
   "source": [
    "df_principal.write.option(\"compression\", \"uncompressed\").mode(\"overwrite\").parquet(\"../data/data_cleared/dados_principais.parquet\")"
   ]
  },
  {
   "cell_type": "code",
   "execution_count": null,
   "id": "693900fe-e900-4b02-b80d-2b32c1aeaf82",
   "metadata": {},
   "outputs": [],
   "source": []
  }
 ],
 "metadata": {
  "kernelspec": {
   "display_name": "Python 3 (ipykernel)",
   "language": "python",
   "name": "python3"
  },
  "language_info": {
   "codemirror_mode": {
    "name": "ipython",
    "version": 3
   },
   "file_extension": ".py",
   "mimetype": "text/x-python",
   "name": "python",
   "nbconvert_exporter": "python",
   "pygments_lexer": "ipython3",
   "version": "3.13.5"
  }
 },
 "nbformat": 4,
 "nbformat_minor": 5
}
