{
 "cells": [
  {
   "cell_type": "markdown",
   "id": "2665f558-53d8-4586-bfa4-43830aa5384f",
   "metadata": {},
   "source": [
    "# Pré-Processamento: SparkSQL"
   ]
  },
  {
   "cell_type": "markdown",
   "id": "d78793a7-6d38-4794-a7d1-6b2c0e57ca8f",
   "metadata": {},
   "source": [
    "### Passo 1: Iniciar Sessão Spark"
   ]
  },
  {
   "cell_type": "code",
   "execution_count": null,
   "id": "6991433e-339e-4dde-a08d-d31ce0c45a54",
   "metadata": {
    "scrolled": true
   },
   "outputs": [],
   "source": [
    "import os\n",
    "import sys\n",
    "\n",
    "# Limpar ambiente Spark completamente\n",
    "def reset_spark():\n",
    "    for var in ['spark', 'sc', 'sqlContext']:\n",
    "        if var in globals():\n",
    "            try:\n",
    "                del globals()[var]\n",
    "            except:\n",
    "                pass\n",
    "    \n",
    "    # Limpar módulos\n",
    "    modules = [k for k in sys.modules.keys() if 'pyspark' in k]\n",
    "    for m in modules:\n",
    "        if m in sys.modules:\n",
    "            del sys.modules[m]\n",
    "\n",
    "reset_spark()\n",
    "\n",
    "from pyspark.sql import SparkSession\n",
    "\n",
    "try:\n",
    "    spark.stop()\n",
    "except NameError:\n",
    "    print(\"SparkContext not defined\")\n",
    "\n",
    "# local mode\n",
    "# spark = SparkSession.builder \\\n",
    "#             .appName(\"Spark SQL\") \\\n",
    "#             .master(\"local[*]\") \\\n",
    "# \t    \t.config(\"spark.jars.packages\", \"org.xerial.snappy:snappy-java:1.1.10.1\") \\\n",
    "# \t    \t.getOrCreate()\n",
    "\n",
    "# cluster mode\n",
    "spark = SparkSession.builder \\\n",
    "           .appName(\"Spark SQL basic example\") \\\n",
    "           .master(\"spark://spark-master-g7:7077\") \\\n",
    "\t    \t.config(\"spark.some.config.option\", \"some-value\") \\\n",
    "\t    \t.getOrCreate()"
   ]
  },
  {
   "cell_type": "markdown",
   "id": "5675598a-2342-451f-8783-3d90c56e18df",
   "metadata": {},
   "source": [
    "### Passo 2: Escolha trabalhar com o dataset completo ou usando os dados amostrais\n",
    "\n",
    "- Atenção: somente execute o conjunto de células desejado."
   ]
  },
  {
   "cell_type": "markdown",
   "id": "9d50f2f0-b32c-47b1-9147-46f0fc3115de",
   "metadata": {},
   "source": [
    "#### Dataset Completo"
   ]
  },
  {
   "cell_type": "code",
   "execution_count": null,
   "id": "9d8ca032-e731-41e0-b385-d791eff47fbe",
   "metadata": {},
   "outputs": [],
   "source": [
    "from pathlib import Path\n",
    "import gdown\n",
    "import zipfile\n",
    "\n",
    "ROOT_DIR = Path.cwd().parent\n",
    "data_path = ROOT_DIR / \"data\"\n",
    "data_raw_path = data_path / \"data_raw\"\n",
    "zip_path = data_path / \"data_raw.zip\"\n",
    "file_id = \"1wLFeP8SPEuq_Ac6cPZTFE4PlR3bYdMRP\"\n",
    "download_url = f\"https://drive.google.com/uc?export=download&id={file_id}\"\n",
    "\n",
    "if not data_path.exists() or not data_raw_path.exists():\n",
    "    print(f\"Pasta {data_raw_path} não encontrada. Baixando os dados...\")\n",
    "    \n",
    "    data_path.mkdir(parents=True, exist_ok=True)\n",
    "\n",
    "    gdown.download(download_url, str(zip_path), quiet=False)\n",
    "\n",
    "    with zipfile.ZipFile(zip_path, 'r') as zip_ref:\n",
    "        zip_ref.extractall(data_path)\n",
    "\n",
    "    zip_path.unlink()\n",
    "\n",
    "    print(\"Download e extração concluídos.\")\n",
    "else:\n",
    "    print(f\"Pasta {data_raw_path} encontrada.\")"
   ]
  },
  {
   "cell_type": "code",
   "execution_count": null,
   "id": "5d0cb7a4-6fad-4b23-a91a-fc5472b9c4ec",
   "metadata": {},
   "outputs": [],
   "source": [
    "import glob\n",
    "\n",
    "arquivos_detalhados = glob.glob(\"../data/data_raw/**/*_DETAIL_*.csv\", recursive=True)\n",
    "\n",
    "arquivos_principais = [\n",
    "    arq for arq in glob.glob(\"../data/data_raw/**/*.csv\", recursive=True)\n",
    "    if \"_DETAIL_\" not in arq\n",
    "]"
   ]
  },
  {
   "cell_type": "markdown",
   "id": "9b6d2a8d-2d2f-4946-a943-6660db2d8d7f",
   "metadata": {},
   "source": [
    "#### Dados amostrais"
   ]
  },
  {
   "cell_type": "code",
   "execution_count": null,
   "id": "036544d2-64ad-4c94-a4e8-c5407f4cc853",
   "metadata": {},
   "outputs": [],
   "source": [
    "arquivos_detalhados = \"../datasample/RESTRICAO_COFF_EOLICA_DETAIL_2025_05_amostra.csv\"\n",
    "\n",
    "arquivos_principais = \"../datasample/RESTRICAO_COFF_EOLICA_2025_05_amostra.csv\""
   ]
  },
  {
   "cell_type": "markdown",
   "id": "b9d7339e-a561-4253-b2c7-81c3acee7b66",
   "metadata": {},
   "source": [
    "### Passo 3: Pré-processamento"
   ]
  },
  {
   "cell_type": "code",
   "execution_count": null,
   "id": "a1c59fd8-fdba-452c-b370-440bb15f88f4",
   "metadata": {},
   "outputs": [],
   "source": [
    "df_detalhado = spark.read.option(\"delimiter\", \";\").option(\"header\", True).option(\"inferSchema\", True).csv(arquivos_detalhados)\n",
    "\n",
    "df_principal = spark.read.option(\"delimiter\", \";\").option(\"header\", True).option(\"inferSchema\", True).csv(arquivos_principais)"
   ]
  },
  {
   "cell_type": "code",
   "execution_count": null,
   "id": "3fae5c2d-482b-4d68-982a-525cd4404cce",
   "metadata": {},
   "outputs": [],
   "source": [
    "df_detalhado.show()\n",
    "df_detalhado.count()"
   ]
  },
  {
   "cell_type": "code",
   "execution_count": null,
   "id": "49aa1473-7303-412c-8111-61636d978cb4",
   "metadata": {},
   "outputs": [],
   "source": [
    "df_principal.show()\n",
    "df_principal.count()"
   ]
  },
  {
   "cell_type": "code",
   "execution_count": null,
   "id": "4896424f-62cf-466c-ba76-97554d4ca211",
   "metadata": {
    "scrolled": true
   },
   "outputs": [],
   "source": [
    "df_detalhado.write.option(\"compression\", \"uncompressed\").mode(\"overwrite\").parquet(\"../data/data_cleared/dados_detalhados.parquet\")"
   ]
  },
  {
   "cell_type": "code",
   "execution_count": null,
   "id": "66edea96-18c8-461a-ae01-f709c062de50",
   "metadata": {
    "scrolled": true
   },
   "outputs": [],
   "source": [
    "df_principal.write.option(\"compression\", \"uncompressed\").mode(\"overwrite\").parquet(\"../data/data_cleared/dados_principais.parquet\")"
   ]
  },
  {
   "cell_type": "code",
   "execution_count": null,
   "id": "419f270f",
   "metadata": {},
   "outputs": [],
   "source": [
    "# Aplicar transformações aos dados principais antes de salvar\n",
    "from pyspark.sql.functions import col, when, year, month, hour\n",
    "\n",
    "print(\"Aplicando transformações aos dados...\")\n",
    "\n",
    "# Calcular constrained-off\n",
    "df_principal = df_principal.withColumn(\n",
    "    \"constrained_off\",\n",
    "    when(col(\"val_disponibilidade\") - col(\"val_geracao\") > 0,\n",
    "         col(\"val_disponibilidade\") - col(\"val_geracao\"))\n",
    "    .otherwise(0)\n",
    ")\n",
    "\n",
    "# Calcular percentual de constrained-off\n",
    "df_principal = df_principal.withColumn(\n",
    "    \"percentual_constrained\",\n",
    "    when(col(\"val_disponibilidade\") > 0,\n",
    "         (col(\"constrained_off\") / col(\"val_disponibilidade\")) * 100)\n",
    "    .otherwise(0)\n",
    ")\n",
    "\n",
    "# Adicionar colunas temporais\n",
    "df_principal = df_principal.withColumn(\"ano\", year(\"din_instante\"))\n",
    "df_principal = df_principal.withColumn(\"mes\", month(\"din_instante\"))\n",
    "df_principal = df_principal.withColumn(\"hora\", hour(\"din_instante\"))\n",
    "\n",
    "print(\"✅ Transformações aplicadas\")\n",
    "print(\"Colunas adicionadas: constrained_off, percentual_constrained, ano, mes, hora\")"
   ]
  },
  {
   "cell_type": "code",
   "execution_count": null,
   "id": "693900fe-e900-4b02-b80d-2b32c1aeaf82",
   "metadata": {},
   "outputs": [],
   "source": [
    "### 📊 Para Análises de Performance\n",
    "**Nota**: Para análises comparativas de performance entre CSV e Parquet e benchmarking completo, utilize o notebook `Performance-Benchmark.ipynb`."
   ]
  }
 ],
 "metadata": {
  "kernelspec": {
   "display_name": "Python 3 (ipykernel)",
   "language": "python",
   "name": "python3"
  },
  "language_info": {
   "codemirror_mode": {
    "name": "ipython",
    "version": 3
   },
   "file_extension": ".py",
   "mimetype": "text/x-python",
   "name": "python",
   "nbconvert_exporter": "python",
   "pygments_lexer": "ipython3",
   "version": "3.13.5"
  }
 },
 "nbformat": 4,
 "nbformat_minor": 5
}
