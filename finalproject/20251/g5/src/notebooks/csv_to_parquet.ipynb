{
 "cells": [
  {
   "cell_type": "code",
   "execution_count": 1,
   "id": "9bb8ad4b-c9af-4f6c-91f6-712e535e2d16",
   "metadata": {},
   "outputs": [
    {
     "name": "stderr",
     "output_type": "stream",
     "text": [
      "Setting default log level to \"WARN\".\n",
      "To adjust logging level use sc.setLogLevel(newLevel). For SparkR, use setLogLevel(newLevel).\n",
      "25/07/09 18:40:50 WARN NativeCodeLoader: Unable to load native-hadoop library for your platform... using builtin-java classes where applicable\n",
      "25/07/09 18:40:51 WARN Utils: Service 'SparkUI' could not bind on port 4040. Attempting port 4041.\n",
      "25/07/09 18:40:51 WARN Utils: Service 'SparkUI' could not bind on port 4041. Attempting port 4042.\n"
     ]
    }
   ],
   "source": [
    "from pyspark.sql import SparkSession\n",
    "\n",
    "spark = SparkSession.builder \\\n",
    "    .appName(\"CSV para Parquet Otimizado\") \\\n",
    "    .getOrCreate()\n",
    "\n",
    "#print(spark.sparkContext.master)\n",
    "#print(spark.sparkContext.uiWebUrl)"
   ]
  },
  {
   "cell_type": "code",
   "execution_count": 2,
   "id": "745d68eb-f5b0-4215-9021-a89d0d173721",
   "metadata": {},
   "outputs": [],
   "source": [
    "from pyspark.sql.types import StructType, StructField, StringType, LongType, DoubleType, IntegerType\n",
    "\n",
    "# Esquema com os tipos numéricos corretos para colunas \"limpas\"\n",
    "schema_com_tipos = StructType([\n",
    "    # Colunas de texto\n",
    "    StructField(\"Artist(s)\", StringType(), True),\n",
    "    StructField(\"song\", StringType(), True),\n",
    "    StructField(\"text\", StringType(), True),\n",
    "    StructField(\"emotion\", StringType(), True),\n",
    "    StructField(\"Genre\", StringType(), True),\n",
    "    StructField(\"Album\", StringType(), True),\n",
    "    StructField(\"Key\", StringType(), True),\n",
    "    StructField(\"Explicit\", StringType(), True),\n",
    "\n",
    "    # Colunas que precisam de limpeza (lidas como texto primeiro)\n",
    "    StructField(\"Length\", StringType(), True),\n",
    "    StructField(\"Release Date\", StringType(), True),\n",
    "    StructField(\"Loudness (db)\", StringType(), True),\n",
    "    StructField(\"Time signature\", StringType(), True),\n",
    "\n",
    "    # Colunas de Inteiros (LongType é um inteiro grande, seguro de usar)\n",
    "    StructField(\"Popularity\", LongType(), True),\n",
    "    StructField(\"Energy\", LongType(), True),\n",
    "    StructField(\"Danceability\", LongType(), True),\n",
    "    StructField(\"Positiveness\", LongType(), True),\n",
    "    StructField(\"Speechiness\", LongType(), True),\n",
    "    StructField(\"Liveness\", LongType(), True),\n",
    "    StructField(\"Tempo\", LongType(), True), # Tempo (BPM) é geralmente um inteiro\n",
    "\n",
    "    # Colunas de Ponto Flutuante (DoubleType é mais preciso)\n",
    "    StructField(\"Acousticness\", DoubleType(), True),\n",
    "    StructField(\"Instrumentalness\", DoubleType(), True),\n",
    "    StructField(\"Similarity Score 1\", DoubleType(), True),\n",
    "    StructField(\"Similarity Score 2\", DoubleType(), True),\n",
    "    StructField(\"Similarity Score 3\", DoubleType(), True),\n",
    "\n",
    "    # O resto pode ser lido como string ou o tipo que você preferir\n",
    "    StructField(\"Good for Party\", StringType(), True),\n",
    "    StructField(\"Good for Work/Study\", StringType(), True),\n",
    "    # ... e assim por diante para as outras colunas\n",
    "    StructField(\"Good for Relaxation/Meditation\", StringType(), True),\n",
    "    StructField(\"Good for Exercise\", StringType(), True),\n",
    "    StructField(\"Good for Running\", StringType(), True),\n",
    "    StructField(\"Good for Yoga/Stretching\", StringType(), True),\n",
    "    StructField(\"Good for Driving\", StringType(), True),\n",
    "    StructField(\"Good for Social Gatherings\", StringType(), True),\n",
    "    StructField(\"Good for Morning Routine\", StringType(), True),\n",
    "    StructField(\"Similar Artist 1\", StringType(), True),\n",
    "    StructField(\"Similar Song 1\", StringType(), True),\n",
    "    StructField(\"Similar Artist 2\", StringType(), True),\n",
    "    StructField(\"Similar Song 2\", StringType(), True),\n",
    "    StructField(\"Similar Artist 3\", StringType(), True),\n",
    "    StructField(\"Similar Song 3\", StringType(), True)\n",
    "])\n",
    "\n",
    "\n",
    "# 2. Lemos o CSV com o esquema manual e REMOVEMOS inferSchema\n",
    "caminho_csv = \"/spark-data/spotify_dataset.csv\"\n",
    "\n",
    "df = spark.read.csv(\n",
    "    caminho_csv,\n",
    "    header=True,\n",
    "    inferSchema=False,\n",
    "    quote='\"',             # Define que valores entre aspas são um único campo\n",
    "    escape='\"',            # Para lidar com aspas duplas dentro de strings (\"\" vira \")\n",
    "    multiLine=True         # Para permitir que campos entre aspas quebrem linha\n",
    ")"
   ]
  },
  {
   "cell_type": "code",
   "execution_count": 3,
   "id": "1146647f-160f-4ef2-96c2-8a5ad024a29d",
   "metadata": {},
   "outputs": [
    {
     "name": "stderr",
     "output_type": "stream",
     "text": [
      "25/07/09 18:40:56 WARN SparkStringUtils: Truncated the string representation of a plan since it was too large. This behavior can be adjusted by setting 'spark.sql.debug.maxToStringFields'.\n",
      "                                                                                "
     ]
    }
   ],
   "source": [
    "caminho_parquet = \"/spark-data/transformado_bruto.parquet\"\n",
    "\n",
    "# Sobrescreve o arquivo anterior com os dados corrigidos\n",
    "df.write.mode(\"overwrite\").parquet(caminho_parquet)"
   ]
  },
  {
   "cell_type": "code",
   "execution_count": 4,
   "id": "c6d1f71c-1e21-4bea-b8e1-8c8a6c35bd7c",
   "metadata": {},
   "outputs": [],
   "source": [
    "df_parquet = spark.read.parquet(caminho_parquet)"
   ]
  },
  {
   "cell_type": "code",
   "execution_count": 5,
   "id": "a4794eb3-e973-4653-8c5d-73aad4f5e0ad",
   "metadata": {},
   "outputs": [],
   "source": [
    "import time\n",
    "\n",
    "def medir_tempo_leitura(funcao):\n",
    "    inicio = time.time()\n",
    "    resultado = funcao()\n",
    "    fim = time.time()\n",
    "    duracao = fim - inicio\n",
    "    print(f\"Tempo de execução: {duracao:.4f} segundos\")\n",
    "    return resultado"
   ]
  },
  {
   "cell_type": "code",
   "execution_count": 6,
   "id": "4eb21fb3-dce4-49c9-a2f2-7442e8b0a9dd",
   "metadata": {},
   "outputs": [
    {
     "name": "stdout",
     "output_type": "stream",
     "text": [
      "Tempo de execução: 2.4944 segundos\n"
     ]
    }
   ],
   "source": [
    "def ler_csv():\n",
    "    df = spark.read.csv(\"/spark-data/spotify_dataset.csv\", header=True, inferSchema=True)\n",
    "    df.select(\"song\").collect()\n",
    "    return df\n",
    "\n",
    "df_csv = medir_tempo_leitura(ler_csv)\n"
   ]
  },
  {
   "cell_type": "code",
   "execution_count": 7,
   "id": "21aebbbf-6272-4eac-bd3e-2f9946d020f2",
   "metadata": {},
   "outputs": [
    {
     "name": "stdout",
     "output_type": "stream",
     "text": [
      "Tempo de execução: 0.6112 segundos\n"
     ]
    }
   ],
   "source": [
    "def ler_parquet():\n",
    "    df = spark.read.parquet(\"/spark-data/transformado_bruto.parquet\")\n",
    "    df.select(\"song\").collect()\n",
    "    return df\n",
    "\n",
    "df_parquet = medir_tempo_leitura(ler_parquet)\n"
   ]
  },
  {
   "cell_type": "code",
   "execution_count": 8,
   "id": "0fd19722-a1b8-40ab-a943-fdea79173fa4",
   "metadata": {},
   "outputs": [],
   "source": [
    "spark.stop()"
   ]
  }
 ],
 "metadata": {
  "kernelspec": {
   "display_name": "Python 3 (ipykernel)",
   "language": "python",
   "name": "python3"
  },
  "language_info": {
   "codemirror_mode": {
    "name": "ipython",
    "version": 3
   },
   "file_extension": ".py",
   "mimetype": "text/x-python",
   "name": "python",
   "nbconvert_exporter": "python",
   "pygments_lexer": "ipython3",
   "version": "3.12.10"
  }
 },
 "nbformat": 4,
 "nbformat_minor": 5
}
