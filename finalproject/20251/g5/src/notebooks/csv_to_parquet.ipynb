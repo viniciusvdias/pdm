{
 "cells": [
  {
   "cell_type": "code",
   "execution_count": null,
   "id": "9bb8ad4b-c9af-4f6c-91f6-712e535e2d16",
   "metadata": {},
   "outputs": [],
   "source": [
    "from pyspark.sql import SparkSession\n",
    "\n",
    "spark = SparkSession.builder \\\n",
    "    .appName(\"CSV para Parquet\") \\\n",
    "    .getOrCreate()\n"
   ]
  },
  {
   "cell_type": "code",
   "execution_count": null,
   "id": "745d68eb-f5b0-4215-9021-a89d0d173721",
   "metadata": {},
   "outputs": [],
   "source": [
    "# Substitua pelo caminho correto do seu arquivo\n",
    "caminho_csv = \"./spark-data/spotify_dataset.csv\"\n",
    "\n",
    "# Lê o CSV em um DataFrame do Spark\n",
    "df = spark.read.csv(caminho_csv, header=True, inferSchema=True)\n",
    "\n",
    "# Exibe as 5 primeiras linhas\n",
    "df.show(5)\n"
   ]
  },
  {
   "cell_type": "code",
   "execution_count": null,
   "id": "1146647f-160f-4ef2-96c2-8a5ad024a29d",
   "metadata": {},
   "outputs": [],
   "source": [
    "# Substitua pelo caminho onde deseja salvar o Parquet\n",
    "caminho_parquet = \"./spark-data/meuarquivo.parquet\"\n",
    "\n",
    "# Salva o DataFrame como Parquet\n",
    "df.write.parquet(caminho_parquet)"
   ]
  },
  {
   "cell_type": "code",
   "execution_count": null,
   "id": "c6d1f71c-1e21-4bea-b8e1-8c8a6c35bd7c",
   "metadata": {},
   "outputs": [],
   "source": [
    "df_parquet = spark.read.parquet(caminho_parquet)\n",
    "df_parquet.show(5)"
   ]
  },
  {
   "cell_type": "code",
   "execution_count": null,
   "id": "a4794eb3-e973-4653-8c5d-73aad4f5e0ad",
   "metadata": {},
   "outputs": [],
   "source": [
    "import time\n",
    "\n",
    "def medir_tempo_leitura(funcao):\n",
    "    inicio = time.time()\n",
    "    resultado = funcao()\n",
    "    fim = time.time()\n",
    "    duracao = fim - inicio\n",
    "    print(f\"Tempo de execução: {duracao:.4f} segundos\")\n",
    "    return resultado"
   ]
  },
  {
   "cell_type": "code",
   "execution_count": null,
   "id": "4eb21fb3-dce4-49c9-a2f2-7442e8b0a9dd",
   "metadata": {},
   "outputs": [],
   "source": [
    "def ler_csv():\n",
    "    df = spark.read.csv(\"./spark-data/spotify_dataset.csv\", header=True, inferSchema=True)\n",
    "    df.select(\"song\").collect()  # ou qualquer outra coluna\n",
    "    return df\n",
    "\n",
    "df_csv = medir_tempo_leitura(ler_csv)\n"
   ]
  },
  {
   "cell_type": "code",
   "execution_count": null,
   "id": "21aebbbf-6272-4eac-bd3e-2f9946d020f2",
   "metadata": {},
   "outputs": [],
   "source": [
    "def ler_parquet():\n",
    "    df = spark.read.parquet(\"./spark-data/meuarquivo.parquet\")\n",
    "    df.select(\"song\").collect()\n",
    "    return df\n",
    "\n",
    "df_parquet = medir_tempo_leitura(ler_parquet)\n"
   ]
  }
 ],
 "metadata": {
  "kernelspec": {
   "display_name": "Python 3 (ipykernel)",
   "language": "python",
   "name": "python3"
  },
  "language_info": {
   "codemirror_mode": {
    "name": "ipython",
    "version": 3
   },
   "file_extension": ".py",
   "mimetype": "text/x-python",
   "name": "python",
   "nbconvert_exporter": "python",
   "pygments_lexer": "ipython3",
   "version": "3.11.6"
  }
 },
 "nbformat": 4,
 "nbformat_minor": 5
}
