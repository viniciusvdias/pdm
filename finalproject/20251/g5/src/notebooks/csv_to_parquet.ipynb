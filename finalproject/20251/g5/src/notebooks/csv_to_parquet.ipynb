{
 "cells": [
  {
   "cell_type": "code",
   "execution_count": 4,
   "id": "9bb8ad4b-c9af-4f6c-91f6-712e535e2d16",
   "metadata": {},
   "outputs": [],
   "source": [
    "from pyspark.sql import SparkSession\n",
    "\n",
    "spark = SparkSession.builder \\\n",
    "    .appName(\"CSV para Parquet Otimizado\") \\\n",
    "    .getOrCreate()\n",
    "\n",
    "#print(spark.sparkContext.master)\n",
    "#print(spark.sparkContext.uiWebUrl)"
   ]
  },
  {
   "cell_type": "code",
   "execution_count": 5,
   "id": "745d68eb-f5b0-4215-9021-a89d0d173721",
   "metadata": {},
   "outputs": [
    {
     "name": "stderr",
     "output_type": "stream",
     "text": [
      "25/07/08 17:29:49 WARN SparkStringUtils: Truncated the string representation of a plan since it was too large. This behavior can be adjusted by setting 'spark.sql.debug.maxToStringFields'.\n",
      "                                                                                "
     ]
    },
    {
     "name": "stdout",
     "output_type": "stream",
     "text": [
      "+--------------+--------------------+--------------------+------+--------+-------+--------------------+-----------------+------+-----+-------------+--------------+--------+----------+------+------------+------------+-----------+--------+------------+----------------+--------------+-------------------+------------------------------+-----------------+----------------+------------------------+----------------+--------------------------+------------------------+--------------------+--------------------+------------------+--------------------+--------------------+------------------+--------------------+--------------------+------------------+\n",
      "|     Artist(s)|                song|                text|Length| emotion|  Genre|               Album|     Release Date|   Key|Tempo|Loudness (db)|Time signature|Explicit|Popularity|Energy|Danceability|Positiveness|Speechiness|Liveness|Acousticness|Instrumentalness|Good for Party|Good for Work/Study|Good for Relaxation/Meditation|Good for Exercise|Good for Running|Good for Yoga/Stretching|Good for Driving|Good for Social Gatherings|Good for Morning Routine|    Similar Artist 1|      Similar Song 1|Similarity Score 1|    Similar Artist 2|      Similar Song 2|Similarity Score 2|    Similar Artist 3|      Similar Song 3|Similarity Score 3|\n",
      "+--------------+--------------------+--------------------+------+--------+-------+--------------------+-----------------+------+-----+-------------+--------------+--------+----------+------+------------+------------+-----------+--------+------------+----------------+--------------+-------------------+------------------------------+-----------------+----------------+------------------------+----------------+--------------------------+------------------------+--------------------+--------------------+------------------+--------------------+--------------------+------------------+--------------------+--------------------+------------------+\n",
      "|           !!!|Even When the Wat...|Friends told her ...| 03:47| sadness|hip hop|            Thr!!!er|  29th April 2013| D min|  105|      -6.85db|           4/4|      No|        40|    83|          71|          87|          4|      16|          11|               0|             0|                  0|                             0|                0|               0|                       0|               0|                         0|                       0|         Corey Smith|If I Could Do It ...|0.9860607848219312|          Toby Keith|   Drinks After Work|0.9837194773786985|               Space|       Neighbourhood|0.9832363508466967|\n",
      "|           !!!|  One Girl / One Boy|Well I heard it, ...| 04:03| sadness|hip hop|            Thr!!!er|  29th April 2013|A# min|  117|      -5.75db|           4/4|      No|        42|    85|          70|          87|          4|      32|           0|               0|             0|                  0|                             0|                0|               0|                       0|               0|                         0|                       0|     Hiroyuki Sawano|        BRE@TH//LESS|0.9954090051457943|        When In Rome|        Heaven Knows|0.9909052446506661|        Justice Crew|           Everybody|0.9844825577360079|\n",
      "|           !!!|   Pardon My Freedom|Oh my god, did I ...| 05:51|     joy|hip hop|       Louden Up Now|    8th June 2004| A Maj|  121|      -6.06db|           4/4|      No|        29|    89|          71|          63|          8|      64|           0|              20|             0|                  0|                             0|                1|               0|                       0|               0|                         0|                       0|       Ricky Dillard|More Abundantly M...|0.9931760848028455|              Juliet|              Avalon|0.9651469454636374|        The Jacksons|          Lovely One|0.9567517825366731|\n",
      "|           !!!|                 Ooo|[Verse 1] Remembe...| 03:44|     joy|hip hop|               As If|16th October 2015| A min|  122|      -5.42db|           4/4|      No|        24|    84|          78|          97|          4|      12|          12|               0|             0|                  0|                             0|                1|               0|                       0|               0|                         0|                       0|        Eric Clapton|       Man Overboard|0.9927492490501513|             Roxette|Don't Believe In ...|0.9914939607203931|         Tiwa Savage|           My Darlin|0.9903805989113865|\n",
      "|           !!!|          Freedom 15|[Verse 1] Calling...| 06:00|     joy|hip hop|               As If|16th October 2015| F min|  123|      -5.57db|           4/4|      No|        30|    71|          77|          70|          7|      10|           4|               1|             0|                  0|                             0|                1|               0|                       0|               0|                         0|                       0|          Cibo Matto|        Lint Of Love|0.9816095587586925|     Barrington Levy|    Better Than Gold|0.9815243376825868|           Freestyle|       Its Automatic|0.9814147734456016|\n",
      "|           !!!|       All U Writers|All you writers G...| 05:22|    love|hip hop|All U Writers / G...|  27th April 2015| B min|  122|         -7db|           4/4|      No|        26|    81|          87|          74|          4|       7|           0|              47|             0|                  0|                             0|                1|               0|                       0|               0|                         0|                       0|    Wish & Fonda Rae|Touch Me All Nigh...| 0.980839464017815|          Gary Numan|           War Songs|0.9805274336098575|       Little Dragon|             Forever| 0.980209366617043|\n",
      "|           !!!|        Serbia Drums|[Verse 1] We've k...| 03:39| sadness|hip hop|              Wallop| 30th August 2019| E min|  104|      -6.86db|           4/4|      No|        17|    89|          68|          65|          8|       9|           0|               0|             0|                  0|                             0|                0|               0|                       0|               0|                         0|                       0|       Talking Heads|           Ruby Dear|0.9807814834218981|              Hanson|Something Going R...|0.9792052368178343|Hoodie Allen,Jare...|      Same As Before|0.9789767440150099|\n",
      "|           !!!|    Must Be the Moon|One drink, two dr...| 05:57|     joy|hip hop|          Myth Takes|   5th March 2007| G Maj|  120|         -5db|           4/4|      No|        27|    88|          77|          95|          5|      34|           0|               4|             0|                  0|                             0|                0|               0|                       0|               0|                         0|                       0|Crystal Waters,St...|         Makin Happy|0.9850454170135444|         Marvin Gaye|     Sanctified Lady|0.9741693906917755| Ready For The World|     Digital Display|0.9735083603860392|\n",
      "|           !!!|                Slyd|No, that's weird ...| 04:14|surprise|hip hop|            Thr!!!er|  29th April 2013| C Maj|  120|      -8.73db|           4/4|      No|        33|    72|          86|          58|         10|      22|           6|              24|             0|                  0|                             0|                0|               0|                       0|               0|                         0|                       0|    Moon Boots,Fiora|I Want Your Atten...|0.9929397286564682|Rhombus,Tiki Taan...|Seen It All Beast...|0.9912431416163532| Craig Reever,Easton|   Special about You|0.9896232299430643|\n",
      "|           !!!|Hello? Is This Th...|Sometimes you don...| 07:33| sadness|hip hop|       Louden Up Now|    8th June 2004| G Maj|  124|      -8.24db|           4/4|      No|        21|    68|          77|          67|          4|      10|           5|               0|             0|                  0|                             0|                1|               0|                       0|               0|                         0|                       1|       Midnight Star|            Operator|0.9855979608591318|Boris Dlugosch,Ró...|        Never Enough| 0.979074578097153|               YACHT|        Miles  Miles|0.9787978887211672|\n",
      "|           !!!|          Myth Takes|Only takes a litt...| 02:23| sadness|hip hop|          Myth Takes|   5th March 2007| B min|   97|      -7.85db|           4/4|      No|        34|    76|          76|          88|          3|      27|          13|              68|             0|                  0|                             0|                0|               0|                       0|               0|                         0|                       0| Desmond Dekker,ACES|  Problems - 3676543|0.9763718243263064|        The Darkness|            Knockers|0.9613774757616433|          Ken Yamada|Rich Chigga Frees...|0.9589376196576993|\n",
      "|           !!!|     Heart of Hearts|Her face, her fac...| 06:02|surprise|hip hop|          Myth Takes|   5th March 2007|F# min|  119|      -6.57db|           4/4|      No|        23|    93|          63|          40|          5|      12|           0|              10|             0|                  0|                             0|                0|               0|                       0|               0|                         0|                       0|Celldweller,Circl...|Jericho Circle of...|0.9967407697953371|Wicca Phase Sprin...|            Obsessed|0.9931531107462085|          Thin Lizzy|The Hero And The ...|0.9926265259821878|\n",
      "|           !!!|              Yadnus|I'll take anyone ...| 05:13|     joy|hip hop|          Myth Takes|   5th March 2007| D Maj|  126|      -6.01db|           4/4|      No|        26|    80|          69|          46|          7|       6|           3|               3|             0|                  0|                             0|                1|               0|                       0|               0|                         0|                       0|              Prince|             Thunder|0.9831118715229831|                 CG5|          Never Easy|0.9802006091288945|        Donell Jones|   All About The Sex|0.9752632781216419|\n",
      "|           !!!|       Sick Ass Moon|All night All nig...| 04:21|     joy|hip hop|               As If|16th October 2015| C min|  124|      -7.45db|           4/4|      No|        20|    83|          79|          63|          9|      11|          33|               4|             0|                  0|                             0|                1|               0|                       0|               0|                         0|                       0|       Midnight Star|        Engine No. 9|0.9724590210285665| \"Weird Al\" Yankovic|       King of Suede|0.9711163757932033| \"Weird Al\" Yankovic|       King Of Suede|0.9698400171382325|\n",
      "|           !!!|All My Heroes Are...|Hey ho, there’s a...| 03:04|   anger|hip hop|          Myth Takes|   5th March 2007| A Maj|  122|      -5.89db|           4/4|      No|        23|    99|          50|          61|          8|       8|           0|               5|             0|                  0|                             0|                0|               0|                       0|               0|                         0|                       0|         Giant Rooks|             Silence|0.9852972064365398|         Against Me!|    Piss and Vinegar|0.9811541234630536|  Taking Back Sunday|         Capital M-E|0.9808037882265122|\n",
      "|           !!!|  Couldnt Have Known|[Verse 1] I was l...| 03:35|   anger|hip hop|              Wallop| 30th August 2019|C# Maj|  122|      -7.29db|           4/4|      No|        18|    92|          74|          77|         13|      11|           1|               1|             0|                  0|                             0|                1|               0|                       0|               0|                         0|                       0|    Problem,Bad Lucc|           Get on It|0.9892432211872388|        Public Enemy|   Race Against Time|0.9876627280086444|      Big Bad Bosses|            The Raid|0.9844895969243309|\n",
      "|   !!!,Lea Lea|Dancing Is the Be...|Maybe I've been s...| 04:41|    fear|hip hop|   Shake The Shudder|    19th May 2017|C# Maj|  120|         -6db|           4/4|      No|        36|    76|          86|          80|          5|       6|           0|              32|             0|                  0|                             0|                0|               0|                       0|               0|                         0|                       0|               Wham!|            Come On!|0.9795876073520293|         Eric Church| Roller Coaster Ride|  0.97542473901431|      Luca Debonaire|     You Got Me Down|0.9729575682418614|\n",
      "|   !!!,Lea Lea|                NRGQ|[Intro] Whoo  [Ve...| 04:30| sadness|hip hop|   Shake The Shudder|    19th May 2017| C Maj|  133|      -6.78db|           4/4|      No|        31|    89|          78|          80|          7|      13|           5|               0|             0|                  0|                             0|                1|               0|                       0|               0|                         0|                       0|      Jennifer Lopez|       We Gotta Talk|0.9919747308416312|          Peter Tosh|        Peace Treaty|0.9855768886580089|        Eric Clapton|        (I) Get Lost|0.9851599611701484|\n",
      "|        !Marc¡|                Stay|[Chorus: Quavo] W...| 02:02|   anger|hip hop|         STAY ZOOTED|  23rd April 2023| C Maj|  175|      -7.99db|           4/4|     Yes|         0|    40|          72|          52|         28|      12|           0|               0|             0|                  0|                             0|                0|               0|                       0|               0|                         0|                       0|         SSG Splurge|          Gun Fetish|0.9851062214901642|         Big Ant Dog|               Adore|0.9802787776820685|            Yung Mal|             Trayvon|0.9770931988885434|\n",
      "|!YADNUS,Daylyt|        First Breath|[Verse: Daylyt] S...| 01:15|   anger|hip hop|   LYT II SOCIETY...| 13th August 2019| A Maj|   86|     -10.44db|           4/4|     Yes|         4|    55|          52|          78|         15|      27|          45|               0|             0|                  0|                             0|                0|               0|                       0|               0|                         0|                       0|The Future Kingz,...|               Promo|0.9588761349550804|         Lucki Starr|           NO GYALIS| 0.944508387282021|MC Paul Barman,Mo...|        Sampling Law|0.9320667022626842|\n",
      "+--------------+--------------------+--------------------+------+--------+-------+--------------------+-----------------+------+-----+-------------+--------------+--------+----------+------+------------+------------+-----------+--------+------------+----------------+--------------+-------------------+------------------------------+-----------------+----------------+------------------------+----------------+--------------------------+------------------------+--------------------+--------------------+------------------+--------------------+--------------------+------------------+--------------------+--------------------+------------------+\n",
      "only showing top 20 rows\n",
      "\n"
     ]
    }
   ],
   "source": [
    "from pyspark.sql.types import StructType, StructField, StringType, LongType, DoubleType, IntegerType\n",
    "\n",
    "# Esquema com os tipos numéricos corretos para colunas \"limpas\"\n",
    "schema_com_tipos = StructType([\n",
    "    # Colunas de texto\n",
    "    StructField(\"Artist(s)\", StringType(), True),\n",
    "    StructField(\"song\", StringType(), True),\n",
    "    StructField(\"text\", StringType(), True),\n",
    "    StructField(\"emotion\", StringType(), True),\n",
    "    StructField(\"Genre\", StringType(), True),\n",
    "    StructField(\"Album\", StringType(), True),\n",
    "    StructField(\"Key\", StringType(), True),\n",
    "    StructField(\"Explicit\", StringType(), True),\n",
    "\n",
    "    # Colunas que precisam de limpeza (lidas como texto primeiro)\n",
    "    StructField(\"Length\", StringType(), True),\n",
    "    StructField(\"Release Date\", StringType(), True),\n",
    "    StructField(\"Loudness (db)\", StringType(), True),\n",
    "    StructField(\"Time signature\", StringType(), True),\n",
    "\n",
    "    # Colunas de Inteiros (LongType é um inteiro grande, seguro de usar)\n",
    "    StructField(\"Popularity\", LongType(), True),\n",
    "    StructField(\"Energy\", LongType(), True),\n",
    "    StructField(\"Danceability\", LongType(), True),\n",
    "    StructField(\"Positiveness\", LongType(), True),\n",
    "    StructField(\"Speechiness\", LongType(), True),\n",
    "    StructField(\"Liveness\", LongType(), True),\n",
    "    StructField(\"Tempo\", LongType(), True), # Tempo (BPM) é geralmente um inteiro\n",
    "\n",
    "    # Colunas de Ponto Flutuante (DoubleType é mais preciso)\n",
    "    StructField(\"Acousticness\", DoubleType(), True),\n",
    "    StructField(\"Instrumentalness\", DoubleType(), True),\n",
    "    StructField(\"Similarity Score 1\", DoubleType(), True),\n",
    "    StructField(\"Similarity Score 2\", DoubleType(), True),\n",
    "    StructField(\"Similarity Score 3\", DoubleType(), True),\n",
    "\n",
    "    # O resto pode ser lido como string ou o tipo que você preferir\n",
    "    StructField(\"Good for Party\", StringType(), True),\n",
    "    StructField(\"Good for Work/Study\", StringType(), True),\n",
    "    # ... e assim por diante para as outras colunas\n",
    "    StructField(\"Good for Relaxation/Meditation\", StringType(), True),\n",
    "    StructField(\"Good for Exercise\", StringType(), True),\n",
    "    StructField(\"Good for Running\", StringType(), True),\n",
    "    StructField(\"Good for Yoga/Stretching\", StringType(), True),\n",
    "    StructField(\"Good for Driving\", StringType(), True),\n",
    "    StructField(\"Good for Social Gatherings\", StringType(), True),\n",
    "    StructField(\"Good for Morning Routine\", StringType(), True),\n",
    "    StructField(\"Similar Artist 1\", StringType(), True),\n",
    "    StructField(\"Similar Song 1\", StringType(), True),\n",
    "    StructField(\"Similar Artist 2\", StringType(), True),\n",
    "    StructField(\"Similar Song 2\", StringType(), True),\n",
    "    StructField(\"Similar Artist 3\", StringType(), True),\n",
    "    StructField(\"Similar Song 3\", StringType(), True)\n",
    "])\n",
    "\n",
    "\n",
    "# 2. Lemos o CSV com o esquema manual e REMOVEMOS inferSchema\n",
    "caminho_csv_novo = \"/spark-data/spotify_dataset.csv\"\n",
    "\n",
    "df = spark.read.csv(\n",
    "    caminho_csv_novo,\n",
    "    header=True,\n",
    "    inferSchema=False,\n",
    "    quote='\"',             # Define que valores entre aspas são um único campo\n",
    "    escape='\"',            # Para lidar com aspas duplas dentro de strings (\"\" vira \")\n",
    "    multiLine=True         # Para permitir que campos entre aspas quebrem linha\n",
    ")\n",
    "\n",
    "df.show()"
   ]
  },
  {
   "cell_type": "code",
   "execution_count": 6,
   "id": "1146647f-160f-4ef2-96c2-8a5ad024a29d",
   "metadata": {},
   "outputs": [
    {
     "name": "stderr",
     "output_type": "stream",
     "text": [
      "                                                                                "
     ]
    }
   ],
   "source": [
    "caminho_parquet = \"/spark-data/meuarquivo.parquet\"\n",
    "\n",
    "# Sobrescreve o arquivo anterior com os dados corrigidos\n",
    "df.write.mode(\"overwrite\").parquet(caminho_parquet)"
   ]
  },
  {
   "cell_type": "code",
   "execution_count": 7,
   "id": "c6d1f71c-1e21-4bea-b8e1-8c8a6c35bd7c",
   "metadata": {},
   "outputs": [
    {
     "name": "stderr",
     "output_type": "stream",
     "text": [
      "[Stage 4:>                                                          (0 + 1) / 1]"
     ]
    },
    {
     "name": "stdout",
     "output_type": "stream",
     "text": [
      "+---------+--------------------+--------------------+------+-------+-------+-------------+-----------------+------+-----+-------------+--------------+--------+----------+------+------------+------------+-----------+--------+------------+----------------+--------------+-------------------+------------------------------+-----------------+----------------+------------------------+----------------+--------------------------+------------------------+----------------+--------------------+------------------+----------------+--------------------+------------------+----------------+--------------+------------------+\n",
      "|Artist(s)|                song|                text|Length|emotion|  Genre|        Album|     Release Date|   Key|Tempo|Loudness (db)|Time signature|Explicit|Popularity|Energy|Danceability|Positiveness|Speechiness|Liveness|Acousticness|Instrumentalness|Good for Party|Good for Work/Study|Good for Relaxation/Meditation|Good for Exercise|Good for Running|Good for Yoga/Stretching|Good for Driving|Good for Social Gatherings|Good for Morning Routine|Similar Artist 1|      Similar Song 1|Similarity Score 1|Similar Artist 2|      Similar Song 2|Similarity Score 2|Similar Artist 3|Similar Song 3|Similarity Score 3|\n",
      "+---------+--------------------+--------------------+------+-------+-------+-------------+-----------------+------+-----+-------------+--------------+--------+----------+------+------------+------------+-----------+--------+------------+----------------+--------------+-------------------+------------------------------+-----------------+----------------+------------------------+----------------+--------------------------+------------------------+----------------+--------------------+------------------+----------------+--------------------+------------------+----------------+--------------+------------------+\n",
      "|      !!!|Even When the Wat...|Friends told her ...| 03:47|sadness|hip hop|     Thr!!!er|  29th April 2013| D min|  105|      -6.85db|           4/4|      No|        40|    83|          71|          87|          4|      16|          11|               0|             0|                  0|                             0|                0|               0|                       0|               0|                         0|                       0|     Corey Smith|If I Could Do It ...|0.9860607848219312|      Toby Keith|   Drinks After Work|0.9837194773786985|           Space| Neighbourhood|0.9832363508466967|\n",
      "|      !!!|  One Girl / One Boy|Well I heard it, ...| 04:03|sadness|hip hop|     Thr!!!er|  29th April 2013|A# min|  117|      -5.75db|           4/4|      No|        42|    85|          70|          87|          4|      32|           0|               0|             0|                  0|                             0|                0|               0|                       0|               0|                         0|                       0| Hiroyuki Sawano|        BRE@TH//LESS|0.9954090051457943|    When In Rome|        Heaven Knows|0.9909052446506661|    Justice Crew|     Everybody|0.9844825577360079|\n",
      "|      !!!|   Pardon My Freedom|Oh my god, did I ...| 05:51|    joy|hip hop|Louden Up Now|    8th June 2004| A Maj|  121|      -6.06db|           4/4|      No|        29|    89|          71|          63|          8|      64|           0|              20|             0|                  0|                             0|                1|               0|                       0|               0|                         0|                       0|   Ricky Dillard|More Abundantly M...|0.9931760848028455|          Juliet|              Avalon|0.9651469454636374|    The Jacksons|    Lovely One|0.9567517825366731|\n",
      "|      !!!|                 Ooo|[Verse 1] Remembe...| 03:44|    joy|hip hop|        As If|16th October 2015| A min|  122|      -5.42db|           4/4|      No|        24|    84|          78|          97|          4|      12|          12|               0|             0|                  0|                             0|                1|               0|                       0|               0|                         0|                       0|    Eric Clapton|       Man Overboard|0.9927492490501513|         Roxette|Don't Believe In ...|0.9914939607203931|     Tiwa Savage|     My Darlin|0.9903805989113865|\n",
      "|      !!!|          Freedom 15|[Verse 1] Calling...| 06:00|    joy|hip hop|        As If|16th October 2015| F min|  123|      -5.57db|           4/4|      No|        30|    71|          77|          70|          7|      10|           4|               1|             0|                  0|                             0|                1|               0|                       0|               0|                         0|                       0|      Cibo Matto|        Lint Of Love|0.9816095587586925| Barrington Levy|    Better Than Gold|0.9815243376825868|       Freestyle| Its Automatic|0.9814147734456016|\n",
      "+---------+--------------------+--------------------+------+-------+-------+-------------+-----------------+------+-----+-------------+--------------+--------+----------+------+------------+------------+-----------+--------+------------+----------------+--------------+-------------------+------------------------------+-----------------+----------------+------------------------+----------------+--------------------------+------------------------+----------------+--------------------+------------------+----------------+--------------------+------------------+----------------+--------------+------------------+\n",
      "only showing top 5 rows\n",
      "\n"
     ]
    },
    {
     "name": "stderr",
     "output_type": "stream",
     "text": [
      "                                                                                "
     ]
    }
   ],
   "source": [
    "df_parquet = spark.read.parquet(caminho_parquet)\n",
    "df_parquet.show(5)"
   ]
  },
  {
   "cell_type": "code",
   "execution_count": 8,
   "id": "a4794eb3-e973-4653-8c5d-73aad4f5e0ad",
   "metadata": {},
   "outputs": [],
   "source": [
    "import time\n",
    "\n",
    "def medir_tempo_leitura(funcao):\n",
    "    inicio = time.time()\n",
    "    resultado = funcao()\n",
    "    fim = time.time()\n",
    "    duracao = fim - inicio\n",
    "    print(f\"Tempo de execução: {duracao:.4f} segundos\")\n",
    "    return resultado"
   ]
  },
  {
   "cell_type": "code",
   "execution_count": 9,
   "id": "4eb21fb3-dce4-49c9-a2f2-7442e8b0a9dd",
   "metadata": {},
   "outputs": [
    {
     "name": "stderr",
     "output_type": "stream",
     "text": [
      "                                                                                "
     ]
    },
    {
     "name": "stdout",
     "output_type": "stream",
     "text": [
      "Tempo de execução: 100.8020 segundos\n"
     ]
    }
   ],
   "source": [
    "def ler_csv():\n",
    "    df = spark.read.csv(\"/spark-data/spotify_dataset.csv\", header=True, inferSchema=True)\n",
    "    df.select(\"song\").collect()\n",
    "    return df\n",
    "\n",
    "df_csv = medir_tempo_leitura(ler_csv)\n"
   ]
  },
  {
   "cell_type": "code",
   "execution_count": 10,
   "id": "21aebbbf-6272-4eac-bd3e-2f9946d020f2",
   "metadata": {},
   "outputs": [
    {
     "name": "stderr",
     "output_type": "stream",
     "text": [
      "                                                                                "
     ]
    },
    {
     "name": "stdout",
     "output_type": "stream",
     "text": [
      "Tempo de execução: 5.7439 segundos\n"
     ]
    }
   ],
   "source": [
    "def ler_parquet():\n",
    "    df = spark.read.parquet(\"/spark-data/meuarquivo.parquet\")\n",
    "    df.select(\"song\").collect()\n",
    "    return df\n",
    "\n",
    "df_parquet = medir_tempo_leitura(ler_parquet)\n"
   ]
  },
  {
   "cell_type": "code",
   "execution_count": 11,
   "id": "0fd19722-a1b8-40ab-a943-fdea79173fa4",
   "metadata": {},
   "outputs": [],
   "source": [
    "spark.stop()"
   ]
  },
  {
   "cell_type": "code",
   "execution_count": null,
   "id": "ab77c003-b0f7-420d-8770-50dbbc71fe49",
   "metadata": {},
   "outputs": [],
   "source": []
  }
 ],
 "metadata": {
  "kernelspec": {
   "display_name": "Python 3 (ipykernel)",
   "language": "python",
   "name": "python3"
  },
  "language_info": {
   "codemirror_mode": {
    "name": "ipython",
    "version": 3
   },
   "file_extension": ".py",
   "mimetype": "text/x-python",
   "name": "python",
   "nbconvert_exporter": "python",
   "pygments_lexer": "ipython3",
   "version": "3.12.10"
  }
 },
 "nbformat": 4,
 "nbformat_minor": 5
}
