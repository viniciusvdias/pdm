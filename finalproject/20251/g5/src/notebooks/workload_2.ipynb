{
 "cells": [
  {
   "cell_type": "code",
   "execution_count": 1,
   "id": "75f79c66-cd1b-45d9-b711-83ba4bae01d8",
   "metadata": {},
   "outputs": [
    {
     "name": "stderr",
     "output_type": "stream",
     "text": [
      "Setting default log level to \"WARN\".\n",
      "To adjust logging level use sc.setLogLevel(newLevel). For SparkR, use setLogLevel(newLevel).\n",
      "25/07/09 18:21:48 WARN NativeCodeLoader: Unable to load native-hadoop library for your platform... using builtin-java classes where applicable\n"
     ]
    },
    {
     "name": "stdout",
     "output_type": "stream",
     "text": [
      "Spark Session iniciada com sucesso!\n"
     ]
    }
   ],
   "source": [
    "from pyspark.sql import SparkSession\n",
    "from pyspark.sql.functions import col, split, explode, lower, regexp_replace, collect_set, size, array_intersect\n",
    "import socket\n",
    "import time\n",
    "\n",
    "# --- Configuração do Spark Session ---\n",
    "local_ip = socket.gethostbyname(socket.gethostname())\n",
    "\n",
    "spark = SparkSession.builder \\\n",
    "    .appName(\"Workload Pesado - Vocabulario Comum Entre Generos\") \\\n",
    "    .master(\"spark://spark-master:7077\") \\\n",
    "    .getOrCreate()\n",
    "\n",
    "print(\"Spark Session iniciada com sucesso!\")"
   ]
  },
  {
   "cell_type": "code",
   "execution_count": 2,
   "id": "dcf1ac47-d096-4ee8-adfa-0872f1af655b",
   "metadata": {},
   "outputs": [
    {
     "name": "stderr",
     "output_type": "stream",
     "text": [
      "                                                                                "
     ]
    },
    {
     "name": "stdout",
     "output_type": "stream",
     "text": [
      "Total de artistas com vocabulário: 2118\n"
     ]
    },
    {
     "name": "stderr",
     "output_type": "stream",
     "text": [
      "                                                                                "
     ]
    },
    {
     "name": "stdout",
     "output_type": "stream",
     "text": [
      "Número de pares comparados: 2026768\n",
      "\n",
      "--- Análise de Desempenho ---\n",
      "Tempo total de execução: 105.83 segundos\n",
      "----------------------------\n"
     ]
    }
   ],
   "source": [
    "def executar_workload_intersecao_artistas_generos_diferentes():\n",
    "    \"\"\"\n",
    "    Executa um workload pesado: encontra o número de palavras em comum\n",
    "    entre artistas, inclusive de gêneros diferentes.\n",
    "    Força milhares de combinações para estressar o cluster.\n",
    "    \"\"\"\n",
    "    from pyspark.sql import functions as F\n",
    "    from pyspark.sql.window import Window\n",
    "    import time\n",
    "\n",
    "    inicio = time.time()\n",
    "\n",
    "    # --- 1. Carregar e Preparar os Dados ---\n",
    "    caminho_parquet = \"/spark-data/musicas_limpas.parquet\"\n",
    "    df = spark.read.parquet(caminho_parquet)\n",
    "\n",
    "    # NÃO filtra os gêneros para forçar maior carga\n",
    "    df_palavras = df.withColumn(\"palavra\", F.explode(F.split(F.lower(F.regexp_replace(\"text\", r'[\\W_]+', ' ')), ' '))) \\\n",
    "                    .select(\"main_genre\", \"Artist(s)\", \"palavra\") \\\n",
    "                    .filter(F.col(\"palavra\") != \"\")\n",
    "\n",
    "    # Limita para os top 2000 artistas com mais músicas no total\n",
    "    df_top_artistas = df.groupBy(\"Artist(s)\").count()\n",
    "    df_top_artistas = df.groupBy(\"Artist(s)\").count() \\\n",
    "                    .orderBy(F.col(\"count\").desc()) \\\n",
    "                    .limit(2000) \\\n",
    "                    .select(\"Artist(s)\")\n",
    "\n",
    "    # Filtra df_palavras para manter só esses artistas\n",
    "    df_palavras_filtrado = df_palavras.join(df_top_artistas, on=\"Artist(s)\", how=\"inner\")\n",
    "\n",
    "    # Gera vocabulário de cada artista\n",
    "    df_vocabulario = df_palavras_filtrado.groupBy(\"Artist(s)\", \"main_genre\") \\\n",
    "                                         .agg(F.collect_set(\"palavra\").alias(\"vocabulario\"))\n",
    "\n",
    "    # Cache para otimizar\n",
    "    df_vocabulario = df_vocabulario.repartition(200).cache()\n",
    "    print(f\"Total de artistas com vocabulário: {df_vocabulario.count()}\")\n",
    "\n",
    "    # --- 2. Self Join completo (entre gêneros diferentes também) ---\n",
    "    df_a1 = df_vocabulario.alias(\"a1\")\n",
    "    df_a2 = df_vocabulario.alias(\"a2\")\n",
    "\n",
    "    df_pares = df_a1.join(\n",
    "        df_a2,\n",
    "        (F.col(\"a1.`Artist(s)`\") < F.col(\"a2.`Artist(s)`\")) &\n",
    "        (F.col(\"a1.main_genre\") != F.col(\"a2.main_genre\")),\n",
    "        \"inner\"\n",
    "    )\n",
    "\n",
    "    print(f\"Número de pares comparados: {df_pares.count()}\")\n",
    "\n",
    "    # --- 3. Cálculo da Interseção ---\n",
    "    df_resultado = df_pares.withColumn(\n",
    "        \"palavras_em_comum\",\n",
    "        F.size(F.array_intersect(F.col(\"a1.vocabulario\"), F.col(\"a2.vocabulario\")))\n",
    "    ).select(\n",
    "        F.col(\"a1.`Artist(s)`\").alias(\"artista_1\"),\n",
    "        F.col(\"a1.main_genre\").alias(\"genero_1\"),\n",
    "        F.col(\"a2.`Artist(s)`\").alias(\"artista_2\"),\n",
    "        F.col(\"a2.main_genre\").alias(\"genero_2\"),\n",
    "        \"palavras_em_comum\"\n",
    "    ).orderBy(F.col(\"palavras_em_comum\").desc())\n",
    "\n",
    "    fim = time.time()\n",
    "    duracao = fim - inicio\n",
    "\n",
    "    print(f\"\\n--- Análise de Desempenho ---\")\n",
    "    print(f\"Tempo total de execução: {duracao:.2f} segundos\")\n",
    "    print(f\"----------------------------\")\n",
    "\n",
    "    \n",
    "\n",
    "\n",
    "executar_workload_intersecao_artistas_generos_diferentes()\n",
    "\n",
    "spark.stop()"
   ]
  }
 ],
 "metadata": {
  "kernelspec": {
   "display_name": "Python 3 (ipykernel)",
   "language": "python",
   "name": "python3"
  },
  "language_info": {
   "codemirror_mode": {
    "name": "ipython",
    "version": 3
   },
   "file_extension": ".py",
   "mimetype": "text/x-python",
   "name": "python",
   "nbconvert_exporter": "python",
   "pygments_lexer": "ipython3",
   "version": "3.12.10"
  }
 },
 "nbformat": 4,
 "nbformat_minor": 5
}
