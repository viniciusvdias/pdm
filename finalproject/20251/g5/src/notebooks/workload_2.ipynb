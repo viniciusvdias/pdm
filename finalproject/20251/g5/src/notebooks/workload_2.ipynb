{
 "cells": [
  {
   "cell_type": "code",
   "execution_count": 1,
   "id": "75f79c66-cd1b-45d9-b711-83ba4bae01d8",
   "metadata": {},
   "outputs": [
    {
     "name": "stderr",
     "output_type": "stream",
     "text": [
      "Setting default log level to \"WARN\".\n",
      "To adjust logging level use sc.setLogLevel(newLevel). For SparkR, use setLogLevel(newLevel).\n",
      "25/07/09 20:25:26 WARN NativeCodeLoader: Unable to load native-hadoop library for your platform... using builtin-java classes where applicable\n"
     ]
    },
    {
     "name": "stdout",
     "output_type": "stream",
     "text": [
      "Spark Session iniciada com sucesso!\n"
     ]
    }
   ],
   "source": [
    "from pyspark.sql import SparkSession\n",
    "from pyspark.sql.functions import col, split, explode, lower, regexp_replace, collect_set, size, array_intersect\n",
    "import socket\n",
    "import time\n",
    "\n",
    "# --- Configuração do Spark Session ---\n",
    "local_ip = socket.gethostbyname(socket.gethostname())\n",
    "\n",
    "spark = SparkSession.builder \\\n",
    "    .appName(\"Workload Pesado - Vocabulario Comum Entre Generos\") \\\n",
    "    .master(\"spark://spark-master:7077\") \\\n",
    "    .getOrCreate()\n",
    "\n",
    "print(\"Spark Session iniciada com sucesso!\")"
   ]
  },
  {
   "cell_type": "code",
   "execution_count": 2,
   "id": "dcf1ac47-d096-4ee8-adfa-0872f1af655b",
   "metadata": {},
   "outputs": [
    {
     "ename": "AnalysisException",
     "evalue": "[PATH_NOT_FOUND] Path does not exist: file:/spark-data/musicas_limpas.parquet.",
     "output_type": "error",
     "traceback": [
      "\u001b[31m---------------------------------------------------------------------------\u001b[39m",
      "\u001b[31mAnalysisException\u001b[39m                         Traceback (most recent call last)",
      "\u001b[36mCell\u001b[39m\u001b[36m \u001b[39m\u001b[32mIn[2]\u001b[39m\u001b[32m, line 76\u001b[39m\n\u001b[32m     71\u001b[39m     \u001b[38;5;28mprint\u001b[39m(\u001b[33mf\u001b[39m\u001b[33m\"\u001b[39m\u001b[33mThroughput da execução: \u001b[39m\u001b[38;5;132;01m{\u001b[39;00mthroughput\u001b[38;5;132;01m:\u001b[39;00m\u001b[33m.2f\u001b[39m\u001b[38;5;132;01m}\u001b[39;00m\u001b[33m MB/s\u001b[39m\u001b[33m\"\u001b[39m)\n\u001b[32m     72\u001b[39m     \u001b[38;5;28mprint\u001b[39m(\u001b[33mf\u001b[39m\u001b[33m\"\u001b[39m\u001b[33m----------------------------\u001b[39m\u001b[33m\"\u001b[39m)\n\u001b[32m---> \u001b[39m\u001b[32m76\u001b[39m \u001b[43mexecutar_workload_intersecao_artistas_generos_diferentes\u001b[49m\u001b[43m(\u001b[49m\u001b[43m)\u001b[49m\n\u001b[32m     78\u001b[39m spark.stop()\n",
      "\u001b[36mCell\u001b[39m\u001b[36m \u001b[39m\u001b[32mIn[2]\u001b[39m\u001b[32m, line 15\u001b[39m, in \u001b[36mexecutar_workload_intersecao_artistas_generos_diferentes\u001b[39m\u001b[34m()\u001b[39m\n\u001b[32m     13\u001b[39m \u001b[38;5;66;03m# --- 1. Carregar e Preparar os Dados ---\u001b[39;00m\n\u001b[32m     14\u001b[39m caminho_parquet = \u001b[33m\"\u001b[39m\u001b[33m/spark-data/musicas_limpas.parquet\u001b[39m\u001b[33m\"\u001b[39m\n\u001b[32m---> \u001b[39m\u001b[32m15\u001b[39m df = \u001b[43mspark\u001b[49m\u001b[43m.\u001b[49m\u001b[43mread\u001b[49m\u001b[43m.\u001b[49m\u001b[43mparquet\u001b[49m\u001b[43m(\u001b[49m\u001b[43mcaminho_parquet\u001b[49m\u001b[43m)\u001b[49m\n\u001b[32m     17\u001b[39m \u001b[38;5;66;03m# NÃO filtra os gêneros para forçar maior carga\u001b[39;00m\n\u001b[32m     18\u001b[39m df_palavras = df.withColumn(\u001b[33m\"\u001b[39m\u001b[33mpalavra\u001b[39m\u001b[33m\"\u001b[39m, F.explode(F.split(F.lower(F.regexp_replace(\u001b[33m\"\u001b[39m\u001b[33mtext\u001b[39m\u001b[33m\"\u001b[39m, \u001b[33mr\u001b[39m\u001b[33m'\u001b[39m\u001b[33m[\u001b[39m\u001b[33m\\\u001b[39m\u001b[33mW_]+\u001b[39m\u001b[33m'\u001b[39m, \u001b[33m'\u001b[39m\u001b[33m \u001b[39m\u001b[33m'\u001b[39m)), \u001b[33m'\u001b[39m\u001b[33m \u001b[39m\u001b[33m'\u001b[39m))) \\\n\u001b[32m     19\u001b[39m                 .select(\u001b[33m\"\u001b[39m\u001b[33mmain_genre\u001b[39m\u001b[33m\"\u001b[39m, \u001b[33m\"\u001b[39m\u001b[33mArtist(s)\u001b[39m\u001b[33m\"\u001b[39m, \u001b[33m\"\u001b[39m\u001b[33mpalavra\u001b[39m\u001b[33m\"\u001b[39m) \\\n\u001b[32m     20\u001b[39m                 .filter(F.col(\u001b[33m\"\u001b[39m\u001b[33mpalavra\u001b[39m\u001b[33m\"\u001b[39m) != \u001b[33m\"\u001b[39m\u001b[33m\"\u001b[39m)\n",
      "\u001b[36mFile \u001b[39m\u001b[32m~opt/bitnami/spark/python/pyspark/sql/readwriter.py:544\u001b[39m, in \u001b[36mDataFrameReader.parquet\u001b[39m\u001b[34m(self, *paths, **options)\u001b[39m\n\u001b[32m    533\u001b[39m int96RebaseMode = options.get(\u001b[33m\"\u001b[39m\u001b[33mint96RebaseMode\u001b[39m\u001b[33m\"\u001b[39m, \u001b[38;5;28;01mNone\u001b[39;00m)\n\u001b[32m    534\u001b[39m \u001b[38;5;28mself\u001b[39m._set_opts(\n\u001b[32m    535\u001b[39m     mergeSchema=mergeSchema,\n\u001b[32m    536\u001b[39m     pathGlobFilter=pathGlobFilter,\n\u001b[32m   (...)\u001b[39m\u001b[32m    541\u001b[39m     int96RebaseMode=int96RebaseMode,\n\u001b[32m    542\u001b[39m )\n\u001b[32m--> \u001b[39m\u001b[32m544\u001b[39m \u001b[38;5;28;01mreturn\u001b[39;00m \u001b[38;5;28mself\u001b[39m._df(\u001b[38;5;28;43mself\u001b[39;49m\u001b[43m.\u001b[49m\u001b[43m_jreader\u001b[49m\u001b[43m.\u001b[49m\u001b[43mparquet\u001b[49m\u001b[43m(\u001b[49m\u001b[43m_to_seq\u001b[49m\u001b[43m(\u001b[49m\u001b[38;5;28;43mself\u001b[39;49m\u001b[43m.\u001b[49m\u001b[43m_spark\u001b[49m\u001b[43m.\u001b[49m\u001b[43m_sc\u001b[49m\u001b[43m,\u001b[49m\u001b[43m \u001b[49m\u001b[43mpaths\u001b[49m\u001b[43m)\u001b[49m\u001b[43m)\u001b[49m)\n",
      "\u001b[36mFile \u001b[39m\u001b[32m~opt/bitnami/spark/python/lib/py4j.zip/py4j/java_gateway.py:1322\u001b[39m, in \u001b[36mJavaMember.__call__\u001b[39m\u001b[34m(self, *args)\u001b[39m\n\u001b[32m   1316\u001b[39m command = proto.CALL_COMMAND_NAME +\\\n\u001b[32m   1317\u001b[39m     \u001b[38;5;28mself\u001b[39m.command_header +\\\n\u001b[32m   1318\u001b[39m     args_command +\\\n\u001b[32m   1319\u001b[39m     proto.END_COMMAND_PART\n\u001b[32m   1321\u001b[39m answer = \u001b[38;5;28mself\u001b[39m.gateway_client.send_command(command)\n\u001b[32m-> \u001b[39m\u001b[32m1322\u001b[39m return_value = \u001b[43mget_return_value\u001b[49m\u001b[43m(\u001b[49m\n\u001b[32m   1323\u001b[39m \u001b[43m    \u001b[49m\u001b[43manswer\u001b[49m\u001b[43m,\u001b[49m\u001b[43m \u001b[49m\u001b[38;5;28;43mself\u001b[39;49m\u001b[43m.\u001b[49m\u001b[43mgateway_client\u001b[49m\u001b[43m,\u001b[49m\u001b[43m \u001b[49m\u001b[38;5;28;43mself\u001b[39;49m\u001b[43m.\u001b[49m\u001b[43mtarget_id\u001b[49m\u001b[43m,\u001b[49m\u001b[43m \u001b[49m\u001b[38;5;28;43mself\u001b[39;49m\u001b[43m.\u001b[49m\u001b[43mname\u001b[49m\u001b[43m)\u001b[49m\n\u001b[32m   1325\u001b[39m \u001b[38;5;28;01mfor\u001b[39;00m temp_arg \u001b[38;5;129;01min\u001b[39;00m temp_args:\n\u001b[32m   1326\u001b[39m     \u001b[38;5;28;01mif\u001b[39;00m \u001b[38;5;28mhasattr\u001b[39m(temp_arg, \u001b[33m\"\u001b[39m\u001b[33m_detach\u001b[39m\u001b[33m\"\u001b[39m):\n",
      "\u001b[36mFile \u001b[39m\u001b[32m~opt/bitnami/spark/python/pyspark/errors/exceptions/captured.py:185\u001b[39m, in \u001b[36mcapture_sql_exception.<locals>.deco\u001b[39m\u001b[34m(*a, **kw)\u001b[39m\n\u001b[32m    181\u001b[39m converted = convert_exception(e.java_exception)\n\u001b[32m    182\u001b[39m \u001b[38;5;28;01mif\u001b[39;00m \u001b[38;5;129;01mnot\u001b[39;00m \u001b[38;5;28misinstance\u001b[39m(converted, UnknownException):\n\u001b[32m    183\u001b[39m     \u001b[38;5;66;03m# Hide where the exception came from that shows a non-Pythonic\u001b[39;00m\n\u001b[32m    184\u001b[39m     \u001b[38;5;66;03m# JVM exception message.\u001b[39;00m\n\u001b[32m--> \u001b[39m\u001b[32m185\u001b[39m     \u001b[38;5;28;01mraise\u001b[39;00m converted \u001b[38;5;28;01mfrom\u001b[39;00m\u001b[38;5;250m \u001b[39m\u001b[38;5;28;01mNone\u001b[39;00m\n\u001b[32m    186\u001b[39m \u001b[38;5;28;01melse\u001b[39;00m:\n\u001b[32m    187\u001b[39m     \u001b[38;5;28;01mraise\u001b[39;00m\n",
      "\u001b[31mAnalysisException\u001b[39m: [PATH_NOT_FOUND] Path does not exist: file:/spark-data/musicas_limpas.parquet."
     ]
    }
   ],
   "source": [
    "def executar_workload_intersecao_artistas_generos_diferentes():\n",
    "    \"\"\"\n",
    "    Executa um workload pesado: encontra o número de palavras em comum\n",
    "    entre artistas, inclusive de gêneros diferentes.\n",
    "    Força milhares de combinações para estressar o cluster.\n",
    "    \"\"\"\n",
    "    from pyspark.sql import functions as F\n",
    "    from pyspark.sql.window import Window\n",
    "    import time\n",
    "\n",
    "    inicio = time.time()\n",
    "\n",
    "    # --- 1. Carregar e Preparar os Dados ---\n",
    "    caminho_parquet = \"/spark-data/musicas_limpas_cluster.parquet\"\n",
    "    df = spark.read.parquet(caminho_parquet)\n",
    "\n",
    "    # NÃO filtra os gêneros para forçar maior carga\n",
    "    df_palavras = df.withColumn(\"palavra\", F.explode(F.split(F.lower(F.regexp_replace(\"text\", r'[\\W_]+', ' ')), ' '))) \\\n",
    "                    .select(\"main_genre\", \"Artist(s)\", \"palavra\") \\\n",
    "                    .filter(F.col(\"palavra\") != \"\")\n",
    "\n",
    "    # Limita para os top 2000 artistas com mais músicas no total\n",
    "    df_top_artistas = df.groupBy(\"Artist(s)\").count()\n",
    "    df_top_artistas = df.groupBy(\"Artist(s)\").count() \\\n",
    "                    .orderBy(F.col(\"count\").desc()) \\\n",
    "                    .limit(2000) \\\n",
    "                    .select(\"Artist(s)\")\n",
    "\n",
    "    # Filtra df_palavras para manter só esses artistas\n",
    "    df_palavras_filtrado = df_palavras.join(df_top_artistas, on=\"Artist(s)\", how=\"inner\")\n",
    "\n",
    "    # Gera vocabulário de cada artista\n",
    "    df_vocabulario = df_palavras_filtrado.groupBy(\"Artist(s)\", \"main_genre\") \\\n",
    "                                         .agg(F.collect_set(\"palavra\").alias(\"vocabulario\"))\n",
    "\n",
    "    # Cache para otimizar\n",
    "    df_vocabulario = df_vocabulario.repartition(200).cache()\n",
    "    print(f\"Total de artistas com vocabulário: {df_vocabulario.count()}\")\n",
    "\n",
    "    # --- 2. Self Join completo (entre gêneros diferentes também) ---\n",
    "    df_a1 = df_vocabulario.alias(\"a1\")\n",
    "    df_a2 = df_vocabulario.alias(\"a2\")\n",
    "\n",
    "    df_pares = df_a1.join(\n",
    "        df_a2,\n",
    "        (F.col(\"a1.`Artist(s)`\") < F.col(\"a2.`Artist(s)`\")) &\n",
    "        (F.col(\"a1.main_genre\") != F.col(\"a2.main_genre\")),\n",
    "        \"inner\"\n",
    "    )\n",
    "\n",
    "    print(f\"Número de pares comparados: {df_pares.count()}\")\n",
    "\n",
    "    # --- 3. Cálculo da Interseção ---\n",
    "    df_resultado = df_pares.withColumn(\n",
    "        \"palavras_em_comum\",\n",
    "        F.size(F.array_intersect(F.col(\"a1.vocabulario\"), F.col(\"a2.vocabulario\")))\n",
    "    ).select(\n",
    "        F.col(\"a1.`Artist(s)`\").alias(\"artista_1\"),\n",
    "        F.col(\"a1.main_genre\").alias(\"genero_1\"),\n",
    "        F.col(\"a2.`Artist(s)`\").alias(\"artista_2\"),\n",
    "        F.col(\"a2.main_genre\").alias(\"genero_2\"),\n",
    "        \"palavras_em_comum\"\n",
    "    ).orderBy(F.col(\"palavras_em_comum\").desc())\n",
    "\n",
    "    fim = time.time()\n",
    "    duracao = fim - inicio\n",
    "    throughput = 424/duracao\n",
    "\n",
    "    print(f\"\\n--- Análise de Desempenho ---\")\n",
    "    print(f\"Tempo total de execução: {duracao:.2f} segundos\")\n",
    "    print(f\"Throughput da execução: {throughput:.2f} MB/s\")\n",
    "    print(f\"----------------------------\")\n",
    "    \n",
    "\n",
    "\n",
    "executar_workload_intersecao_artistas_generos_diferentes()\n",
    "\n",
    "spark.stop()"
   ]
  },
  {
   "cell_type": "code",
   "execution_count": null,
   "id": "7cd20072-7f4c-48af-908c-aeaeb501a61f",
   "metadata": {},
   "outputs": [],
   "source": []
  }
 ],
 "metadata": {
  "kernelspec": {
   "display_name": "Python 3 (ipykernel)",
   "language": "python",
   "name": "python3"
  },
  "language_info": {
   "codemirror_mode": {
    "name": "ipython",
    "version": 3
   },
   "file_extension": ".py",
   "mimetype": "text/x-python",
   "name": "python",
   "nbconvert_exporter": "python",
   "pygments_lexer": "ipython3",
   "version": "3.12.10"
  }
 },
 "nbformat": 4,
 "nbformat_minor": 5
}
