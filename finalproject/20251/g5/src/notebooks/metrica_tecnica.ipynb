{
 "cells": [
  {
   "cell_type": "code",
   "execution_count": 1,
   "id": "c0f26c28-63ca-4f13-a95c-7738be577668",
   "metadata": {},
   "outputs": [
    {
     "name": "stderr",
     "output_type": "stream",
     "text": [
      "Setting default log level to \"WARN\".\n",
      "To adjust logging level use sc.setLogLevel(newLevel). For SparkR, use setLogLevel(newLevel).\n",
      "25/07/09 01:57:20 WARN NativeCodeLoader: Unable to load native-hadoop library for your platform... using builtin-java classes where applicable\n",
      "25/07/09 01:57:20 WARN Utils: Service 'SparkUI' could not bind on port 4040. Attempting port 4041.\n",
      "25/07/09 01:57:20 WARN Utils: Service 'SparkUI' could not bind on port 4041. Attempting port 4042.\n"
     ]
    }
   ],
   "source": [
    "from pyspark.sql import SparkSession\n",
    "from pyspark.sql.functions import col as spark_col, greatest, abs, when, lit, coalesce, expr, first\n",
    "from pyspark.sql.types import IntegerType\n",
    "\n",
    "spark = SparkSession.builder \\\n",
    "    .appName(\"Music Data Metrics\") \\\n",
    "    .getOrCreate()\n",
    "\n",
    "numeric_cols = [\n",
    "    \"Tempo\", \"Loudness (db)\", \"Energy\", \"Danceability\", \"Positiveness\",\n",
    "    \"Speechiness\", \"Liveness\", \"Acousticness\", \"Instrumentalness\", \"Popularity\"\n",
    "]"
   ]
  },
  {
   "cell_type": "code",
   "execution_count": 3,
   "id": "c28a7d21-6a80-4259-b8fa-03589d2eb700",
   "metadata": {},
   "outputs": [],
   "source": [
    "def popularity_poor():\n",
    "    df = spark.read.parquet(\"/spark-data/musicas_limpas_cluste.parquet\")\n",
    "    \n",
    "    genres = [row[\"main_genre\"] for row in df.select(\"main_genre\").distinct().collect()]\n",
    "    \n",
    "    results = []\n",
    "    \n",
    "    for genre in genres:\n",
    "        df_filtered = df.filter(spark_col(\"main_genre\") == genre)\n",
    "        min_value = -9999\n",
    "        best_metric = None\n",
    "        \n",
    "        for c in numeric_cols:\n",
    "            if c != \"Popularity\":\n",
    "                corr_value = df_filtered.stat.corr(\"Popularity\", c)\n",
    "    \n",
    "                if corr_value > min_value:\n",
    "                    min_value = corr_value\n",
    "                    best_metric = c\n",
    "        \n",
    "        if best_metric is not None:\n",
    "            results.append((genre, best_metric))\n",
    "    \n",
    "    result_df = spark.createDataFrame(results, [\"main_genre\", \"maior_corr_coluna\"])\n",
    "    result_df.show(10)"
   ]
  },
  {
   "cell_type": "code",
   "execution_count": 9,
   "id": "aeed8f70-8185-411a-a2fb-3b82e6fceb32",
   "metadata": {},
   "outputs": [],
   "source": [
    "def optimized():\n",
    "    df = spark.read.parquet(\"/spark-data/musicas_limpas_cluste.parquet\")\n",
    "    \n",
    "    corr_results = []\n",
    "    for col in numeric_cols:\n",
    "        if col != \"Popularity\":\n",
    "            corr_df = df.groupBy(\"main_genre\").agg(\n",
    "                expr(f\"corr(Popularity, `{col}`)\").alias(f\"corr_{col}\")\n",
    "            )\n",
    "            corr_results.append(corr_df)\n",
    "    \n",
    "    \n",
    "    final_result = corr_results[0]\n",
    "    for df in corr_results[1:]:\n",
    "        final_result = final_result.join(df, on=\"main_genre\", how=\"outer\")\n",
    "    \n",
    "    corr_columns = [c for c in final_result.columns if c.startswith('corr_')]\n",
    "    \n",
    "    max_value = greatest(*[spark_col(c) for c in corr_columns])\n",
    "    max_column_expr = coalesce(*[\n",
    "        when(spark_col(c) == max_value, lit(c.replace(\"corr_\", \"\"))) \n",
    "        for c in corr_columns\n",
    "    ])\n",
    "    \n",
    "    final_result = final_result.withColumn(\"maior_corr_coluna\", max_column_expr)\n",
    "    \n",
    "    final_result.select(\"main_genre\", \"maior_corr_coluna\").show(10)"
   ]
  },
  {
   "cell_type": "code",
   "execution_count": 5,
   "id": "bcab08aa-b27c-47a6-87e3-1323db331abd",
   "metadata": {},
   "outputs": [],
   "source": [
    "import time\n",
    "\n",
    "def medir_tempo_leitura(funcao):\n",
    "    inicio = time.time()\n",
    "    resultado = funcao()\n",
    "    fim = time.time()\n",
    "    duracao = fim - inicio\n",
    "    print(f\"Tempo de execução: {duracao:.4f} segundos\")\n",
    "    return resultado\n"
   ]
  },
  {
   "cell_type": "code",
   "execution_count": 12,
   "id": "fb0fc92e-647f-409b-b79a-ab03891a7ca4",
   "metadata": {},
   "outputs": [
    {
     "name": "stderr",
     "output_type": "stream",
     "text": [
      "[Stage 2722:=>(4 + 1) / 5][Stage 2723:> (0 + 0) / 5][Stage 2726:> (0 + 0) / 1]"
     ]
    },
    {
     "name": "stdout",
     "output_type": "stream",
     "text": [
      "+----------------+-----------------+\n",
      "|      main_genre|maior_corr_coluna|\n",
      "+----------------+-----------------+\n",
      "|        acoustic|     Danceability|\n",
      "|     alt-country|           Energy|\n",
      "|     alternative|     Positiveness|\n",
      "|alternative rock|           Energy|\n",
      "|         ambient|     Acousticness|\n",
      "|     black metal|    Loudness (db)|\n",
      "|           blues|     Danceability|\n",
      "|         britpop|            Tempo|\n",
      "|        chillout|    Loudness (db)|\n",
      "|       chillwave| Instrumentalness|\n",
      "+----------------+-----------------+\n",
      "only showing top 10 rows\n",
      "\n",
      "Tempo de execução: 2.2772 segundos\n"
     ]
    },
    {
     "name": "stderr",
     "output_type": "stream",
     "text": [
      "                                                                                "
     ]
    }
   ],
   "source": [
    "medir_tempo_leitura(optimized)"
   ]
  },
  {
   "cell_type": "code",
   "execution_count": 13,
   "id": "34ed99f1-3465-4bbd-9f07-c0e1f3925f0d",
   "metadata": {},
   "outputs": [
    {
     "name": "stdout",
     "output_type": "stream",
     "text": [
      "+-------------+-----------------+\n",
      "|   main_genre|maior_corr_coluna|\n",
      "+-------------+-----------------+\n",
      "|   electropop|           Energy|\n",
      "|         folk|           Energy|\n",
      "| experimental|           Energy|\n",
      "|    indie pop|     Danceability|\n",
      "|post-hardcore|     Danceability|\n",
      "|          pop|     Danceability|\n",
      "|  alternative|     Positiveness|\n",
      "|     pop rock|     Danceability|\n",
      "|    math rock|           Energy|\n",
      "|     new wave|     Positiveness|\n",
      "|        k-pop|     Danceability|\n",
      "|          rnb|            Tempo|\n",
      "|        grime|            Tempo|\n",
      "|      ambient|     Acousticness|\n",
      "|     chillout|    Loudness (db)|\n",
      "|    christian|           Energy|\n",
      "|      screamo|            Tempo|\n",
      "|        blues|     Danceability|\n",
      "|drum and bass|     Danceability|\n",
      "|        dance|           Energy|\n",
      "+-------------+-----------------+\n",
      "only showing top 20 rows\n",
      "\n",
      "Tempo de execução: 67.9523 segundos\n"
     ]
    }
   ],
   "source": [
    "medir_tempo_leitura(popularity_poor)"
   ]
  },
  {
   "cell_type": "code",
   "execution_count": null,
   "id": "0c95160d-2bc7-4975-a10d-4b6188d58b53",
   "metadata": {},
   "outputs": [],
   "source": []
  }
 ],
 "metadata": {
  "kernelspec": {
   "display_name": "Python 3 (ipykernel)",
   "language": "python",
   "name": "python3"
  },
  "language_info": {
   "codemirror_mode": {
    "name": "ipython",
    "version": 3
   },
   "file_extension": ".py",
   "mimetype": "text/x-python",
   "name": "python",
   "nbconvert_exporter": "python",
   "pygments_lexer": "ipython3",
   "version": "3.12.10"
  }
 },
 "nbformat": 4,
 "nbformat_minor": 5
}
