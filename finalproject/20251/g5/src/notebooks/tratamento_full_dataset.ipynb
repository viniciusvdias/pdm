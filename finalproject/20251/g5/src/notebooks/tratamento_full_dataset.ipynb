{
 "cells": [
  {
   "cell_type": "code",
   "execution_count": 1,
   "id": "b40c4b8d-483c-4113-a577-0b9af67a2d92",
   "metadata": {},
   "outputs": [
    {
     "name": "stderr",
     "output_type": "stream",
     "text": [
      "Setting default log level to \"WARN\".\n",
      "To adjust logging level use sc.setLogLevel(newLevel). For SparkR, use setLogLevel(newLevel).\n",
      "25/07/09 22:21:39 WARN NativeCodeLoader: Unable to load native-hadoop library for your platform... using builtin-java classes where applicable\n",
      "                                                                                "
     ]
    }
   ],
   "source": [
    "from pyspark.sql import SparkSession\n",
    "from pyspark.sql.functions import col, regexp_replace, when, udf, to_date, abs as abs_\n",
    "from pyspark.sql.types import IntegerType\n",
    "\n",
    "spark = SparkSession.builder \\\n",
    "    .appName(\"Music Data Cleaning\") \\\n",
    "    .getOrCreate()\n",
    "\n",
    "# Carregue seu arquivo parquet\n",
    "df = spark.read.parquet(\"/spark-data/transformado_bruto.parquet\")"
   ]
  },
  {
   "cell_type": "code",
   "execution_count": 2,
   "id": "117d4edd-748b-48ca-a4dc-ab543a7376fe",
   "metadata": {},
   "outputs": [
    {
     "name": "stdout",
     "output_type": "stream",
     "text": [
      "Número inicial de linhas: 1151\n",
      "Linhas após remover duplicatas: 1055\n"
     ]
    }
   ],
   "source": [
    "from pyspark.sql.functions import col, lower, split, substring\n",
    "\n",
    "# Vamos imprimir a contagem inicial de linhas para comparação\n",
    "initial_count = df.count()\n",
    "print(f\"Número inicial de linhas: {initial_count}\")\n",
    "\n",
    "# --- Passo 1: Limpar dados duplicados ---\n",
    "# Remove linhas onde a combinação de artista, álbum e música é idêntica.\n",
    "df_no_duplicates = df.dropDuplicates(['Artist(s)', 'Album', 'song'])\n",
    "print(f\"Linhas após remover duplicatas: {df_no_duplicates.count()}\")"
   ]
  },
  {
   "cell_type": "code",
   "execution_count": 3,
   "id": "f6a5d010-f84f-4244-b819-8d7675834ee1",
   "metadata": {},
   "outputs": [
    {
     "name": "stdout",
     "output_type": "stream",
     "text": [
      "Linhas após remover nulos: 1055\n"
     ]
    }
   ],
   "source": [
    "# --- Passo 2: Tratar dados nulos ---\n",
    "# Remove linhas onde colunas essenciais como 'song', 'Album' ou 'Time signature' são nulas.\n",
    "df_no_nulls = df_no_duplicates.na.drop(subset=['song', 'Album', 'Time signature'])\n",
    "print(f\"Linhas após remover nulos: {df_no_nulls.count()}\")"
   ]
  },
  {
   "cell_type": "code",
   "execution_count": 4,
   "id": "e153f3c4-4b87-45f9-81e6-ebae76e676a3",
   "metadata": {},
   "outputs": [],
   "source": [
    "# --- Passo 3: Limpar e transformar colunas ---\n",
    "df_transformed = df_no_nulls.withColumn(\n",
    "    # Deixar 'Release Date' apenas com o ano\n",
    "    \"release_year\",\n",
    "    substring(col(\"Release Date\"), -4, 4).cast(\"int\")\n",
    ").withColumn(\n",
    "    # Deixar 'Genre' apenas com o primeiro valor\n",
    "    \"main_genre\",\n",
    "    split(col(\"Genre\"), \",\")[0]\n",
    ").withColumn(\n",
    "    # Descaptalizar os valores da coluna 'emotion'\n",
    "    \"emotion_lower\",\n",
    "    lower(col(\"emotion\"))\n",
    ").withColumn(\n",
    "    # Loudness from string to float\n",
    "    \"Loudness (db)\",\n",
    "    abs_(regexp_replace(col(\"Loudness (db)\"), \"db\", \"\").cast(\"double\"))\n",
    ") "
   ]
  },
  {
   "cell_type": "code",
   "execution_count": 5,
   "id": "7d25bbd1-40ca-4036-931e-04078d4146c9",
   "metadata": {},
   "outputs": [],
   "source": [
    "# --- Deixa as colunas em formato numerico\n",
    "numeric_cols = [\n",
    "    \"Tempo\", \"Energy\", \"Danceability\", \"Positiveness\",\n",
    "    \"Speechiness\", \"Liveness\", \"Acousticness\", \"Instrumentalness\", \"Popularity\"\n",
    "]\n",
    "\n",
    "for c in numeric_cols:\n",
    "    df_transformed = df_transformed.withColumn(c, col(c).cast(\"integer\"))"
   ]
  },
  {
   "cell_type": "code",
   "execution_count": 6,
   "id": "d8d7f870-c2b1-4ddd-9694-b4bb9b929f17",
   "metadata": {},
   "outputs": [],
   "source": [
    "# --- Deixar apenas uma forma de escrita de hip-hop na coluna genero ---\n",
    "df_transformed = df_transformed.withColumn(\"main_genre\", \n",
    "    when(df_transformed[\"main_genre\"] == \"hip hop\", \"hip-hop\")\n",
    "    .otherwise(df_transformed[\"main_genre\"])\n",
    ")"
   ]
  },
  {
   "cell_type": "code",
   "execution_count": 7,
   "id": "69d42f80-6166-4b4d-8b9a-1376f6c32f44",
   "metadata": {},
   "outputs": [
    {
     "name": "stdout",
     "output_type": "stream",
     "text": [
      "Linhas após filtrar emoções: 1055\n"
     ]
    }
   ],
   "source": [
    "# --- Passo 4: Apagar emoções com poucos valores ---\n",
    "# Lista de emoções a serem removidas (já em minúsculas)\n",
    "emotions_to_remove = ['true', 'pink', 'thirst', 'angry', 'confusion', 'interest']\n",
    "\n",
    "df_filtered = df_transformed.filter(\n",
    "    ~col(\"emotion_lower\").isin(emotions_to_remove)\n",
    ")\n",
    "print(f\"Linhas após filtrar emoções: {df_filtered.count()}\")"
   ]
  },
  {
   "cell_type": "code",
   "execution_count": 8,
   "id": "40fb05b9-0b32-48f8-a61b-9df28c0ec092",
   "metadata": {},
   "outputs": [],
   "source": [
    "# --- Passo 5: Apagar colunas que não vamos usar ---\n",
    "columns_to_drop = [\n",
    "    # Colunas originais que foram transformadas\n",
    "    'Release Date', 'Genre', 'emotion',\n",
    "    # Colunas que o usuário pediu para apagar\n",
    "    'song',\n",
    "    'Similar Artist 1', 'Similar Song 1', 'Similarity Score 1',\n",
    "    'Similar Artist 2', 'Similar Song 2', 'Similarity Score 2',\n",
    "    'Similar Artist 3', 'Similar Song 3', 'Similarity Score 3'\n",
    "]\n",
    "\n",
    "df_final = df_filtered.drop(*columns_to_drop)"
   ]
  },
  {
   "cell_type": "code",
   "execution_count": 9,
   "id": "93b4577e-7b5d-4cf1-a0e7-46ac898f7187",
   "metadata": {},
   "outputs": [
    {
     "name": "stdout",
     "output_type": "stream",
     "text": [
      "\n",
      "Esquema do DataFrame final:\n",
      "root\n",
      " |-- Artist(s): string (nullable = true)\n",
      " |-- text: string (nullable = true)\n",
      " |-- Length: string (nullable = true)\n",
      " |-- Album: string (nullable = true)\n",
      " |-- Key: string (nullable = true)\n",
      " |-- Tempo: integer (nullable = true)\n",
      " |-- Loudness (db): double (nullable = true)\n",
      " |-- Time signature: string (nullable = true)\n",
      " |-- Explicit: string (nullable = true)\n",
      " |-- Popularity: integer (nullable = true)\n",
      " |-- Energy: integer (nullable = true)\n",
      " |-- Danceability: integer (nullable = true)\n",
      " |-- Positiveness: integer (nullable = true)\n",
      " |-- Speechiness: integer (nullable = true)\n",
      " |-- Liveness: integer (nullable = true)\n",
      " |-- Acousticness: integer (nullable = true)\n",
      " |-- Instrumentalness: integer (nullable = true)\n",
      " |-- Good for Party: string (nullable = true)\n",
      " |-- Good for Work/Study: string (nullable = true)\n",
      " |-- Good for Relaxation/Meditation: string (nullable = true)\n",
      " |-- Good for Exercise: string (nullable = true)\n",
      " |-- Good for Running: string (nullable = true)\n",
      " |-- Good for Yoga/Stretching: string (nullable = true)\n",
      " |-- Good for Driving: string (nullable = true)\n",
      " |-- Good for Social Gatherings: string (nullable = true)\n",
      " |-- Good for Morning Routine: string (nullable = true)\n",
      " |-- release_year: integer (nullable = true)\n",
      " |-- main_genre: string (nullable = true)\n",
      " |-- emotion_lower: string (nullable = true)\n",
      "\n",
      "\n",
      "Amostra dos dados limpos e pré-processados:\n"
     ]
    },
    {
     "name": "stderr",
     "output_type": "stream",
     "text": [
      "25/07/09 22:21:49 WARN SparkStringUtils: Truncated the string representation of a plan since it was too large. This behavior can be adjusted by setting 'spark.sql.debug.maxToStringFields'.\n"
     ]
    },
    {
     "name": "stdout",
     "output_type": "stream",
     "text": [
      "+--------------------+--------------------+------+--------------------+------+-----+-------------+--------------+--------+----------+------+------------+------------+-----------+--------+------------+----------------+--------------+-------------------+------------------------------+-----------------+----------------+------------------------+----------------+--------------------------+------------------------+------------+----------+-------------+\n",
      "|           Artist(s)|                text|Length|               Album|   Key|Tempo|Loudness (db)|Time signature|Explicit|Popularity|Energy|Danceability|Positiveness|Speechiness|Liveness|Acousticness|Instrumentalness|Good for Party|Good for Work/Study|Good for Relaxation/Meditation|Good for Exercise|Good for Running|Good for Yoga/Stretching|Good for Driving|Good for Social Gatherings|Good for Morning Routine|release_year|main_genre|emotion_lower|\n",
      "+--------------------+--------------------+------+--------------------+------+-----+-------------+--------------+--------+----------+------+------------+------------+-----------+--------+------------+----------------+--------------+-------------------+------------------------------+-----------------+----------------+------------------------+----------------+--------------------------+------------------------+------------+----------+-------------+\n",
      "|         !!!,Lea Lea|[Intro] Whoo  [Ve...|  4:30|   Shake The Shudder| C Maj|  133|         6.78|         4-Apr|      No|        31|    89|          78|          80|          7|      13|           5|               0|             0|                  0|                             0|                1|               0|                       0|               0|                         0|                       0|        2017|   hip-hop|      sadness|\n",
      "|              !Marc¡|[Chorus: Quavo] W...|  2:02|         STAY ZOOTED| C Maj|  175|         7.99|         4-Apr|     Yes|         0|    40|          72|          52|         28|      12|           0|               0|             0|                  0|                             0|                0|               0|                       0|               0|                         0|                       0|        2023|   hip-hop|        anger|\n",
      "|      !YADNUS,Daylyt|[Intro] It's iron...|  1:24|   LYT II SOCIETY...|D# min|   84|         9.69|         4-Apr|     Yes|         4|    54|          53|          96|         27|      26|          49|               0|             0|                  0|                             0|                0|               0|                       0|               0|                         0|                       0|        2019|   hip-hop|      sadness|\n",
      "|      !YADNUS,Daylyt|[Verse: Daylyt] S...|  1:15|   LYT II SOCIETY...| A Maj|   86|        10.44|         4-Apr|     Yes|         4|    55|          52|          78|         15|      27|          45|               0|             0|                  0|                             0|                0|               0|                       0|               0|                         0|                       0|        2019|   hip-hop|        anger|\n",
      "|      !YADNUS,Daylyt|We all claim purp...|  1:26|   LYT II SOCIETY...| A min|   77|        11.43|         4-Apr|     Yes|         4|    63|          65|          92|         31|      36|          60|               0|             0|                  0|                             0|                0|               0|                       0|               0|                         0|                       0|        2019|   hip-hop|          joy|\n",
      "|              !zeesh|[Verse 1: Bill] Y...|  1:52|Campfire (Freestyle)| D Maj|  101|        13.78|         4-Apr|     Yes|        51|    31|          64|          81|         38|      79|          85|               0|             0|                  0|                             0|                0|               0|                       0|               0|                         0|                       0|        2023|   hip-hop|        anger|\n",
      "| \"Blue\" Gene Tyranny|[Verse 1] He is i...|  8:20|Out of the Blue (...|D# Maj|   94|        13.36|         4-Apr|      No|        18|    12|          39|          16|          3|       7|          97|               0|             0|                  1|                             0|                0|               0|                       0|               0|                         0|                       0|        2019|   hip-hop|          joy|\n",
      "| \"Blue\" Gene Tyranny|[Verse 1] Hey, ba...|  8:06|Out of the Blue (...| B min|  127|         10.0|         4-Apr|      No|        31|    56|          42|          73|          3|      12|          68|               5|             0|                  0|                             0|                0|               0|                       0|               0|                         0|                       0|        2019|      jazz|          joy|\n",
      "|\"DEMONS\",Troy Jac...|[Intro] They felt...|  2:08|Rock & Roll with ...| B min|  110|        10.72|         4-Apr|      No|        14|    80|          42|          62|          6|      85|           0|               0|             0|                  0|                             0|                0|               0|                       0|               0|                         0|                       0|        2022|   hip-hop|      sadness|\n",
      "|\"Dear Evan Hansen...|[Verse One] In th...|  5:06|Dear Evan Hansen ...|G# min|   95|         5.49|         4-Apr|      No|        18|    56|          39|          18|          4|      17|          63|               0|             0|                  0|                             0|                0|               0|                       0|               0|                         0|                       0|        2018|   hip-hop|      sadness|\n",
      "+--------------------+--------------------+------+--------------------+------+-----+-------------+--------------+--------+----------+------+------------+------------+-----------+--------+------------+----------------+--------------+-------------------+------------------------------+-----------------+----------------+------------------------+----------------+--------------------------+------------------------+------------+----------+-------------+\n",
      "only showing top 10 rows\n",
      "\n"
     ]
    }
   ],
   "source": [
    "# --- Passo 5: Apagar colunas que não vamos usar ---\n",
    "columns_to_drop = [\n",
    "    # Colunas originais que foram transformadas\n",
    "    'Release Date', 'Genre', 'emotion',\n",
    "    # Colunas que o usuário pediu para apagar\n",
    "    'song',\n",
    "    'Similar Artist 1', 'Similar Song 1', 'Similarity Score 1',\n",
    "    'Similar Artist 2', 'Similar Song 2', 'Similarity Score 2',\n",
    "    'Similar Artist 3', 'Similar Song 3', 'Similarity Score 3'\n",
    "]\n",
    "\n",
    "df_final = df_filtered.drop(*columns_to_drop)\n",
    "\n",
    "\n",
    "# --- Resultado Final ---\n",
    "print(\"\\nEsquema do DataFrame final:\")\n",
    "df_final.printSchema()\n",
    "\n",
    "print(\"\\nAmostra dos dados limpos e pré-processados:\")\n",
    "df_final.show(10)"
   ]
  },
  {
   "cell_type": "code",
   "execution_count": 10,
   "id": "36d29310-1ab2-4c30-a553-236f30102430",
   "metadata": {},
   "outputs": [
    {
     "name": "stderr",
     "output_type": "stream",
     "text": [
      "                                                                                "
     ]
    },
    {
     "name": "stdout",
     "output_type": "stream",
     "text": [
      "DataFrame limpo foi salvo com sucesso em: /spark-data/musicas_limpas.parquet\n"
     ]
    }
   ],
   "source": [
    "# Supondo que seu DataFrame final e limpo se chama 'df_final'\n",
    "\n",
    "# 1. Defina o caminho de saída para o novo dataset\n",
    "caminho_saida = \"/spark-data/musicas_limpas.parquet\"\n",
    "\n",
    "# 2. Salve o DataFrame no formato Parquet\n",
    "df_final.write.mode(\"overwrite\").parquet(caminho_saida)\n",
    "\n",
    "print(f\"DataFrame limpo foi salvo com sucesso em: {caminho_saida}\")"
   ]
  },
  {
   "cell_type": "code",
   "execution_count": 11,
   "id": "85eedcff-e409-4290-8e91-32bf080c955c",
   "metadata": {},
   "outputs": [],
   "source": [
    "spark.stop()"
   ]
  },
  {
   "cell_type": "code",
   "execution_count": null,
   "id": "8aedbdaf-ac52-40a2-a507-7e7028b37bbf",
   "metadata": {},
   "outputs": [],
   "source": []
  }
 ],
 "metadata": {
  "kernelspec": {
   "display_name": "Python 3 (ipykernel)",
   "language": "python",
   "name": "python3"
  },
  "language_info": {
   "codemirror_mode": {
    "name": "ipython",
    "version": 3
   },
   "file_extension": ".py",
   "mimetype": "text/x-python",
   "name": "python",
   "nbconvert_exporter": "python",
   "pygments_lexer": "ipython3",
   "version": "3.12.10"
  }
 },
 "nbformat": 4,
 "nbformat_minor": 5
}
