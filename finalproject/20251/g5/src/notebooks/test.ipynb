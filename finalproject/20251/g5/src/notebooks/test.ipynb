{
 "cells": [
  {
   "cell_type": "code",
   "execution_count": 1,
   "id": "598fb2fa-7d38-4058-ab4a-23367fd22a48",
   "metadata": {},
   "outputs": [],
   "source": [
    "from pyspark.sql import SparkSession\n",
    "\n",
    "spark = SparkSession.builder \\\n",
    "    .appName(\"Leitura CSV\") \\\n",
    "    .getOrCreate()"
   ]
  },
  {
   "cell_type": "code",
   "execution_count": 2,
   "id": "fce0085f-d3b7-40c3-b641-338fbcc5b5ea",
   "metadata": {},
   "outputs": [
    {
     "name": "stdout",
     "output_type": "stream",
     "text": [
      "root\n",
      " |-- Artist(s): string (nullable = true)\n",
      " |-- song: string (nullable = true)\n",
      " |-- text: string (nullable = true)\n",
      " |-- Length: string (nullable = true)\n",
      " |-- emotion: string (nullable = true)\n",
      " |-- Genre: string (nullable = true)\n",
      " |-- Album: string (nullable = true)\n",
      " |-- Release Date: string (nullable = true)\n",
      " |-- Key: string (nullable = true)\n",
      " |-- Tempo: string (nullable = true)\n",
      " |-- Loudness (db): string (nullable = true)\n",
      " |-- Time signature: string (nullable = true)\n",
      " |-- Explicit: string (nullable = true)\n",
      " |-- Popularity: string (nullable = true)\n",
      " |-- Energy: string (nullable = true)\n",
      " |-- Danceability: string (nullable = true)\n",
      " |-- Positiveness: string (nullable = true)\n",
      " |-- Speechiness: string (nullable = true)\n",
      " |-- Liveness: string (nullable = true)\n",
      " |-- Acousticness: string (nullable = true)\n",
      " |-- Instrumentalness: string (nullable = true)\n",
      " |-- Good for Party: string (nullable = true)\n",
      " |-- Good for Work/Study: string (nullable = true)\n",
      " |-- Good for Relaxation/Meditation: string (nullable = true)\n",
      " |-- Good for Exercise: string (nullable = true)\n",
      " |-- Good for Running: string (nullable = true)\n",
      " |-- Good for Yoga/Stretching: string (nullable = true)\n",
      " |-- Good for Driving: string (nullable = true)\n",
      " |-- Good for Social Gatherings: string (nullable = true)\n",
      " |-- Good for Morning Routine: string (nullable = true)\n",
      " |-- Similar Artist 1: string (nullable = true)\n",
      " |-- Similar Song 1: string (nullable = true)\n",
      " |-- Similarity Score 1: string (nullable = true)\n",
      " |-- Similar Artist 2: string (nullable = true)\n",
      " |-- Similar Song 2: string (nullable = true)\n",
      " |-- Similarity Score 2: string (nullable = true)\n",
      " |-- Similar Artist 3: string (nullable = true)\n",
      " |-- Similar Song 3: string (nullable = true)\n",
      " |-- Similarity Score 3: string (nullable = true)\n",
      "\n",
      "+---------+--------------------+--------------------+--------------------+--------------------+--------------------+--------------------+--------------------+--------------------+-------+-------------+--------------+---------------+----------+------+--------------------+--------------------+--------------------+--------------------+--------------------+----------------+--------------+-------------------+------------------------------+-----------------+----------------+------------------------+----------------+--------------------------+------------------------+----------------+--------------------+------------------+----------------+----------------+------------------+--------------------+------------------+------------------+\n",
      "|Artist(s)|                song|                text|              Length|             emotion|               Genre|               Album|        Release Date|                 Key|  Tempo|Loudness (db)|Time signature|       Explicit|Popularity|Energy|        Danceability|        Positiveness|         Speechiness|            Liveness|        Acousticness|Instrumentalness|Good for Party|Good for Work/Study|Good for Relaxation/Meditation|Good for Exercise|Good for Running|Good for Yoga/Stretching|Good for Driving|Good for Social Gatherings|Good for Morning Routine|Similar Artist 1|      Similar Song 1|Similarity Score 1|Similar Artist 2|  Similar Song 2|Similarity Score 2|    Similar Artist 3|    Similar Song 3|Similarity Score 3|\n",
      "+---------+--------------------+--------------------+--------------------+--------------------+--------------------+--------------------+--------------------+--------------------+-------+-------------+--------------+---------------+----------+------+--------------------+--------------------+--------------------+--------------------+--------------------+----------------+--------------+-------------------+------------------------------+-----------------+----------------+------------------------+----------------+--------------------------+------------------------+----------------+--------------------+------------------+----------------+----------------+------------------+--------------------+------------------+------------------+\n",
      "|      !!!|Even When the Wat...|\"Friends told her...| you won't know w...| friends told her...| she doesn't reme...| she sees clearly...| and he never cal...|               03:47|sadness|      hip hop|      Thr!!!er|29th April 2013|     D min|   105|             -6.85db|                 4/4|                  No|                  40|                  83|              71|            87|                  4|                            16|               11|               0|                       0|               0|                         0|                       0|               0|                   0|                 0|               0|               0|       Corey Smith|If I Could Do It ...|0.9860607848219312|        Toby Keith|\n",
      "|      !!!|  One Girl / One Boy|Well I heard it, ...|               04:03|             sadness|             hip hop|            Thr!!!er|     29th April 2013|              A# min|    117|      -5.75db|           4/4|             No|        42|    85|                  70|                  87|                   4|                  32|                   0|               0|             0|                  0|                             0|                0|               0|                       0|               0|                         0|                       0| Hiroyuki Sawano|        BRE@TH//LESS|0.9954090051457943|    When In Rome|    Heaven Knows|0.9909052446506661|        Justice Crew|         Everybody|0.9844825577360079|\n",
      "|      !!!|   Pardon My Freedom|Oh my god, did I ...|               05:51|                 joy|             hip hop|       Louden Up Now|       8th June 2004|               A Maj|    121|      -6.06db|           4/4|             No|        29|    89|                  71|                  63|                   8|                  64|                   0|              20|             0|                  0|                             0|                1|               0|                       0|               0|                         0|                       0|   Ricky Dillard|More Abundantly M...|0.9931760848028455|          Juliet|          Avalon|0.9651469454636374|        The Jacksons|        Lovely One|0.9567517825366731|\n",
      "|      !!!|                 Ooo|\"[Verse 1] Rememb...| it's just you an...| girl? Shouldn't ...| girl?  [Verse 2]...| did I forget to ...| girl? Shouldn't ...| girl?  [Bridge] ...|   ever|         ever|     ever Ever|           ever|      ever|  ever| ever  [Chorus] S...| girl? (Should we...| girl? (Should we...| ever and ever (F...| ever Don't you t...|           03:44|           joy|            hip hop|                         As If|16th October 2015|           A min|                     122|         -5.42db|                       4/4|                      No|              24|                  84|                78|              97|               4|                12|                  12|                 0|                 0|\n",
      "|      !!!|          Freedom 15|[Verse 1] Calling...|               06:00|                 joy|             hip hop|               As If|   16th October 2015|               F min|    123|      -5.57db|           4/4|             No|        30|    71|                  77|                  70|                   7|                  10|                   4|               1|             0|                  0|                             0|                1|               0|                       0|               0|                         0|                       0|      Cibo Matto|        Lint Of Love|0.9816095587586925| Barrington Levy|Better Than Gold|0.9815243376825868|           Freestyle|     Its Automatic|0.9814147734456016|\n",
      "+---------+--------------------+--------------------+--------------------+--------------------+--------------------+--------------------+--------------------+--------------------+-------+-------------+--------------+---------------+----------+------+--------------------+--------------------+--------------------+--------------------+--------------------+----------------+--------------+-------------------+------------------------------+-----------------+----------------+------------------------+----------------+--------------------------+------------------------+----------------+--------------------+------------------+----------------+----------------+------------------+--------------------+------------------+------------------+\n",
      "only showing top 5 rows\n",
      "\n"
     ]
    }
   ],
   "source": [
    "df = spark.read.csv(\"../spark-data/spotify_dataset.csv\", header=True, inferSchema=True)\n",
    "\n",
    "df.printSchema()\n",
    "df.show(5)\n"
   ]
  },
  {
   "cell_type": "code",
   "execution_count": null,
   "id": "152b9120-d044-4494-bc73-edce17718e52",
   "metadata": {},
   "outputs": [],
   "source": []
  }
 ],
 "metadata": {
  "kernelspec": {
   "display_name": "Python 3 (ipykernel)",
   "language": "python",
   "name": "python3"
  },
  "language_info": {
   "codemirror_mode": {
    "name": "ipython",
    "version": 3
   },
   "file_extension": ".py",
   "mimetype": "text/x-python",
   "name": "python",
   "nbconvert_exporter": "python",
   "pygments_lexer": "ipython3",
   "version": "3.11.6"
  }
 },
 "nbformat": 4,
 "nbformat_minor": 5
}
