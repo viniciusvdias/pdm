{
 "cells": [
  {
   "cell_type": "code",
   "execution_count": 9,
   "id": "f6a68f5a-c04f-4f62-b88a-818c9835da4b",
   "metadata": {},
   "outputs": [
    {
     "name": "stdout",
     "output_type": "stream",
     "text": [
      "Conectado ao Spark master: spark://spark-master:7077\n"
     ]
    }
   ],
   "source": [
    "from pyspark.sql import SparkSession\n",
    "import socket\n",
    "\n",
    "# Descobre IP local do container\n",
    "local_ip = socket.gethostbyname(socket.gethostname())\n",
    "\n",
    "spark = SparkSession.builder \\\n",
    "    .appName(\"Analises\") \\\n",
    "    .master(\"spark://spark-master:7077\") \\\n",
    "    .config(\"spark.driver.host\", local_ip) \\\n",
    "    .getOrCreate()\n",
    "\n",
    "print(\"Conectado ao Spark master:\", spark.sparkContext.master)"
   ]
  },
  {
   "cell_type": "code",
   "execution_count": 10,
   "id": "b86bfa0e-6f3f-437d-9ae6-bba5e6573cb7",
   "metadata": {},
   "outputs": [
    {
     "name": "stderr",
     "output_type": "stream",
     "text": [
      "                                                                                "
     ]
    },
    {
     "name": "stdout",
     "output_type": "stream",
     "text": [
      "+-------------------+\n",
      "|main_genre         |\n",
      "+-------------------+\n",
      "|acoustic           |\n",
      "|alt-country        |\n",
      "|alternative        |\n",
      "|alternative rock   |\n",
      "|ambient            |\n",
      "|black metal        |\n",
      "|blues              |\n",
      "|britpop            |\n",
      "|chillout           |\n",
      "|chillwave          |\n",
      "|christian          |\n",
      "|classic rock       |\n",
      "|classical          |\n",
      "|cloud rap          |\n",
      "|comedy             |\n",
      "|country            |\n",
      "|dance              |\n",
      "|dancehall          |\n",
      "|death metal        |\n",
      "|deathcore          |\n",
      "|disco              |\n",
      "|doom metal         |\n",
      "|dream pop          |\n",
      "|drum and bass      |\n",
      "|dub                |\n",
      "|dubstep            |\n",
      "|electro            |\n",
      "|electronic         |\n",
      "|electropop         |\n",
      "|emo                |\n",
      "|emo rap            |\n",
      "|experimental       |\n",
      "|folk               |\n",
      "|funk               |\n",
      "|garage rock        |\n",
      "|gospel             |\n",
      "|grime              |\n",
      "|grunge             |\n",
      "|hard rock          |\n",
      "|hardcore           |\n",
      "|heavy metal        |\n",
      "|hip-hop            |\n",
      "|house              |\n",
      "|indie              |\n",
      "|indie pop          |\n",
      "|indie rock         |\n",
      "|industrial         |\n",
      "|j-pop              |\n",
      "|jazz               |\n",
      "|k-pop              |\n",
      "|latin              |\n",
      "|lo-fi              |\n",
      "|math rock          |\n",
      "|melodic death metal|\n",
      "|metal              |\n",
      "|metalcore          |\n",
      "|new wave           |\n",
      "|nu metal           |\n",
      "|pop                |\n",
      "|pop punk           |\n",
      "|pop rock           |\n",
      "|post-hardcore      |\n",
      "|post-punk          |\n",
      "|power metal        |\n",
      "|progressive metal  |\n",
      "|progressive rock   |\n",
      "|psychedelic        |\n",
      "|psychedelic rock   |\n",
      "|punk               |\n",
      "|punk rock          |\n",
      "|rap                |\n",
      "|reggae             |\n",
      "|reggaeton          |\n",
      "|rnb                |\n",
      "|rock               |\n",
      "|screamo            |\n",
      "|shoegaze           |\n",
      "|soul               |\n",
      "|soundtrack         |\n",
      "|swing              |\n",
      "|synthpop           |\n",
      "|techno             |\n",
      "|thrash metal       |\n",
      "|trance             |\n",
      "|trap               |\n",
      "|trip-hop           |\n",
      "|worship            |\n",
      "+-------------------+\n",
      "\n"
     ]
    },
    {
     "name": "stderr",
     "output_type": "stream",
     "text": [
      "[Stage 4:===============================================>           (4 + 1) / 5]"
     ]
    },
    {
     "name": "stdout",
     "output_type": "stream",
     "text": [
      "Quantidade de gêneros únicos: 87\n"
     ]
    },
    {
     "name": "stderr",
     "output_type": "stream",
     "text": [
      "                                                                                "
     ]
    }
   ],
   "source": [
    "# Lê o Parquet\n",
    "# 1. Defina o caminho de saída para o novo dataset\n",
    "caminho_parquet = \"/spark-data/musicas_limpas_cluste.parquet\"\n",
    "\n",
    "df = spark.read.parquet(caminho_parquet)\n",
    "\n",
    "#df.select(\"main_genre\").distinct().show(truncate=False)\n",
    "\n",
    "df.select(\"main_genre\").distinct().orderBy(\"main_genre\").show(100, truncate=False)\n",
    "\n",
    "generos_unicos = df.select(\"main_genre\").distinct().count()\n",
    "print(f\"Quantidade de gêneros únicos: {generos_unicos}\")"
   ]
  },
  {
   "cell_type": "code",
   "execution_count": 11,
   "id": "98c7819f-5f10-4b6e-a54b-0145a9902a7e",
   "metadata": {},
   "outputs": [
    {
     "name": "stderr",
     "output_type": "stream",
     "text": [
      "[Stage 10:==============================================>           (4 + 1) / 5]"
     ]
    },
    {
     "name": "stdout",
     "output_type": "stream",
     "text": [
      "+-------------------+------+\n",
      "|main_genre         |count |\n",
      "+-------------------+------+\n",
      "|hip-hop            |222984|\n",
      "|rock               |69637 |\n",
      "|pop                |30973 |\n",
      "|alternative rock   |13209 |\n",
      "|electronic         |10730 |\n",
      "|rap                |10225 |\n",
      "|country            |9880  |\n",
      "|folk               |9549  |\n",
      "|pop rock           |8490  |\n",
      "|jazz               |7512  |\n",
      "|indie rock         |7252  |\n",
      "|soul               |6624  |\n",
      "|trap               |6138  |\n",
      "|reggae             |5797  |\n",
      "|indie pop          |4483  |\n",
      "|punk               |4304  |\n",
      "|metal              |4099  |\n",
      "|heavy metal        |3878  |\n",
      "|blues              |3237  |\n",
      "|soundtrack         |2926  |\n",
      "|synthpop           |2517  |\n",
      "|metalcore          |2503  |\n",
      "|classical          |2336  |\n",
      "|hard rock          |2194  |\n",
      "|progressive rock   |2159  |\n",
      "|electropop         |2028  |\n",
      "|drum and bass      |2022  |\n",
      "|indie              |1954  |\n",
      "|funk               |1566  |\n",
      "|psychedelic rock   |1472  |\n",
      "|progressive metal  |1433  |\n",
      "|gospel             |1413  |\n",
      "|post-hardcore      |1375  |\n",
      "|emo                |1371  |\n",
      "|punk rock          |1356  |\n",
      "|melodic death metal|1323  |\n",
      "|pop punk           |1288  |\n",
      "|dance              |1176  |\n",
      "|disco              |1169  |\n",
      "|new wave           |1153  |\n",
      "|ambient            |934   |\n",
      "|shoegaze           |918   |\n",
      "|alternative        |892   |\n",
      "|post-punk          |892   |\n",
      "|hardcore           |886   |\n",
      "|comedy             |871   |\n",
      "|power metal        |862   |\n",
      "|classic rock       |802   |\n",
      "|k-pop              |792   |\n",
      "|trance             |792   |\n",
      "|deathcore          |725   |\n",
      "|house              |688   |\n",
      "|swing              |638   |\n",
      "|trip-hop           |634   |\n",
      "|lo-fi              |617   |\n",
      "|nu metal           |603   |\n",
      "|thrash metal       |600   |\n",
      "|experimental       |580   |\n",
      "|j-pop              |570   |\n",
      "|christian          |564   |\n",
      "|dream pop          |534   |\n",
      "|garage rock        |507   |\n",
      "|black metal        |503   |\n",
      "|rnb                |496   |\n",
      "|death metal        |486   |\n",
      "|industrial         |422   |\n",
      "|techno             |390   |\n",
      "|worship            |371   |\n",
      "|latin              |353   |\n",
      "|grime              |327   |\n",
      "|emo rap            |320   |\n",
      "|dancehall          |312   |\n",
      "|screamo            |308   |\n",
      "|math rock          |286   |\n",
      "|electro            |269   |\n",
      "|doom metal         |248   |\n",
      "|acoustic           |238   |\n",
      "|grunge             |237   |\n",
      "|cloud rap          |199   |\n",
      "|dubstep            |169   |\n",
      "|dub                |114   |\n",
      "|chillwave          |78    |\n",
      "|psychedelic        |76    |\n",
      "|alt-country        |56    |\n",
      "|chillout           |48    |\n",
      "|britpop            |46    |\n",
      "|reggaeton          |10    |\n",
      "+-------------------+------+\n",
      "\n"
     ]
    },
    {
     "name": "stderr",
     "output_type": "stream",
     "text": [
      "                                                                                "
     ]
    }
   ],
   "source": [
    "# Conta a distribuição dos gêneros\n",
    "df.groupBy(\"main_genre\") \\\n",
    "  .count() \\\n",
    "  .orderBy(\"count\", ascending=False) \\\n",
    "  .show(87, truncate=False)"
   ]
  },
  {
   "cell_type": "code",
   "execution_count": 8,
   "id": "4e9473f8-0df3-4e9d-b933-1619ebca68f7",
   "metadata": {},
   "outputs": [],
   "source": [
    "spark.stop()"
   ]
  },
  {
   "cell_type": "code",
   "execution_count": null,
   "id": "a4df72e1-e3b7-4537-a98a-acfbea391610",
   "metadata": {},
   "outputs": [],
   "source": []
  }
 ],
 "metadata": {
  "kernelspec": {
   "display_name": "Python 3 (ipykernel)",
   "language": "python",
   "name": "python3"
  },
  "language_info": {
   "codemirror_mode": {
    "name": "ipython",
    "version": 3
   },
   "file_extension": ".py",
   "mimetype": "text/x-python",
   "name": "python",
   "nbconvert_exporter": "python",
   "pygments_lexer": "ipython3",
   "version": "3.12.10"
  }
 },
 "nbformat": 4,
 "nbformat_minor": 5
}
