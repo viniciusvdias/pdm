{
 "cells": [
  {
   "cell_type": "code",
   "execution_count": 13,
   "id": "f6a68f5a-c04f-4f62-b88a-818c9835da4b",
   "metadata": {},
   "outputs": [
    {
     "name": "stdout",
     "output_type": "stream",
     "text": [
      "Conectado ao Spark master: spark://spark-master:7077\n"
     ]
    }
   ],
   "source": [
    "from pyspark.sql import SparkSession\n",
    "import socket\n",
    "\n",
    "# Descobre IP local do container\n",
    "local_ip = socket.gethostbyname(socket.gethostname())\n",
    "\n",
    "spark = SparkSession.builder \\\n",
    "    .appName(\"Analises\") \\\n",
    "    .master(\"spark://spark-master:7077\") \\\n",
    "    .config(\"spark.driver.host\", local_ip) \\\n",
    "    .getOrCreate()\n",
    "\n",
    "print(\"Conectado ao Spark master:\", spark.sparkContext.master)"
   ]
  },
  {
   "cell_type": "code",
   "execution_count": 14,
   "id": "b86bfa0e-6f3f-437d-9ae6-bba5e6573cb7",
   "metadata": {},
   "outputs": [
    {
     "name": "stderr",
     "output_type": "stream",
     "text": [
      "                                                                                "
     ]
    },
    {
     "name": "stdout",
     "output_type": "stream",
     "text": [
      "+-------------------+\n",
      "|main_genre         |\n",
      "+-------------------+\n",
      "|acoustic           |\n",
      "|alt-country        |\n",
      "|alternative        |\n",
      "|alternative rock   |\n",
      "|ambient            |\n",
      "|black metal        |\n",
      "|blues              |\n",
      "|britpop            |\n",
      "|chillout           |\n",
      "|chillwave          |\n",
      "|christian          |\n",
      "|classic rock       |\n",
      "|classical          |\n",
      "|cloud rap          |\n",
      "|comedy             |\n",
      "|country            |\n",
      "|dance              |\n",
      "|dancehall          |\n",
      "|death metal        |\n",
      "|deathcore          |\n",
      "|disco              |\n",
      "|doom metal         |\n",
      "|dream pop          |\n",
      "|drum and bass      |\n",
      "|dub                |\n",
      "|dubstep            |\n",
      "|electro            |\n",
      "|electronic         |\n",
      "|electropop         |\n",
      "|emo                |\n",
      "|emo rap            |\n",
      "|experimental       |\n",
      "|folk               |\n",
      "|funk               |\n",
      "|garage rock        |\n",
      "|gospel             |\n",
      "|grime              |\n",
      "|grunge             |\n",
      "|hard rock          |\n",
      "|hardcore           |\n",
      "|heavy metal        |\n",
      "|hip-hop            |\n",
      "|house              |\n",
      "|indie              |\n",
      "|indie pop          |\n",
      "|indie rock         |\n",
      "|industrial         |\n",
      "|j-pop              |\n",
      "|jazz               |\n",
      "|k-pop              |\n",
      "|latin              |\n",
      "|lo-fi              |\n",
      "|math rock          |\n",
      "|melodic death metal|\n",
      "|metal              |\n",
      "|metalcore          |\n",
      "|new wave           |\n",
      "|nu metal           |\n",
      "|pop                |\n",
      "|pop punk           |\n",
      "|pop rock           |\n",
      "|post-hardcore      |\n",
      "|post-punk          |\n",
      "|power metal        |\n",
      "|progressive metal  |\n",
      "|progressive rock   |\n",
      "|psychedelic        |\n",
      "|psychedelic rock   |\n",
      "|punk               |\n",
      "|punk rock          |\n",
      "|rap                |\n",
      "|reggae             |\n",
      "|reggaeton          |\n",
      "|rnb                |\n",
      "|rock               |\n",
      "|screamo            |\n",
      "|shoegaze           |\n",
      "|soul               |\n",
      "|soundtrack         |\n",
      "|swing              |\n",
      "|synthpop           |\n",
      "|techno             |\n",
      "|thrash metal       |\n",
      "|trance             |\n",
      "|trap               |\n",
      "|trip-hop           |\n",
      "|worship            |\n",
      "+-------------------+\n",
      "\n",
      "Quantidade de gêneros únicos: 87\n"
     ]
    }
   ],
   "source": [
    "# Lê o Parquet\n",
    "# 1. Defina o caminho de saída para o novo dataset\n",
    "caminho_parquet = \"/spark-data/musicas_limpas_cluste.parquet\"\n",
    "\n",
    "df = spark.read.parquet(caminho_parquet)\n",
    "\n",
    "#df.select(\"main_genre\").distinct().show(truncate=False)\n",
    "\n",
    "df.select(\"main_genre\").distinct().orderBy(\"main_genre\").show(100, truncate=False)\n",
    "\n",
    "generos_unicos = df.select(\"main_genre\").distinct().count()\n",
    "print(f\"Quantidade de gêneros únicos: {generos_unicos}\")"
   ]
  },
  {
   "cell_type": "code",
   "execution_count": 19,
   "id": "ba31b2c1-14ba-44a2-b9e5-d031b09ed4f1",
   "metadata": {},
   "outputs": [
    {
     "name": "stderr",
     "output_type": "stream",
     "text": [
      "                                                                                "
     ]
    },
    {
     "name": "stdout",
     "output_type": "stream",
     "text": [
      "+-------------------+------+----------+\n",
      "|main_genre         |count |percentual|\n",
      "+-------------------+------+----------+\n",
      "|hip-hop            |222984|44.78     |\n",
      "|rock               |69637 |13.98     |\n",
      "|pop                |30973 |6.22      |\n",
      "|alternative rock   |13209 |2.65      |\n",
      "|electronic         |10730 |2.15      |\n",
      "|rap                |10225 |2.05      |\n",
      "|country            |9880  |1.98      |\n",
      "|folk               |9549  |1.92      |\n",
      "|pop rock           |8490  |1.7       |\n",
      "|jazz               |7512  |1.51      |\n",
      "|indie rock         |7252  |1.46      |\n",
      "|soul               |6624  |1.33      |\n",
      "|trap               |6138  |1.23      |\n",
      "|reggae             |5797  |1.16      |\n",
      "|indie pop          |4483  |0.9       |\n",
      "|punk               |4304  |0.86      |\n",
      "|metal              |4099  |0.82      |\n",
      "|heavy metal        |3878  |0.78      |\n",
      "|blues              |3237  |0.65      |\n",
      "|soundtrack         |2926  |0.59      |\n",
      "|synthpop           |2517  |0.51      |\n",
      "|metalcore          |2503  |0.5       |\n",
      "|classical          |2336  |0.47      |\n",
      "|hard rock          |2194  |0.44      |\n",
      "|progressive rock   |2159  |0.43      |\n",
      "|electropop         |2028  |0.41      |\n",
      "|drum and bass      |2022  |0.41      |\n",
      "|indie              |1954  |0.39      |\n",
      "|funk               |1566  |0.31      |\n",
      "|psychedelic rock   |1472  |0.3       |\n",
      "|progressive metal  |1433  |0.29      |\n",
      "|gospel             |1413  |0.28      |\n",
      "|post-hardcore      |1375  |0.28      |\n",
      "|emo                |1371  |0.28      |\n",
      "|punk rock          |1356  |0.27      |\n",
      "|melodic death metal|1323  |0.27      |\n",
      "|pop punk           |1288  |0.26      |\n",
      "|dance              |1176  |0.24      |\n",
      "|disco              |1169  |0.23      |\n",
      "|new wave           |1153  |0.23      |\n",
      "|ambient            |934   |0.19      |\n",
      "|shoegaze           |918   |0.18      |\n",
      "|alternative        |892   |0.18      |\n",
      "|post-punk          |892   |0.18      |\n",
      "|hardcore           |886   |0.18      |\n",
      "|comedy             |871   |0.17      |\n",
      "|power metal        |862   |0.17      |\n",
      "|classic rock       |802   |0.16      |\n",
      "|k-pop              |792   |0.16      |\n",
      "|trance             |792   |0.16      |\n",
      "|deathcore          |725   |0.15      |\n",
      "|house              |688   |0.14      |\n",
      "|swing              |638   |0.13      |\n",
      "|trip-hop           |634   |0.13      |\n",
      "|lo-fi              |617   |0.12      |\n",
      "|nu metal           |603   |0.12      |\n",
      "|thrash metal       |600   |0.12      |\n",
      "|experimental       |580   |0.12      |\n",
      "|j-pop              |570   |0.11      |\n",
      "|christian          |564   |0.11      |\n",
      "|dream pop          |534   |0.11      |\n",
      "|garage rock        |507   |0.1       |\n",
      "|black metal        |503   |0.1       |\n",
      "|rnb                |496   |0.1       |\n",
      "|death metal        |486   |0.1       |\n",
      "|industrial         |422   |0.08      |\n",
      "|techno             |390   |0.08      |\n",
      "|worship            |371   |0.07      |\n",
      "|latin              |353   |0.07      |\n",
      "|grime              |327   |0.07      |\n",
      "|emo rap            |320   |0.06      |\n",
      "|dancehall          |312   |0.06      |\n",
      "|screamo            |308   |0.06      |\n",
      "|math rock          |286   |0.06      |\n",
      "|electro            |269   |0.05      |\n",
      "|doom metal         |248   |0.05      |\n",
      "|acoustic           |238   |0.05      |\n",
      "|grunge             |237   |0.05      |\n",
      "|cloud rap          |199   |0.04      |\n",
      "|dubstep            |169   |0.03      |\n",
      "|dub                |114   |0.02      |\n",
      "|chillwave          |78    |0.02      |\n",
      "|psychedelic        |76    |0.02      |\n",
      "|alt-country        |56    |0.01      |\n",
      "|chillout           |48    |0.01      |\n",
      "|britpop            |46    |0.01      |\n",
      "|reggaeton          |10    |0.0       |\n",
      "+-------------------+------+----------+\n",
      "\n"
     ]
    }
   ],
   "source": [
    "from pyspark.sql.functions import col, count, round\n",
    "\n",
    "genero_dist = df.groupBy(\"main_genre\").count()\n",
    "\n",
    "total = df.count()\n",
    "\n",
    "genero_dist.withColumn(\"percentual\", round((col(\"count\") / total) * 100, 2)) \\\n",
    "    .orderBy(\"count\", ascending=False) \\\n",
    "    .show(87,truncate=False)\n"
   ]
  },
  {
   "cell_type": "code",
   "execution_count": 20,
   "id": "5f9efa2b-e643-4ba7-a46b-d8b158f3d3df",
   "metadata": {},
   "outputs": [
    {
     "name": "stderr",
     "output_type": "stream",
     "text": [
      "[Stage 41:==================================>                       (3 + 1) / 5]"
     ]
    },
    {
     "name": "stdout",
     "output_type": "stream",
     "text": [
      "Quantidade de anos únicos: 108\n"
     ]
    },
    {
     "name": "stderr",
     "output_type": "stream",
     "text": [
      "                                                                                "
     ]
    }
   ],
   "source": [
    "anos_unicos = df.select(\"release_year\").distinct().count()\n",
    "print(f\"Quantidade de anos únicos: {anos_unicos}\")"
   ]
  },
  {
   "cell_type": "code",
   "execution_count": 22,
   "id": "c4ea9f62-a863-447b-b611-86d8ee4f81bb",
   "metadata": {},
   "outputs": [
    {
     "name": "stderr",
     "output_type": "stream",
     "text": [
      "                                                                                "
     ]
    },
    {
     "name": "stdout",
     "output_type": "stream",
     "text": [
      "+------------+-----+----------+\n",
      "|release_year|count|percentual|\n",
      "+------------+-----+----------+\n",
      "|2018        |40069|8.05      |\n",
      "|2019        |38143|7.66      |\n",
      "|2017        |36566|7.34      |\n",
      "|2020        |33800|6.79      |\n",
      "|2016        |28085|5.64      |\n",
      "|2024        |25652|5.15      |\n",
      "|2021        |25000|5.02      |\n",
      "|2015        |21990|4.42      |\n",
      "|2014        |18073|3.63      |\n",
      "|2013        |16539|3.32      |\n",
      "|2012        |13806|2.77      |\n",
      "|2023        |12193|2.45      |\n",
      "|2022        |11937|2.4       |\n",
      "|2011        |11678|2.34      |\n",
      "|2010        |9703 |1.95      |\n",
      "|2009        |9006 |1.81      |\n",
      "|2007        |8265 |1.66      |\n",
      "|2008        |8155 |1.64      |\n",
      "|2006        |7958 |1.6       |\n",
      "|2005        |6956 |1.4       |\n",
      "|2003        |6133 |1.23      |\n",
      "|2004        |6113 |1.23      |\n",
      "|1999        |5230 |1.05      |\n",
      "|2002        |5148 |1.03      |\n",
      "|2001        |5017 |1.01      |\n",
      "|1996        |4677 |0.94      |\n",
      "|1998        |4639 |0.93      |\n",
      "|1997        |4482 |0.9       |\n",
      "|1995        |4289 |0.86      |\n",
      "|2000        |4227 |0.85      |\n",
      "|1994        |4120 |0.83      |\n",
      "|1993        |3777 |0.76      |\n",
      "|1992        |3133 |0.63      |\n",
      "|1991        |3105 |0.62      |\n",
      "|1989        |2706 |0.54      |\n",
      "|1990        |2670 |0.54      |\n",
      "|1987        |2302 |0.46      |\n",
      "|1980        |2253 |0.45      |\n",
      "|1988        |2224 |0.45      |\n",
      "|1984        |2106 |0.42      |\n",
      "|1979        |2008 |0.4       |\n",
      "|1985        |2005 |0.4       |\n",
      "|1986        |1987 |0.4       |\n",
      "|1981        |1953 |0.39      |\n",
      "|1978        |1914 |0.38      |\n",
      "|1982        |1898 |0.38      |\n",
      "|1983        |1889 |0.38      |\n",
      "|1977        |1801 |0.36      |\n",
      "|1970        |1751 |0.35      |\n",
      "|1972        |1694 |0.34      |\n",
      "|1973        |1693 |0.34      |\n",
      "|1971        |1597 |0.32      |\n",
      "|1974        |1555 |0.31      |\n",
      "|1976        |1524 |0.31      |\n",
      "|1975        |1518 |0.3       |\n",
      "|1969        |1378 |0.28      |\n",
      "|1968        |1227 |0.25      |\n",
      "|1967        |1208 |0.24      |\n",
      "|1966        |830  |0.17      |\n",
      "|1965        |804  |0.16      |\n",
      "|1964        |591  |0.12      |\n",
      "|1963        |478  |0.1       |\n",
      "|1960        |405  |0.08      |\n",
      "|1962        |402  |0.08      |\n",
      "|1961        |310  |0.06      |\n",
      "|1957        |303  |0.06      |\n",
      "|1959        |300  |0.06      |\n",
      "|1958        |258  |0.05      |\n",
      "|1956        |223  |0.04      |\n",
      "|1955        |102  |0.02      |\n",
      "|1954        |94   |0.02      |\n",
      "|1953        |93   |0.02      |\n",
      "|1952        |60   |0.01      |\n",
      "|1939        |30   |0.01      |\n",
      "|1950        |19   |0.0       |\n",
      "|1948        |19   |0.0       |\n",
      "|1900        |18   |0.0       |\n",
      "|1951        |14   |0.0       |\n",
      "|1945        |12   |0.0       |\n",
      "|1949        |10   |0.0       |\n",
      "|1926        |8    |0.0       |\n",
      "|1929        |8    |0.0       |\n",
      "|1928        |8    |0.0       |\n",
      "|1942        |7    |0.0       |\n",
      "|1944        |7    |0.0       |\n",
      "|1947        |6    |0.0       |\n",
      "|1899        |5    |0.0       |\n",
      "|1927        |4    |0.0       |\n",
      "|1938        |4    |0.0       |\n",
      "|1913        |4    |0.0       |\n",
      "|1931        |4    |0.0       |\n",
      "|1921        |3    |0.0       |\n",
      "|1946        |3    |0.0       |\n",
      "|1932        |3    |0.0       |\n",
      "|1920        |3    |0.0       |\n",
      "|1903        |2    |0.0       |\n",
      "|1916        |2    |0.0       |\n",
      "|1940        |2    |0.0       |\n",
      "|1925        |2    |0.0       |\n",
      "|1930        |2    |0.0       |\n",
      "|1924        |2    |0.0       |\n",
      "|1943        |2    |0.0       |\n",
      "|1933        |2    |0.0       |\n",
      "|1904        |1    |0.0       |\n",
      "|1905        |1    |0.0       |\n",
      "|1941        |1    |0.0       |\n",
      "|1935        |1    |0.0       |\n",
      "|1922        |1    |0.0       |\n",
      "+------------+-----+----------+\n",
      "\n"
     ]
    },
    {
     "name": "stderr",
     "output_type": "stream",
     "text": [
      "                                                                                "
     ]
    }
   ],
   "source": [
    "from pyspark.sql.functions import col, count, round\n",
    "\n",
    "anos_dist = df.groupBy(\"release_year\").count()\n",
    "\n",
    "total = df.count()\n",
    "\n",
    "anos_dist.withColumn(\"percentual\", round((col(\"count\") / total) * 100, 2)) \\\n",
    "    .orderBy(\"count\", ascending=False) \\\n",
    "    .show(108,truncate=False)"
   ]
  },
  {
   "cell_type": "code",
   "execution_count": 23,
   "id": "179f95c2-a55a-4915-8b71-c75d12f62a46",
   "metadata": {},
   "outputs": [
    {
     "name": "stdout",
     "output_type": "stream",
     "text": [
      "Quantidade de emoções únicas: 6\n"
     ]
    },
    {
     "name": "stderr",
     "output_type": "stream",
     "text": [
      "                                                                                "
     ]
    }
   ],
   "source": [
    "emotion_unicas = df.select(\"emotion_lower\").distinct().count()\n",
    "print(f\"Quantidade de emoções únicas: {emotion_unicas}\")"
   ]
  },
  {
   "cell_type": "code",
   "execution_count": 24,
   "id": "5721deca-175d-41f7-a6b6-d947c9d324c9",
   "metadata": {},
   "outputs": [
    {
     "name": "stdout",
     "output_type": "stream",
     "text": [
      "+-------------+------+----------+\n",
      "|emotion_lower|count |percentual|\n",
      "+-------------+------+----------+\n",
      "|joy          |189360|38.02     |\n",
      "|sadness      |156798|31.49     |\n",
      "|anger        |95484 |19.17     |\n",
      "|fear         |26001 |5.22      |\n",
      "|love         |25381 |5.1       |\n",
      "|surprise     |4974  |1.0       |\n",
      "+-------------+------+----------+\n",
      "\n"
     ]
    }
   ],
   "source": [
    "from pyspark.sql.functions import col, count, round\n",
    "\n",
    "emotion_dist = df.groupBy(\"emotion_lower\").count()\n",
    "\n",
    "total = df.count()\n",
    "\n",
    "emotion_dist.withColumn(\"percentual\", round((col(\"count\") / total) * 100, 2)) \\\n",
    "    .orderBy(\"count\", ascending=False) \\\n",
    "    .show(108,truncate=False)"
   ]
  },
  {
   "cell_type": "code",
   "execution_count": 25,
   "id": "4e9473f8-0df3-4e9d-b933-1619ebca68f7",
   "metadata": {},
   "outputs": [],
   "source": [
    "spark.stop()"
   ]
  },
  {
   "cell_type": "code",
   "execution_count": null,
   "id": "b9dfb935-cc6b-40d7-a13e-d118ccc0b710",
   "metadata": {},
   "outputs": [],
   "source": []
  }
 ],
 "metadata": {
  "kernelspec": {
   "display_name": "Python 3 (ipykernel)",
   "language": "python",
   "name": "python3"
  },
  "language_info": {
   "codemirror_mode": {
    "name": "ipython",
    "version": 3
   },
   "file_extension": ".py",
   "mimetype": "text/x-python",
   "name": "python",
   "nbconvert_exporter": "python",
   "pygments_lexer": "ipython3",
   "version": "3.12.10"
  }
 },
 "nbformat": 4,
 "nbformat_minor": 5
}
