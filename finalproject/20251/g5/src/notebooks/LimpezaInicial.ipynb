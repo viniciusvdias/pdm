{
 "cells": [
  {
   "cell_type": "code",
   "execution_count": 11,
   "id": "b40c4b8d-483c-4113-a577-0b9af67a2d92",
   "metadata": {},
   "outputs": [
    {
     "name": "stderr",
     "output_type": "stream",
     "text": [
      "25/07/09 01:17:45 WARN Utils: Service 'SparkUI' could not bind on port 4040. Attempting port 4041.\n"
     ]
    }
   ],
   "source": [
    "from pyspark.sql import SparkSession\n",
    "from pyspark.sql.functions import col, regexp_replace, when, udf, to_date, abs as abs_\n",
    "from pyspark.sql.types import IntegerType\n",
    "\n",
    "spark = SparkSession.builder \\\n",
    "    .appName(\"Music Data Cleaning\") \\\n",
    "    .getOrCreate()\n",
    "\n",
    "# Carregue seu arquivo parquet\n",
    "df = spark.read.parquet(\"/spark-data/meuarquivo.parquet\")"
   ]
  },
  {
   "cell_type": "code",
   "execution_count": 12,
   "id": "117d4edd-748b-48ca-a4dc-ab543a7376fe",
   "metadata": {},
   "outputs": [
    {
     "name": "stdout",
     "output_type": "stream",
     "text": [
      "Número inicial de linhas: 551443\n"
     ]
    },
    {
     "name": "stderr",
     "output_type": "stream",
     "text": [
      "[Stage 4:============================================>              (3 + 1) / 4]"
     ]
    },
    {
     "name": "stdout",
     "output_type": "stream",
     "text": [
      "Linhas após remover duplicatas: 498052\n"
     ]
    },
    {
     "name": "stderr",
     "output_type": "stream",
     "text": [
      "                                                                                "
     ]
    }
   ],
   "source": [
    "from pyspark.sql.functions import col, lower, split, substring\n",
    "\n",
    "# Vamos imprimir a contagem inicial de linhas para comparação\n",
    "initial_count = df.count()\n",
    "print(f\"Número inicial de linhas: {initial_count}\")\n",
    "\n",
    "# --- Passo 1: Limpar dados duplicados ---\n",
    "# Remove linhas onde a combinação de artista, álbum e música é idêntica.\n",
    "df_no_duplicates = df.dropDuplicates(['Artist(s)', 'Album', 'song'])\n",
    "print(f\"Linhas após remover duplicatas: {df_no_duplicates.count()}\")"
   ]
  },
  {
   "cell_type": "code",
   "execution_count": 13,
   "id": "f6a5d010-f84f-4244-b819-8d7675834ee1",
   "metadata": {},
   "outputs": [
    {
     "name": "stderr",
     "output_type": "stream",
     "text": [
      "[Stage 12:>                                                         (0 + 1) / 1]"
     ]
    },
    {
     "name": "stdout",
     "output_type": "stream",
     "text": [
      "Linhas após remover nulos: 498021\n"
     ]
    },
    {
     "name": "stderr",
     "output_type": "stream",
     "text": [
      "                                                                                "
     ]
    }
   ],
   "source": [
    "# --- Passo 2: Tratar dados nulos ---\n",
    "# Remove linhas onde colunas essenciais como 'song', 'Album' ou 'Time signature' são nulas.\n",
    "df_no_nulls = df_no_duplicates.na.drop(subset=['song', 'Album', 'Time signature'])\n",
    "print(f\"Linhas após remover nulos: {df_no_nulls.count()}\")"
   ]
  },
  {
   "cell_type": "code",
   "execution_count": 14,
   "id": "e153f3c4-4b87-45f9-81e6-ebae76e676a3",
   "metadata": {},
   "outputs": [],
   "source": [
    "# --- Passo 3: Limpar e transformar colunas ---\n",
    "df_transformed = df_no_nulls.withColumn(\n",
    "    # Deixar 'Release Date' apenas com o ano\n",
    "    \"release_year\",\n",
    "    substring(col(\"Release Date\"), -4, 4).cast(\"int\")\n",
    ").withColumn(\n",
    "    # Deixar 'Genre' apenas com o primeiro valor\n",
    "    \"main_genre\",\n",
    "    split(col(\"Genre\"), \",\")[0]\n",
    ").withColumn(\n",
    "    # Descaptalizar os valores da coluna 'emotion'\n",
    "    \"emotion_lower\",\n",
    "    lower(col(\"emotion\"))\n",
    ").withColumn(\n",
    "    # Loudness from string to float\n",
    "    \"Loudness (db)\",\n",
    "    abs_(regexp_replace(col(\"Loudness (db)\"), \"db\", \"\").cast(\"double\"))\n",
    ") "
   ]
  },
  {
   "cell_type": "code",
   "execution_count": 15,
   "id": "7d25bbd1-40ca-4036-931e-04078d4146c9",
   "metadata": {},
   "outputs": [],
   "source": [
    "# --- Deixa as colunas em formato numerico\n",
    "numeric_cols = [\n",
    "    \"Tempo\", \"Energy\", \"Danceability\", \"Positiveness\",\n",
    "    \"Speechiness\", \"Liveness\", \"Acousticness\", \"Instrumentalness\", \"Popularity\"\n",
    "]\n",
    "\n",
    "for c in numeric_cols:\n",
    "    df_transformed = df_transformed.withColumn(c, col(c).cast(\"integer\"))"
   ]
  },
  {
   "cell_type": "code",
   "execution_count": 16,
   "id": "d8d7f870-c2b1-4ddd-9694-b4bb9b929f17",
   "metadata": {},
   "outputs": [],
   "source": [
    "# --- Deixar apenas uma forma de escrita de hip-hop na coluna genero ---\n",
    "df_transformed = df_transformed.withColumn(\"main_genre\", \n",
    "    when(df_transformed[\"main_genre\"] == \"hip hop\", \"hip-hop\")\n",
    "    .otherwise(df_transformed[\"main_genre\"])\n",
    ")"
   ]
  },
  {
   "cell_type": "code",
   "execution_count": 17,
   "id": "69d42f80-6166-4b4d-8b9a-1376f6c32f44",
   "metadata": {},
   "outputs": [
    {
     "name": "stderr",
     "output_type": "stream",
     "text": [
      "[Stage 18:>                                                         (0 + 1) / 1]"
     ]
    },
    {
     "name": "stdout",
     "output_type": "stream",
     "text": [
      "Linhas após filtrar emoções: 497998\n"
     ]
    },
    {
     "name": "stderr",
     "output_type": "stream",
     "text": [
      "                                                                                "
     ]
    }
   ],
   "source": [
    "# --- Passo 4: Apagar emoções com poucos valores ---\n",
    "# Lista de emoções a serem removidas (já em minúsculas)\n",
    "emotions_to_remove = ['true', 'pink', 'thirst', 'angry', 'confusion', 'interest']\n",
    "\n",
    "df_filtered = df_transformed.filter(\n",
    "    ~col(\"emotion_lower\").isin(emotions_to_remove)\n",
    ")\n",
    "print(f\"Linhas após filtrar emoções: {df_filtered.count()}\")"
   ]
  },
  {
   "cell_type": "code",
   "execution_count": 18,
   "id": "40fb05b9-0b32-48f8-a61b-9df28c0ec092",
   "metadata": {},
   "outputs": [],
   "source": [
    "# --- Passo 5: Apagar colunas que não vamos usar ---\n",
    "columns_to_drop = [\n",
    "    # Colunas originais que foram transformadas\n",
    "    'Release Date', 'Genre', 'emotion',\n",
    "    # Colunas que o usuário pediu para apagar\n",
    "    'song',\n",
    "    'Similar Artist 1', 'Similar Song 1', 'Similarity Score 1',\n",
    "    'Similar Artist 2', 'Similar Song 2', 'Similarity Score 2',\n",
    "    'Similar Artist 3', 'Similar Song 3', 'Similarity Score 3'\n",
    "]\n",
    "\n",
    "df_final = df_filtered.drop(*columns_to_drop)"
   ]
  },
  {
   "cell_type": "code",
   "execution_count": 19,
   "id": "93b4577e-7b5d-4cf1-a0e7-46ac898f7187",
   "metadata": {},
   "outputs": [
    {
     "name": "stdout",
     "output_type": "stream",
     "text": [
      "\n",
      "Esquema do DataFrame final:\n",
      "root\n",
      " |-- Artist(s): string (nullable = true)\n",
      " |-- text: string (nullable = true)\n",
      " |-- Length: string (nullable = true)\n",
      " |-- Album: string (nullable = true)\n",
      " |-- Key: string (nullable = true)\n",
      " |-- Tempo: integer (nullable = true)\n",
      " |-- Loudness (db): double (nullable = true)\n",
      " |-- Time signature: string (nullable = true)\n",
      " |-- Explicit: string (nullable = true)\n",
      " |-- Popularity: integer (nullable = true)\n",
      " |-- Energy: integer (nullable = true)\n",
      " |-- Danceability: integer (nullable = true)\n",
      " |-- Positiveness: integer (nullable = true)\n",
      " |-- Speechiness: integer (nullable = true)\n",
      " |-- Liveness: integer (nullable = true)\n",
      " |-- Acousticness: integer (nullable = true)\n",
      " |-- Instrumentalness: integer (nullable = true)\n",
      " |-- Good for Party: string (nullable = true)\n",
      " |-- Good for Work/Study: string (nullable = true)\n",
      " |-- Good for Relaxation/Meditation: string (nullable = true)\n",
      " |-- Good for Exercise: string (nullable = true)\n",
      " |-- Good for Running: string (nullable = true)\n",
      " |-- Good for Yoga/Stretching: string (nullable = true)\n",
      " |-- Good for Driving: string (nullable = true)\n",
      " |-- Good for Social Gatherings: string (nullable = true)\n",
      " |-- Good for Morning Routine: string (nullable = true)\n",
      " |-- release_year: integer (nullable = true)\n",
      " |-- main_genre: string (nullable = true)\n",
      " |-- emotion_lower: string (nullable = true)\n",
      "\n",
      "\n",
      "Amostra dos dados limpos e pré-processados:\n"
     ]
    },
    {
     "name": "stderr",
     "output_type": "stream",
     "text": [
      "[Stage 22:===========================================>              (3 + 1) / 4]"
     ]
    },
    {
     "name": "stdout",
     "output_type": "stream",
     "text": [
      "+--------------------+--------------------+------+--------------------+------+-----+-------------+--------------+--------+----------+------+------------+------------+-----------+--------+------------+----------------+--------------+-------------------+------------------------------+-----------------+----------------+------------------------+----------------+--------------------------+------------------------+------------+----------+-------------+\n",
      "|           Artist(s)|                text|Length|               Album|   Key|Tempo|Loudness (db)|Time signature|Explicit|Popularity|Energy|Danceability|Positiveness|Speechiness|Liveness|Acousticness|Instrumentalness|Good for Party|Good for Work/Study|Good for Relaxation/Meditation|Good for Exercise|Good for Running|Good for Yoga/Stretching|Good for Driving|Good for Social Gatherings|Good for Morning Routine|release_year|main_genre|emotion_lower|\n",
      "+--------------------+--------------------+------+--------------------+------+-----+-------------+--------------+--------+----------+------+------------+------------+-----------+--------+------------+----------------+--------------+-------------------+------------------------------+-----------------+----------------+------------------------+----------------+--------------------------+------------------------+------------+----------+-------------+\n",
      "|                 !!!|All you writers G...| 05:22|All U Writers / G...| B min|  122|          7.0|           4/4|      No|        26|    81|          87|          74|          4|       7|           0|              47|             0|                  0|                             0|                1|               0|                       0|               0|                         0|                       0|        2015|   hip-hop|         love|\n",
      "|                 !!!|[Verse 1] I was l...| 03:35|              Wallop|C# Maj|  122|         7.29|           4/4|      No|        18|    92|          74|          77|         13|      11|           1|               1|             0|                  0|                             0|                1|               0|                       0|               0|                         0|                       0|        2019|   hip-hop|        anger|\n",
      "|\"Les Misérables O...|[Marius and Coset...| 02:16|Les Misérables (O...| E min|   73|         8.18|           4/4|      No|        32|    50|          43|          53|         10|       8|          88|               0|             0|                  0|                             0|                0|               0|                       0|               0|                         0|                       0|        1985|   hip-hop|          joy|\n",
      "|\"Lightning\" Washi...|Refrain:  Leader:...| 03:04|Jail House Bound:...|C# Maj|   80|         9.48|           4/4|      No|        16|    29|          78|          57|         11|       6|         100|               0|             0|                  1|                             1|                0|               0|                       1|               0|                         0|                       0|        2012|   hip-hop|      sadness|\n",
      "| \"Weird Al\" Yankovic|Carbon monoxide m...| 04:01|          Alapalooza| B min|  200|         8.17|           4/4|      No|        22|    87|          52|          87|          5|      16|           2|               0|             0|                  0|                             0|                1|               1|                       0|               0|                         0|                       0|        1993|      rock|      sadness|\n",
      "| \"Weird Al\" Yankovic|Listening to the ...| 04:19|        Bad Hair Day|A# min|   89|         9.91|           4/4|      No|        26|    69|          51|          48|          3|       7|           0|               0|             0|                  0|                             0|                0|               0|                       0|               0|                         0|                       0|        1996|      rock|      sadness|\n",
      "| \"Weird Al\" Yankovic|George, George, G...| 03:22|        Bad Hair Day|G# Maj|   81|        10.54|           4/4|      No|        57|    45|          73|          48|         17|      27|          10|               0|             0|                  0|                             0|                0|               0|                       0|               1|                         0|                       0|        1996|      rock|          joy|\n",
      "| \"Weird Al\" Yankovic|Isn't it strange?...| 03:20|          Even Worse| A Maj|  136|        11.01|           4/4|      No|        37|    63|          76|          97|          6|       6|           4|               0|             0|                  0|                             0|                1|               0|                       0|               0|                         0|                       0|        1988|      rock|         fear|\n",
      "| \"Weird Al\" Yankovic|La-la-la-lasagna ...| 02:47|          Even Worse| C Maj|  159|         7.85|           4/4|      No|        35|    72|          60|          92|          4|      14|          37|               0|             0|                  0|                             0|                1|               1|                       0|               0|                         0|                       0|        1988|      rock|          joy|\n",
      "| \"Weird Al\" Yankovic|There's a sale on...| 04:15|              In 3-D| B min|  129|        10.06|           4/4|      No|        23|    81|          78|          57|          4|      10|          27|               0|             0|                  0|                             0|                1|               0|                       0|               0|                         0|                       0|        1984|      rock|          joy|\n",
      "+--------------------+--------------------+------+--------------------+------+-----+-------------+--------------+--------+----------+------+------------+------------+-----------+--------+------------+----------------+--------------+-------------------+------------------------------+-----------------+----------------+------------------------+----------------+--------------------------+------------------------+------------+----------+-------------+\n",
      "only showing top 10 rows\n",
      "\n"
     ]
    },
    {
     "name": "stderr",
     "output_type": "stream",
     "text": [
      "                                                                                "
     ]
    }
   ],
   "source": [
    "# --- Passo 5: Apagar colunas que não vamos usar ---\n",
    "columns_to_drop = [\n",
    "    # Colunas originais que foram transformadas\n",
    "    'Release Date', 'Genre', 'emotion',\n",
    "    # Colunas que o usuário pediu para apagar\n",
    "    'song',\n",
    "    'Similar Artist 1', 'Similar Song 1', 'Similarity Score 1',\n",
    "    'Similar Artist 2', 'Similar Song 2', 'Similarity Score 2',\n",
    "    'Similar Artist 3', 'Similar Song 3', 'Similarity Score 3'\n",
    "]\n",
    "\n",
    "df_final = df_filtered.drop(*columns_to_drop)\n",
    "\n",
    "\n",
    "# --- Resultado Final ---\n",
    "print(\"\\nEsquema do DataFrame final:\")\n",
    "df_final.printSchema()\n",
    "\n",
    "print(\"\\nAmostra dos dados limpos e pré-processados:\")\n",
    "df_final.show(10)"
   ]
  },
  {
   "cell_type": "code",
   "execution_count": 20,
   "id": "36d29310-1ab2-4c30-a553-236f30102430",
   "metadata": {},
   "outputs": [
    {
     "name": "stderr",
     "output_type": "stream",
     "text": [
      "[Stage 27:===================================================>     (9 + 1) / 10]"
     ]
    },
    {
     "name": "stdout",
     "output_type": "stream",
     "text": [
      "DataFrame limpo foi salvo com sucesso em: /spark-data/musicas_limpas_cluste.parquet\n"
     ]
    },
    {
     "name": "stderr",
     "output_type": "stream",
     "text": [
      "                                                                                "
     ]
    }
   ],
   "source": [
    "# Supondo que seu DataFrame final e limpo se chama 'df_final'\n",
    "\n",
    "# 1. Defina o caminho de saída para o novo dataset\n",
    "caminho_saida = \"/spark-data/musicas_limpas_cluster.parquet\"\n",
    "\n",
    "# 2. Salve o DataFrame no formato Parquet\n",
    "df_final.write.mode(\"overwrite\").parquet(caminho_saida)\n",
    "\n",
    "print(f\"DataFrame limpo foi salvo com sucesso em: {caminho_saida}\")"
   ]
  },
  {
   "cell_type": "code",
   "execution_count": 10,
   "id": "85eedcff-e409-4290-8e91-32bf080c955c",
   "metadata": {},
   "outputs": [],
   "source": [
    "spark.stop()"
   ]
  },
  {
   "cell_type": "code",
   "execution_count": null,
   "id": "8aedbdaf-ac52-40a2-a507-7e7028b37bbf",
   "metadata": {},
   "outputs": [],
   "source": []
  }
 ],
 "metadata": {
  "kernelspec": {
   "display_name": "Python 3 (ipykernel)",
   "language": "python",
   "name": "python3"
  },
  "language_info": {
   "codemirror_mode": {
    "name": "ipython",
    "version": 3
   },
   "file_extension": ".py",
   "mimetype": "text/x-python",
   "name": "python",
   "nbconvert_exporter": "python",
   "pygments_lexer": "ipython3",
   "version": "3.12.10"
  }
 },
 "nbformat": 4,
 "nbformat_minor": 5
}
