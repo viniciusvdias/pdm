{
 "cells": [
  {
   "cell_type": "markdown",
   "id": "1075c3bc",
   "metadata": {},
   "source": [
    "# --- Célula 1: Importações e Criação da SparkSession ---"
   ]
  },
  {
   "cell_type": "code",
   "execution_count": 1,
   "id": "8d411b12-1c3b-478d-a929-3e973c5ad36f",
   "metadata": {},
   "outputs": [],
   "source": [
    "from pyspark.sql import SparkSession\n",
    "from pyspark.sql.functions import col, sum, count"
   ]
  },
  {
   "cell_type": "code",
   "execution_count": 2,
   "id": "6f82a4af-d8ab-441f-8bfd-3a754f50b2a1",
   "metadata": {},
   "outputs": [
    {
     "name": "stdout",
     "output_type": "stream",
     "text": [
      "SparkSession criada com sucesso!\n",
      "Versão do Spark: 3.5.0\n",
      "URL do Master: local[*]\n"
     ]
    }
   ],
   "source": [
    "spark = SparkSession.builder \\\n",
    "    .appName(\"CSVDataLoading\") \\\n",
    "    .getOrCreate()\n",
    "\n",
    "print(\"SparkSession criada com sucesso!\")\n",
    "print(f\"Versão do Spark: {spark.version}\")\n",
    "print(f\"URL do Master: {spark.sparkContext.master}\")"
   ]
  },
  {
   "cell_type": "code",
   "execution_count": 14,
   "id": "f19c0b4f-84a7-4488-94d5-f2952f4e6a4b",
   "metadata": {},
   "outputs": [
    {
     "name": "stdout",
     "output_type": "stream",
     "text": [
      "\n",
      "Carregando dados de: /home/jovyan/work/full_data/datatran2025.csv\n",
      "Schema do DataFrame de produtos (amostra):\n",
      "root\n",
      " |-- id: integer (nullable = true)\n",
      " |-- data_inversa: date (nullable = true)\n",
      " |-- dia_semana: string (nullable = true)\n",
      " |-- horario: timestamp (nullable = true)\n",
      " |-- uf: string (nullable = true)\n",
      " |-- br: integer (nullable = true)\n",
      " |-- km: string (nullable = true)\n",
      " |-- municipio: string (nullable = true)\n",
      " |-- causa_acidente: string (nullable = true)\n",
      " |-- tipo_acidente: string (nullable = true)\n",
      " |-- classificacao_acidente: string (nullable = true)\n",
      " |-- fase_dia: string (nullable = true)\n",
      " |-- sentido_via: string (nullable = true)\n",
      " |-- condicao_metereologica: string (nullable = true)\n",
      " |-- tipo_pista: string (nullable = true)\n",
      " |-- tracado_via: string (nullable = true)\n",
      " |-- uso_solo: string (nullable = true)\n",
      " |-- pessoas: integer (nullable = true)\n",
      " |-- mortos: integer (nullable = true)\n",
      " |-- feridos_leves: integer (nullable = true)\n",
      " |-- feridos_graves: integer (nullable = true)\n",
      " |-- ilesos: integer (nullable = true)\n",
      " |-- ignorados: integer (nullable = true)\n",
      " |-- feridos: integer (nullable = true)\n",
      " |-- veiculos: integer (nullable = true)\n",
      " |-- latitude: string (nullable = true)\n",
      " |-- longitude: string (nullable = true)\n",
      " |-- regional: string (nullable = true)\n",
      " |-- delegacia: string (nullable = true)\n",
      " |-- uop: string (nullable = true)\n",
      "\n",
      "\n",
      "Conteúdo do DataFrame de produtos (amostra):\n",
      "+------+------------+------------+-------------------+---+---+-----+---------+--------------------+---------------+----------------------+---------+-----------+----------------------+----------+------------+--------+-------+------+-------------+--------------+------+---------+-------+--------+------------+------------+--------+---------+--------------+\n",
      "|    id|data_inversa|  dia_semana|            horario| uf| br|   km|municipio|      causa_acidente|  tipo_acidente|classificacao_acidente| fase_dia|sentido_via|condicao_metereologica|tipo_pista| tracado_via|uso_solo|pessoas|mortos|feridos_leves|feridos_graves|ilesos|ignorados|feridos|veiculos|    latitude|   longitude|regional|delegacia|           uop|\n",
      "+------+------------+------------+-------------------+---+---+-----+---------+--------------------+---------------+----------------------+---------+-----------+----------------------+----------+------------+--------+-------+------+-------------+--------------+------+---------+-------+--------+------------+------------+--------+---------+--------------+\n",
      "|652493|  2025-01-01|quarta-feira|2025-07-08 06:20:00| SP|116|  225|GUARULHOS|Rea��o tardia ou ...|     Tombamento|   Com V�timas Feridas|Pleno dia|Decrescente|             C�u Claro|  M�ltipla|Reta;Declive|     Sim|      2|     0|            1|             0|     0|        1|      1|       2|-23,48586772|-46,54075317| SPRF-SP| DEL01-SP|UOP01-DEL01-SP|\n",
      "|652519|  2025-01-01|quarta-feira|2025-07-08 07:50:00| CE|116|546,2|PENAFORTE|    Pista esburacada|Colis�o frontal|    Com V�timas Fatais|Pleno dia|  Crescente|             C�u Claro|   Simples|        Reta|     N�o|      6|     1|            1|             0|     1|        4|      1|       6|   -7,812288|-39,08333306| SPRF-CE| DEL05-CE|UOP03-DEL05-CE|\n",
      "+------+------------+------------+-------------------+---+---+-----+---------+--------------------+---------------+----------------------+---------+-----------+----------------------+----------+------------+--------+-------+------+-------------+--------------+------+---------+-------+--------+------------+------------+--------+---------+--------------+\n",
      "only showing top 2 rows\n",
      "\n",
      "Total de linhas no DataFrame de produtos (amostra): 28598\n",
      "\n",
      "Estatísticas rápidas:\n",
      "+-------+------------------+-----------+-----+------------------+-----------------+---------------+--------------------+--------------------+----------------------+---------+-------------+----------------------+----------+--------------------+--------+------------------+-------------------+------------------+------------------+------------------+------------------+------------------+------------------+-----------------+------------------+--------+---------+--------------+\n",
      "|summary|                id| dia_semana|   uf|                br|               km|      municipio|      causa_acidente|       tipo_acidente|classificacao_acidente| fase_dia|  sentido_via|condicao_metereologica|tipo_pista|         tracado_via|uso_solo|           pessoas|             mortos|     feridos_leves|    feridos_graves|            ilesos|         ignorados|           feridos|          veiculos|         latitude|         longitude|regional|delegacia|           uop|\n",
      "+-------+------------------+-----------+-----+------------------+-----------------+---------------+--------------------+--------------------+----------------------+---------+-------------+----------------------+----------+--------------------+--------+------------------+-------------------+------------------+------------------+------------------+------------------+------------------+------------------+-----------------+------------------+--------+---------+--------------+\n",
      "|  count|             28598|      28598|28598|             28598|            28598|          28598|               28598|               28597|                 28598|    28598|        28598|                 28598|     28598|               28598|   28598|             28598|              28598|             28598|             28598|             28598|             28598|             28598|             28598|            28598|             28598|   28598|    28598|         28598|\n",
      "|   mean| 672070.6331911322|       NULL| NULL|207.91740681166516|263.6872457792389|           NULL|                NULL|                NULL|                  NULL|     NULL|         NULL|                  NULL|      NULL|                NULL|    NULL|2.5957409609063573|0.08241835093363173|0.8852367298412477|0.2727463458983146|1.0510525211553254|0.3879292258199874|1.1579830757395622| 1.988775438841877|            -17.5|-46.23076923076923|    NULL|     NULL|          NULL|\n",
      "| stddev|13697.933883793026|       NULL| NULL| 128.1903418689029|229.5455979045579|           NULL|                NULL|                NULL|                  NULL|     NULL|         NULL|                  NULL|      NULL|                NULL|    NULL| 2.216941332529123|0.33413466595388186|1.0304546565577564|0.5987064684176587|1.8425017933940955|0.8023184131802181|1.1156227886335361|1.0842309572906348|6.996030620605119| 5.418392230078434|    NULL|     NULL|          NULL|\n",
      "|    min|            652468|    domingo|   AC|                 0|                0|ABADIA DE GOIAS|Acessar a via sem...|Atropelamento de ...|    Com V�timas Fatais|Amanhecer|    Crescente|                 Chuva|     Dupla|              Aclive|     N�o|                 1|                  0|                 0|                 0|                 0|                 0|                 0|                 1|       -0,2318008|        -34,828338| SPRF-AC| DEL01-AC|           N/A|\n",
      "|    max|            699634|ter�a-feira|   TO|               495|              997|        ZE DOCA|�rea urbana sem a...|          Tombamento|           Sem V�timas|Pleno dia|N�o Informado|                 Vento|   Simples|Viaduto;Rotat�ria...|     Sim|                71|                  9|                41|                14|                71|                18|                49|                31|         4,461419|      -70,65339535|  UniPRF|      N/A|UOP07-DEL07-SC|\n",
      "+-------+------------------+-----------+-----+------------------+-----------------+---------------+--------------------+--------------------+----------------------+---------+-------------+----------------------+----------+--------------------+--------+------------------+-------------------+------------------+------------------+------------------+------------------+------------------+------------------+-----------------+------------------+--------+---------+--------------+\n",
      "\n"
     ]
    }
   ],
   "source": [
    "sample_products_path = \"/home/jovyan/work/full_data/datatran2025.csv\"\n",
    "\n",
    "print(f\"\\nCarregando dados de: {sample_products_path}\")\n",
    "\n",
    "try:\n",
    "    df_products_sample = spark.read \\\n",
    "        .option(\"header\", \"true\") \\\n",
    "        .option(\"inferSchema\", \"true\") \\\n",
    "        .option(\"sep\", \";\") \\\n",
    "        .csv(sample_products_path)\n",
    "\n",
    "    print(\"Schema do DataFrame de produtos (amostra):\")\n",
    "    df_products_sample.printSchema()\n",
    "\n",
    "    print(\"\\nConteúdo do DataFrame de produtos (amostra):\")\n",
    "    df_products_sample.show(2) # Mostra as 5 primeiras linhas\n",
    "\n",
    "    print(f\"Total de linhas no DataFrame de produtos (amostra): {df_products_sample.count()}\")\n",
    "    print(\"\\nEstatísticas rápidas:\")\n",
    "    df_products_sample.describe().show()\n",
    "\n",
    "except Exception as e:\n",
    "    print(f\"Erro ao carregar o CSV de amostra: {e}\")"
   ]
  },
  {
   "cell_type": "code",
   "execution_count": null,
   "id": "deba3ca8-fb30-43af-bf50-595059dde1ee",
   "metadata": {},
   "outputs": [],
   "source": []
  }
 ],
 "metadata": {
  "kernelspec": {
   "display_name": "Python 3 (ipykernel)",
   "language": "python",
   "name": "python3"
  },
  "language_info": {
   "codemirror_mode": {
    "name": "ipython",
    "version": 3
   },
   "file_extension": ".py",
   "mimetype": "text/x-python",
   "name": "python",
   "nbconvert_exporter": "python",
   "pygments_lexer": "ipython3",
   "version": "3.11.6"
  }
 },
 "nbformat": 4,
 "nbformat_minor": 5
}
