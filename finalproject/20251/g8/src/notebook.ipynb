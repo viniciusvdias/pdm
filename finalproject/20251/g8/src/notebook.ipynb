{
 "cells": [
  {
   "cell_type": "markdown",
   "id": "1075c3bc",
   "metadata": {},
   "source": [
    "# --- Célula 1: Importações e Criação da SparkSession ---"
   ]
  },
  {
   "cell_type": "code",
   "execution_count": 1,
   "id": "8d411b12-1c3b-478d-a929-3e973c5ad36f",
   "metadata": {},
   "outputs": [],
   "source": [
    "from pyspark.sql import SparkSession\n",
    "from pyspark.sql.functions import col, sum, count"
   ]
  },
  {
   "cell_type": "code",
   "execution_count": 2,
   "id": "6f82a4af-d8ab-441f-8bfd-3a754f50b2a1",
   "metadata": {},
   "outputs": [
    {
     "name": "stdout",
     "output_type": "stream",
     "text": [
      "SparkSession criada com sucesso!\n",
      "Versão do Spark: 3.5.0\n",
      "URL do Master: local[*]\n"
     ]
    }
   ],
   "source": [
    "spark = SparkSession.builder \\\n",
    "    .appName(\"CSVDataLoading\") \\\n",
    "    .getOrCreate()\n",
    "\n",
    "print(\"SparkSession criada com sucesso!\")\n",
    "print(f\"Versão do Spark: {spark.version}\")\n",
    "print(f\"URL do Master: {spark.sparkContext.master}\")"
   ]
  },
  {
   "cell_type": "code",
   "execution_count": 3,
   "id": "f19c0b4f-84a7-4488-94d5-f2952f4e6a4b",
   "metadata": {},
   "outputs": [
    {
     "name": "stdout",
     "output_type": "stream",
     "text": [
      "\n",
      "Carregando dados de: /home/jovyan/work/datasample/acidentes2007.csv\n",
      "Schema do DataFrame de produtos (amostra):\n",
      "root\n",
      " |-- id: integer (nullable = true)\n",
      " |-- pesid: integer (nullable = true)\n",
      " |-- data_inversa: string (nullable = true)\n",
      " |-- dia_semana: string (nullable = true)\n",
      " |-- horario: timestamp (nullable = true)\n",
      " |-- uf: string (nullable = true)\n",
      " |-- br: string (nullable = true)\n",
      " |-- km: string (nullable = true)\n",
      " |-- municipio: string (nullable = true)\n",
      " |-- causa_acidente: string (nullable = true)\n",
      " |-- tipo_acidente: string (nullable = true)\n",
      " |-- classificacao_acidente: string (nullable = true)\n",
      " |-- fase_dia: string (nullable = true)\n",
      " |-- sentido_via: string (nullable = true)\n",
      " |-- condicao_metereologica: string (nullable = true)\n",
      " |-- tipo_pista: string (nullable = true)\n",
      " |-- tracado_via: string (nullable = true)\n",
      " |-- uso_solo: string (nullable = true)\n",
      " |-- id_veiculo: string (nullable = true)\n",
      " |-- tipo_veiculo: string (nullable = true)\n",
      " |-- marca: string (nullable = true)\n",
      " |-- ano_fabricacao_veiculo: string (nullable = true)\n",
      " |-- tipo_envolvido: string (nullable = true)\n",
      " |-- estado_fisico: string (nullable = true)\n",
      " |-- idade: string (nullable = true)\n",
      " |-- sexo: string (nullable = true)\n",
      " |-- nacionalidade: string (nullable = true)\n",
      " |-- naturalidade: string (nullable = true)\n",
      "\n",
      "\n",
      "Conteúdo do DataFrame de produtos (amostra):\n",
      "+---+------+------------+----------+-------------------+---+---+-----+---------+----------------+---------------+----------------------+---------+-----------+----------------------+----------+-----------+--------+----------+------------+---------------+----------------------+--------------+-------------+-----+---------+-------------+-------------+\n",
      "| id| pesid|data_inversa|dia_semana|            horario| uf| br|   km|municipio|  causa_acidente|  tipo_acidente|classificacao_acidente| fase_dia|sentido_via|condicao_metereologica|tipo_pista|tracado_via|uso_solo|id_veiculo|tipo_veiculo|          marca|ano_fabricacao_veiculo|tipo_envolvido|estado_fisico|idade|     sexo|nacionalidade| naturalidade|\n",
      "+---+------+------------+----------+-------------------+---+---+-----+---------+----------------+---------------+----------------------+---------+-----------+----------------------+----------+-----------+--------+----------+------------+---------------+----------------------+--------------+-------------+-----+---------+-------------+-------------+\n",
      "| 10|647938|  11/06/2007|   Segunda|2025-07-08 15:30:00| MG|381|623.2| OLIVEIRA|Falta de aten��o|Colis�o frontal|                (null)|Pleno dia|Decrescente|             Ceu Claro|  Dupla   | Reta      |  Rural |    439395|   Autom�vel|GM/CLASSIC LIFE|                  2005|      Condutor| Ileso       |   23|Masculino|       Brasil|Tres Coracoes|\n",
      "| 10|647938|  11/06/2007|   Segunda|2025-07-08 15:30:00| MG|381|623.2| OLIVEIRA|Falta de aten��o|Colis�o frontal|                (null)|Pleno dia|Decrescente|                 Chuva|  Dupla   | Reta      |  Rural |    439395|   Autom�vel|GM/CLASSIC LIFE|                  2005|      Condutor| Ileso       |   23|Masculino|       Brasil|Tres Coracoes|\n",
      "| 10|648468|  11/06/2007|   Segunda|2025-07-08 15:30:00| MG|381|623.2| OLIVEIRA|Falta de aten��o|Colis�o frontal|                (null)|Pleno dia|Decrescente|             Ceu Claro|  Dupla   | Reta      |  Rural |    439395|   Autom�vel|GM/CLASSIC LIFE|                  2005|    Passageiro| Ferido Leve |   44|Masculino|       Brasil|N�o Informado|\n",
      "| 10|648468|  11/06/2007|   Segunda|2025-07-08 15:30:00| MG|381|623.2| OLIVEIRA|Falta de aten��o|Colis�o frontal|                (null)|Pleno dia|Decrescente|                 Chuva|  Dupla   | Reta      |  Rural |    439395|   Autom�vel|GM/CLASSIC LIFE|                  2005|    Passageiro| Ferido Leve |   44|Masculino|       Brasil|N�o Informado|\n",
      "| 10|648470|  11/06/2007|   Segunda|2025-07-08 15:30:00| MG|381|623.2| OLIVEIRA|Falta de aten��o|Colis�o frontal|                (null)|Pleno dia|Decrescente|                 Chuva|  Dupla   | Reta      |  Rural |    439395|   Autom�vel|GM/CLASSIC LIFE|                  2005|    Passageiro| Ferido Leve |   10| Feminino|       Brasil|N�o Informado|\n",
      "+---+------+------------+----------+-------------------+---+---+-----+---------+----------------+---------------+----------------------+---------+-----------+----------------------+----------+-----------+--------+----------+------------+---------------+----------------------+--------------+-------------+-----+---------+-------------+-------------+\n",
      "only showing top 5 rows\n",
      "\n",
      "Total de linhas no DataFrame de produtos (amostra): 269139\n"
     ]
    }
   ],
   "source": [
    "sample_products_path = \"/home/jovyan/work/datasample/acidentes2007.csv\"\n",
    "\n",
    "print(f\"\\nCarregando dados de: {sample_products_path}\")\n",
    "\n",
    "try:\n",
    "    df_products_sample = spark.read \\\n",
    "        .option(\"header\", \"true\") \\\n",
    "        .option(\"inferSchema\", \"true\") \\\n",
    "        .csv(sample_products_path)\n",
    "\n",
    "    print(\"Schema do DataFrame de produtos (amostra):\")\n",
    "    df_products_sample.printSchema()\n",
    "\n",
    "    print(\"\\nConteúdo do DataFrame de produtos (amostra):\")\n",
    "    df_products_sample.show(5) # Mostra as 5 primeiras linhas\n",
    "\n",
    "    print(f\"Total de linhas no DataFrame de produtos (amostra): {df_products_sample.count()}\")\n",
    "\n",
    "except Exception as e:\n",
    "    print(f\"Erro ao carregar o CSV de amostra: {e}\")"
   ]
  },
  {
   "cell_type": "code",
   "execution_count": null,
   "id": "deba3ca8-fb30-43af-bf50-595059dde1ee",
   "metadata": {},
   "outputs": [],
   "source": []
  }
 ],
 "metadata": {
  "kernelspec": {
   "display_name": "Python 3 (ipykernel)",
   "language": "python",
   "name": "python3"
  },
  "language_info": {
   "codemirror_mode": {
    "name": "ipython",
    "version": 3
   },
   "file_extension": ".py",
   "mimetype": "text/x-python",
   "name": "python",
   "nbconvert_exporter": "python",
   "pygments_lexer": "ipython3",
   "version": "3.11.6"
  }
 },
 "nbformat": 4,
 "nbformat_minor": 5
}
