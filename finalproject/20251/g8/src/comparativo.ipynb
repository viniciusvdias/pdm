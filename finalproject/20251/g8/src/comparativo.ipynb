{
 "cells": [
  {
   "cell_type": "code",
   "execution_count": 1,
   "id": "b3ad7758-cead-4567-8975-070f3a184a3e",
   "metadata": {},
   "outputs": [
    {
     "name": "stderr",
     "output_type": "stream",
     "text": [
      "WARNING: Using incubator modules: jdk.incubator.vector\n",
      "Using Spark's default log4j profile: org/apache/spark/log4j2-defaults.properties\n",
      "Setting default log level to \"WARN\".\n",
      "To adjust logging level use sc.setLogLevel(newLevel). For SparkR, use setLogLevel(newLevel).\n",
      "25/07/09 14:32:46 WARN NativeCodeLoader: Unable to load native-hadoop library for your platform... using builtin-java classes where applicable\n"
     ]
    }
   ],
   "source": [
    "from pyspark.sql import SparkSession\n",
    "from pyspark.sql.functions import col, when\n",
    "from pyspark.sql.types import StructType, StructField, StringType, IntegerType\n",
    "from utils.dataloader import DataLoader\n",
    "from utils.workload import Workload\n",
    "from utils.cleaner import salvar_csv, salvar_parquet\n",
    "import sys\n",
    "\n",
    "# --- Ajuste de path caso necessário ---\n",
    "sys.path.append(\"/app\")\n",
    "\n",
    "# --- Inicialização do Spark ---\n",
    "spark = (\n",
    "    SparkSession.builder\n",
    "    .appName(\"ComparacaoCarregamentoProcessamentoEscrita\")\n",
    "    .master(\"spark://spark-master:7077\")\n",
    "    .getOrCreate()\n",
    ")"
   ]
  },
  {
   "cell_type": "code",
   "execution_count": 2,
   "id": "f5bbdaa1-587a-40bc-8521-53b3c79754bc",
   "metadata": {},
   "outputs": [
    {
     "name": "stdout",
     "output_type": "stream",
     "text": [
      "[ETAPA] Gerando base Parquet a partir do CSV original...\n"
     ]
    },
    {
     "name": "stderr",
     "output_type": "stream",
     "text": [
      "25/07/09 14:32:50 WARN SparkStringUtils: Truncated the string representation of a plan since it was too large. This behavior can be adjusted by setting 'spark.sql.debug.maxToStringFields'.\n",
      "[Stage 0:>                                                          (0 + 1) / 1]"
     ]
    },
    {
     "name": "stdout",
     "output_type": "stream",
     "text": [
      "[PARQUET] salvo em: /app/full_data/parquet_pessoas\n"
     ]
    },
    {
     "name": "stderr",
     "output_type": "stream",
     "text": [
      "                                                                                "
     ]
    },
    {
     "data": {
      "text/plain": [
       "DataFrame[id: string, pesid: string, data_inversa: string, dia_semana: string, horario: string, uf: string, br: string, km: string, municipio: string, causa_acidente: string, tipo_acidente: string, classificacao_acidente: string, fase_dia: string, sentido_via: string, condicao_metereologica: string, tipo_pista: string, tracado_via: string, uso_solo: string, id_veiculo: string, tipo_veiculo: string, marca: string, ano_fabricacao_veiculo: string, tipo_envolvido: string, estado_fisico: string, idade: string, sexo: string, nacionalidade: string, naturalidade: string]"
      ]
     },
     "execution_count": 2,
     "metadata": {},
     "output_type": "execute_result"
    }
   ],
   "source": [
    "# --- Caminhos ---\n",
    "caminho_csv_pessoas     = \"/app/full_data/pessoas\"\n",
    "caminho_parquet_pessoas = \"/app/full_data/parquet_pessoas\"\n",
    "caminho_saida_parquet   = \"/app/full_data/output_faixa_etaria_parquet\"\n",
    "caminho_saida_csv       = \"/app/full_data/output_faixa_etaria_csv\"\n",
    "\n",
    "# Schema das pessoas (exemplo parcial — adicione o restante conforme necessário)\n",
    "schema_pessoas = StructType([\n",
    "    StructField(\"id\", StringType(), True),\n",
    "    StructField(\"pesid\", StringType(), True),\n",
    "    StructField(\"data_inversa\", StringType(), True),\n",
    "    StructField(\"dia_semana\", StringType(), True),\n",
    "    StructField(\"horario\", StringType(), True),\n",
    "    StructField(\"uf\", StringType(), True),\n",
    "    StructField(\"br\", StringType(), True),\n",
    "    StructField(\"km\", StringType(), True),\n",
    "    StructField(\"municipio\", StringType(), True),\n",
    "    StructField(\"causa_acidente\", StringType(), True),\n",
    "    StructField(\"tipo_acidente\", StringType(), True),\n",
    "    StructField(\"classificacao_acidente\", StringType(), True),\n",
    "    StructField(\"fase_dia\", StringType(), True),\n",
    "    StructField(\"sentido_via\", StringType(), True),\n",
    "    StructField(\"condicao_metereologica\", StringType(), True),\n",
    "    StructField(\"tipo_pista\", StringType(), True),\n",
    "    StructField(\"tracado_via\", StringType(), True),\n",
    "    StructField(\"uso_solo\", StringType(), True),\n",
    "    StructField(\"id_veiculo\", StringType(), True),\n",
    "    StructField(\"tipo_veiculo\", StringType(), True),\n",
    "    StructField(\"marca\", StringType(), True),\n",
    "    StructField(\"ano_fabricacao_veiculo\", StringType(), True),\n",
    "    StructField(\"tipo_envolvido\", StringType(), True),\n",
    "    StructField(\"estado_fisico\", StringType(), True),\n",
    "    StructField(\"idade\", StringType(), True),\n",
    "    StructField(\"sexo\", StringType(), True),\n",
    "    StructField(\"nacionalidade\", StringType(), True),\n",
    "    StructField(\"naturalidade\", StringType(), True)\n",
    "])\n",
    "\n",
    "# --- Etapa opcional: converter CSV original para Parquet, se ainda não tiver sido feito ---\n",
    "print(\"[ETAPA] Gerando base Parquet a partir do CSV original...\")\n",
    "df_original_csv = DataLoader(spark=spark, base_dir=caminho_csv_pessoas, schema=schema_pessoas).load()\n",
    "salvar_parquet(df=df_original_csv, output_path=caminho_parquet_pessoas)"
   ]
  },
  {
   "cell_type": "code",
   "execution_count": 3,
   "id": "353e5a4e-1b25-4c0d-b343-9afa8e6dfde5",
   "metadata": {},
   "outputs": [
    {
     "name": "stdout",
     "output_type": "stream",
     "text": [
      "[WORKLOAD] 1A - Carregamento de dados (CSV)\n"
     ]
    },
    {
     "name": "stderr",
     "output_type": "stream",
     "text": [
      "                                                                                "
     ]
    },
    {
     "name": "stdout",
     "output_type": "stream",
     "text": [
      "[METRIC] 1A - Carregamento de dados (CSV) executada em 16.369 segundos\n",
      "[WORKLOAD] 1B - Carregamento de dados (Parquet)\n",
      "[METRIC] 1B - Carregamento de dados (Parquet) executada em 0.176 segundos\n",
      "[WORKLOAD] 2A - Processamento faixa etária (CSV)\n",
      "[METRIC] 2A - Processamento faixa etária (CSV) executada em 0.194 segundos\n",
      "[WORKLOAD] 2B - Processamento faixa etária (Parquet)\n",
      "[METRIC] 2B - Processamento faixa etária (Parquet) executada em 0.109 segundos\n",
      "[WORKLOAD] 3A - Escrita resultado faixa etária como Parquet\n"
     ]
    },
    {
     "name": "stderr",
     "output_type": "stream",
     "text": [
      "                                                                                "
     ]
    },
    {
     "name": "stdout",
     "output_type": "stream",
     "text": [
      "[PARQUET] salvo em: /app/full_data/output_faixa_etaria_parquet\n",
      "[METRIC] 3A - Escrita resultado faixa etária como Parquet executada em 2.483 segundos\n",
      "[WORKLOAD] 3B - Escrita resultado faixa etária como CSV\n"
     ]
    },
    {
     "name": "stderr",
     "output_type": "stream",
     "text": [
      "                                                                                "
     ]
    },
    {
     "name": "stdout",
     "output_type": "stream",
     "text": [
      "[CSV] salvo em: /app/full_data/output_faixa_etaria_csv\n",
      "[METRIC] 3B - Escrita resultado faixa etária como CSV executada em 12.387 segundos\n",
      "\n",
      "[WORKLOAD REPORT]\n",
      "- [WORKLOAD-1] 1A - Carregamento de dados (CSV): 16.369s\n",
      "- [WORKLOAD-2] 1B - Carregamento de dados (Parquet): 0.176s\n",
      "- [WORKLOAD-3] 2A - Processamento faixa etária (CSV): 0.194s\n",
      "- [WORKLOAD-4] 2B - Processamento faixa etária (Parquet): 0.109s\n",
      "- [WORKLOAD-5] 3A - Escrita resultado faixa etária como Parquet: 2.483s\n",
      "- [WORKLOAD-6] 3B - Escrita resultado faixa etária como CSV: 12.387s\n"
     ]
    }
   ],
   "source": [
    "# --- Funções de carregamento ---\n",
    "def load_csv(spark, path):\n",
    "    return DataLoader(spark=spark, base_dir=path).load()\n",
    "\n",
    "def load_parquet(spark, path):\n",
    "    return spark.read.parquet(path)\n",
    "\n",
    "# --- Função de processamento: Análise por faixa etária ---\n",
    "def analise_faixa_etaria(df):\n",
    "    df_limpo = df.withColumn(\n",
    "        \"idade_numerica\",\n",
    "        when(col(\"idade\").rlike(\"^[0-9]+$\"), col(\"idade\").cast(IntegerType()))\n",
    "        .otherwise(None)\n",
    "    )\n",
    "\n",
    "    df_faixa_etaria = df_limpo.withColumn(\n",
    "        \"faixa_etaria\",\n",
    "        when(col(\"idade_numerica\") < 18, \"<18\")\n",
    "        .when((col(\"idade_numerica\") >= 18) & (col(\"idade_numerica\") < 30), \"18-29\")\n",
    "        .when((col(\"idade_numerica\") >= 30) & (col(\"idade_numerica\") < 45), \"30-44\")\n",
    "        .when((col(\"idade_numerica\") >= 45) & (col(\"idade_numerica\") < 60), \"45-59\")\n",
    "        .when(col(\"idade_numerica\") >= 60, \"60+\")\n",
    "        .otherwise(\"Desconhecida\")\n",
    "    )\n",
    "\n",
    "    resultado = df_faixa_etaria.groupBy(\"faixa_etaria\").count().orderBy(\"faixa_etaria\")\n",
    "    return resultado\n",
    "\n",
    "# === WORKLOADS ===\n",
    "\n",
    "# --- WORKLOAD 1: Carregamento ---\n",
    "df_csv = Workload.run(\n",
    "    title=\"1A - Carregamento de dados (CSV)\",\n",
    "    execute_fn=load_csv,\n",
    "    spark=spark,\n",
    "    path=caminho_csv_pessoas\n",
    ")\n",
    "\n",
    "df_parquet = Workload.run(\n",
    "    title=\"1B - Carregamento de dados (Parquet)\",\n",
    "    execute_fn=load_parquet,\n",
    "    spark=spark,\n",
    "    path=caminho_parquet_pessoas\n",
    ")\n",
    "\n",
    "# --- WORKLOAD 2: Processamento (faixa etária) ---\n",
    "df_csv_processado = Workload.run(\n",
    "    title=\"2A - Processamento faixa etária (CSV)\",\n",
    "    execute_fn=analise_faixa_etaria,\n",
    "    df=df_csv\n",
    ")\n",
    "\n",
    "df_parquet_processado = Workload.run(\n",
    "    title=\"2B - Processamento faixa etária (Parquet)\",\n",
    "    execute_fn=analise_faixa_etaria,\n",
    "    df=df_parquet\n",
    ")\n",
    "\n",
    "# --- WORKLOAD 3: Escrita ---\n",
    "Workload.run(\n",
    "    title=\"3A - Escrita resultado faixa etária como Parquet\",\n",
    "    execute_fn=lambda df: salvar_parquet(df=df, output_path=caminho_saida_parquet),\n",
    "    df=df_parquet_processado\n",
    ")\n",
    "\n",
    "Workload.run(\n",
    "    title=\"3B - Escrita resultado faixa etária como CSV\",\n",
    "    execute_fn=lambda df: salvar_csv(df=df, output_path=caminho_saida_csv),\n",
    "    df=df_csv_processado\n",
    ")\n",
    "\n",
    "# --- Relatório final com tempos ---\n",
    "Workload.print_report()\n"
   ]
  }
 ],
 "metadata": {
  "kernelspec": {
   "display_name": "Python 3 (ipykernel)",
   "language": "python",
   "name": "python3"
  },
  "language_info": {
   "codemirror_mode": {
    "name": "ipython",
    "version": 3
   },
   "file_extension": ".py",
   "mimetype": "text/x-python",
   "name": "python",
   "nbconvert_exporter": "python",
   "pygments_lexer": "ipython3",
   "version": "3.11.13"
  }
 },
 "nbformat": 4,
 "nbformat_minor": 5
}
