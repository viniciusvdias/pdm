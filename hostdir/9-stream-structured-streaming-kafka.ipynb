{
 "cells": [
  {
   "cell_type": "markdown",
   "id": "2665f558-53d8-4586-bfa4-43830aa5384f",
   "metadata": {},
   "source": [
    "# EX9-STREAM: Spark Structured Streaming + Kafka\n",
    "\n",
    "Your assignment: complete the `TODO`'s and include also the **output of each cell**.\n",
    "\n",
    "#### You may need to read the [Structured Streaming API Documentation](https://spark.apache.org/docs/latest/api/python/reference/pyspark.ss/index.html) to complete this lab.\n",
    "\n",
    "### Before starting this exercise: (1) start `kafka` stack; (2) start `kafkafakestream` stack."
   ]
  },
  {
   "cell_type": "markdown",
   "id": "d78793a7-6d38-4794-a7d1-6b2c0e57ca8f",
   "metadata": {},
   "source": [
    "### Step 1: **[PLAN A]** Start Spark Session"
   ]
  },
  {
   "cell_type": "code",
   "execution_count": 1,
   "id": "6991433e-339e-4dde-a08d-d31ce0c45a54",
   "metadata": {
    "scrolled": true
   },
   "outputs": [
    {
     "name": "stdout",
     "output_type": "stream",
     "text": [
      "SparkContext not defined\n",
      ":: loading settings :: url = jar:file:/app/.venv/lib/python3.12/site-packages/pyspark/jars/ivy-2.5.1.jar!/org/apache/ivy/core/settings/ivysettings.xml\n"
     ]
    },
    {
     "name": "stderr",
     "output_type": "stream",
     "text": [
      "Ivy Default Cache set to: /root/.ivy2/cache\n",
      "The jars for the packages stored in: /root/.ivy2/jars\n",
      "org.apache.hadoop#hadoop-aws added as a dependency\n",
      "org.apache.spark#spark-sql-kafka-0-10_2.12 added as a dependency\n",
      ":: resolving dependencies :: org.apache.spark#spark-submit-parent-c7e477e8-605e-4f97-9abb-3dfa35f353e9;1.0\n",
      "\tconfs: [default]\n",
      "\tfound org.apache.hadoop#hadoop-aws;3.3.4 in central\n",
      "\tfound com.amazonaws#aws-java-sdk-bundle;1.12.262 in central\n",
      "\tfound org.wildfly.openssl#wildfly-openssl;1.0.7.Final in central\n",
      "\tfound org.apache.spark#spark-sql-kafka-0-10_2.12;3.5.4 in central\n",
      "\tfound org.apache.spark#spark-token-provider-kafka-0-10_2.12;3.5.4 in central\n",
      "\tfound org.apache.kafka#kafka-clients;3.4.1 in central\n",
      "\tfound org.lz4#lz4-java;1.8.0 in central\n",
      "\tfound org.xerial.snappy#snappy-java;1.1.10.5 in central\n",
      "\tfound org.slf4j#slf4j-api;2.0.7 in central\n",
      "\tfound org.apache.hadoop#hadoop-client-runtime;3.3.4 in central\n",
      "\tfound org.apache.hadoop#hadoop-client-api;3.3.4 in central\n",
      "\tfound commons-logging#commons-logging;1.1.3 in central\n",
      "\tfound com.google.code.findbugs#jsr305;3.0.0 in central\n",
      "\tfound org.apache.commons#commons-pool2;2.11.1 in central\n",
      "downloading https://repo1.maven.org/maven2/org/apache/hadoop/hadoop-aws/3.3.4/hadoop-aws-3.3.4.jar ...\n",
      "\t[SUCCESSFUL ] org.apache.hadoop#hadoop-aws;3.3.4!hadoop-aws.jar (2342ms)\n",
      "downloading https://repo1.maven.org/maven2/org/apache/spark/spark-sql-kafka-0-10_2.12/3.5.4/spark-sql-kafka-0-10_2.12-3.5.4.jar ...\n",
      "\t[SUCCESSFUL ] org.apache.spark#spark-sql-kafka-0-10_2.12;3.5.4!spark-sql-kafka-0-10_2.12.jar (1207ms)\n",
      "downloading https://repo1.maven.org/maven2/com/amazonaws/aws-java-sdk-bundle/1.12.262/aws-java-sdk-bundle-1.12.262.jar ...\n",
      "\t[SUCCESSFUL ] com.amazonaws#aws-java-sdk-bundle;1.12.262!aws-java-sdk-bundle.jar (366846ms)\n",
      "downloading https://repo1.maven.org/maven2/org/wildfly/openssl/wildfly-openssl/1.0.7.Final/wildfly-openssl-1.0.7.Final.jar ...\n",
      "\t[SUCCESSFUL ] org.wildfly.openssl#wildfly-openssl;1.0.7.Final!wildfly-openssl.jar (1208ms)\n",
      "downloading https://repo1.maven.org/maven2/org/apache/spark/spark-token-provider-kafka-0-10_2.12/3.5.4/spark-token-provider-kafka-0-10_2.12-3.5.4.jar ...\n",
      "\t[SUCCESSFUL ] org.apache.spark#spark-token-provider-kafka-0-10_2.12;3.5.4!spark-token-provider-kafka-0-10_2.12.jar (388ms)\n",
      "downloading https://repo1.maven.org/maven2/org/apache/kafka/kafka-clients/3.4.1/kafka-clients-3.4.1.jar ...\n",
      "\t[SUCCESSFUL ] org.apache.kafka#kafka-clients;3.4.1!kafka-clients.jar (8509ms)\n",
      "downloading https://repo1.maven.org/maven2/com/google/code/findbugs/jsr305/3.0.0/jsr305-3.0.0.jar ...\n",
      "\t[SUCCESSFUL ] com.google.code.findbugs#jsr305;3.0.0!jsr305.jar (308ms)\n",
      "downloading https://repo1.maven.org/maven2/org/apache/commons/commons-pool2/2.11.1/commons-pool2-2.11.1.jar ...\n",
      "\t[SUCCESSFUL ] org.apache.commons#commons-pool2;2.11.1!commons-pool2.jar (489ms)\n",
      "downloading https://repo1.maven.org/maven2/org/apache/hadoop/hadoop-client-runtime/3.3.4/hadoop-client-runtime-3.3.4.jar ...\n",
      "\t[SUCCESSFUL ] org.apache.hadoop#hadoop-client-runtime;3.3.4!hadoop-client-runtime.jar (37400ms)\n",
      "downloading https://repo1.maven.org/maven2/org/lz4/lz4-java/1.8.0/lz4-java-1.8.0.jar ...\n",
      "\t[SUCCESSFUL ] org.lz4#lz4-java;1.8.0!lz4-java.jar (559ms)\n",
      "downloading https://repo1.maven.org/maven2/org/xerial/snappy/snappy-java/1.1.10.5/snappy-java-1.1.10.5.jar ...\n",
      "\t[SUCCESSFUL ] org.xerial.snappy#snappy-java;1.1.10.5!snappy-java.jar(bundle) (929ms)\n",
      "downloading https://repo1.maven.org/maven2/org/slf4j/slf4j-api/2.0.7/slf4j-api-2.0.7.jar ...\n",
      "\t[SUCCESSFUL ] org.slf4j#slf4j-api;2.0.7!slf4j-api.jar (306ms)\n",
      "downloading https://repo1.maven.org/maven2/org/apache/hadoop/hadoop-client-api/3.3.4/hadoop-client-api-3.3.4.jar ...\n",
      "\t[SUCCESSFUL ] org.apache.hadoop#hadoop-client-api;3.3.4!hadoop-client-api.jar (3512ms)\n",
      "downloading https://repo1.maven.org/maven2/commons-logging/commons-logging/1.1.3/commons-logging-1.1.3.jar ...\n",
      "\t[SUCCESSFUL ] commons-logging#commons-logging;1.1.3!commons-logging.jar (277ms)\n",
      ":: resolution report :: resolve 22562ms :: artifacts dl 424300ms\n",
      "\t:: modules in use:\n",
      "\tcom.amazonaws#aws-java-sdk-bundle;1.12.262 from central in [default]\n",
      "\tcom.google.code.findbugs#jsr305;3.0.0 from central in [default]\n",
      "\tcommons-logging#commons-logging;1.1.3 from central in [default]\n",
      "\torg.apache.commons#commons-pool2;2.11.1 from central in [default]\n",
      "\torg.apache.hadoop#hadoop-aws;3.3.4 from central in [default]\n",
      "\torg.apache.hadoop#hadoop-client-api;3.3.4 from central in [default]\n",
      "\torg.apache.hadoop#hadoop-client-runtime;3.3.4 from central in [default]\n",
      "\torg.apache.kafka#kafka-clients;3.4.1 from central in [default]\n",
      "\torg.apache.spark#spark-sql-kafka-0-10_2.12;3.5.4 from central in [default]\n",
      "\torg.apache.spark#spark-token-provider-kafka-0-10_2.12;3.5.4 from central in [default]\n",
      "\torg.lz4#lz4-java;1.8.0 from central in [default]\n",
      "\torg.slf4j#slf4j-api;2.0.7 from central in [default]\n",
      "\torg.wildfly.openssl#wildfly-openssl;1.0.7.Final from central in [default]\n",
      "\torg.xerial.snappy#snappy-java;1.1.10.5 from central in [default]\n",
      "\t---------------------------------------------------------------------\n",
      "\t|                  |            modules            ||   artifacts   |\n",
      "\t|       conf       | number| search|dwnlded|evicted|| number|dwnlded|\n",
      "\t---------------------------------------------------------------------\n",
      "\t|      default     |   14  |   14  |   14  |   0   ||   14  |   14  |\n",
      "\t---------------------------------------------------------------------\n",
      ":: retrieving :: org.apache.spark#spark-submit-parent-c7e477e8-605e-4f97-9abb-3dfa35f353e9\n",
      "\tconfs: [default]\n",
      "\t14 artifacts copied, 0 already retrieved (332424kB/242ms)\n",
      "25/05/20 03:00:04 WARN NativeCodeLoader: Unable to load native-hadoop library for your platform... using builtin-java classes where applicable\n",
      "Setting default log level to \"WARN\".\n",
      "To adjust logging level use sc.setLogLevel(newLevel). For SparkR, use setLogLevel(newLevel).\n"
     ]
    }
   ],
   "source": [
    "from pyspark.sql import SparkSession\n",
    "\n",
    "try:\n",
    "    spark.stop()\n",
    "except NameError:\n",
    "    print(\"SparkContext not defined\")\n",
    "\n",
    "# cluster mode (and minio for distributed file system)\n",
    "spark = SparkSession.builder \\\n",
    "            .appName(\"Spark SQL basic example\") \\\n",
    "            .master(\"local[*]\") \\\n",
    "\t    \t.config(\"spark.jars.packages\", \"org.apache.hadoop:hadoop-aws:3.3.4,org.apache.spark:spark-sql-kafka-0-10_2.12:3.5.4\") \\\n",
    "            .config(\"spark.hadoop.fs.s3a.endpoint\", \"http://minio:9000\") \\\n",
    "            .config(\"spark.hadoop.fs.s3a.access.key\", \"pdm_minio\") \\\n",
    "            .config(\"spark.hadoop.fs.s3a.secret.key\", \"pdm_minio\") \\\n",
    "            .config(\"spark.hadoop.fs.s3a.path.style.access\", \"true\") \\\n",
    "            .config(\"spark.hadoop.fs.s3a.impl\", \"org.apache.hadoop.fs.s3a.S3AFileSystem\") \\\n",
    "            .config(\"spark.hadoop.fs.s3a.connection.ssl.enabled\", \"false\") \\\n",
    "\t    \t.getOrCreate()"
   ]
  },
  {
   "cell_type": "markdown",
   "id": "bf5215e2-5002-44e1-ad23-1b65803b09ee",
   "metadata": {},
   "source": [
    "### Step 2: **[PLAN A]** Create stream of pizza orders from Kafka"
   ]
  },
  {
   "cell_type": "code",
   "execution_count": 4,
   "id": "8ec6006a-cd33-49cc-918c-49ed0d7dcbf1",
   "metadata": {
    "scrolled": true
   },
   "outputs": [
    {
     "name": "stderr",
     "output_type": "stream",
     "text": [
      "25/05/20 03:02:15 WARN ResolveWriteToStream: Temporary checkpoint location created which is deleted normally when the query didn't fail: /tmp/temporary-ef44f5fd-93e4-408e-97b2-1573dbc3b1f0. If it's required to delete it under any circumstances, please set spark.sql.streaming.forceDeleteTempCheckpointLocation to true. Important to know deleting temp checkpoint folder is best effort.\n",
      "25/05/20 03:02:15 WARN ResolveWriteToStream: spark.sql.adaptive.enabled is not supported in streaming DataFrames/Datasets and will be disabled.\n",
      "25/05/20 03:02:15 WARN AdminClientConfig: These configurations '[key.deserializer, value.deserializer, enable.auto.commit, max.poll.records, auto.offset.reset]' were supplied but are not used yet.\n",
      "                                                                                "
     ]
    },
    {
     "name": "stdout",
     "output_type": "stream",
     "text": [
      "-------------------------------------------\n",
      "Batch: 0\n",
      "-------------------------------------------\n",
      "+---+--------------------+---------------+--------------------+--------------------+--------------------+-------------+\n",
      "| id|                shop|           name|         phoneNumber|             address|              pizzas|    timestamp|\n",
      "+---+--------------------+---------------+--------------------+--------------------+--------------------+-------------+\n",
      "|  0|        Marios Pizza|    Jason Brown|       (851)502-9074|2701 Samuel Summi...|[{Marinara, [🍓 s...|1747710107388|\n",
      "|  1|        Marios Pizza|     Edward Liu|   (366)611-5493x353|561 Lester Points...|[{Diavola, [🥓 ba...|1747710109268|\n",
      "|  2|        Marios Pizza|Joshua Peterson|        933-884-1198|90464 Amanda Port...|[{Marinara, [🍓 s...|1747710114098|\n",
      "|  3|        Marios Pizza|    Maria Lopez|  783-390-4640x10333|0329 James Drive ...|[{Salami, [🌶️ ho...|1747710114833|\n",
      "|  4|Circular Pi Pizzeria|    Chris Lyons|001-371-729-3812x...|38565 Keith Commo...|[{Mari & Monti, [...|1747710115084|\n",
      "|  5|Ill Make You a Pi...|   Tammy Powell|          8304155206|4273 Alisha Viadu...|[{Margherita, [🍌...|1747710115454|\n",
      "|  6|Its-a me! Mario P...| Shawna Sanchez|       (890)498-7308|44801 Maldonado L...|[{Margherita, [🍌...|1747710115718|\n",
      "|  7|        Luigis Pizza|   Logan Bryant| +1-944-212-1073x149|24893 Megan Glen\\...|[{Peperoni, [🍌 b...|1747710116591|\n",
      "|  8|Ill Make You a Pi...| Jeremy Bennett|  208.863.6588x52866|331 Silva Ways\\nL...|[{Salami, [🧄 gar...|1747710118425|\n",
      "|  9|Circular Pi Pizzeria|  Justin Garcia|          5413972876|41271 Michael Bur...|[{Diavola, [🫒 ol...|1747710122986|\n",
      "+---+--------------------+---------------+--------------------+--------------------+--------------------+-------------+\n",
      "\n"
     ]
    },
    {
     "name": "stderr",
     "output_type": "stream",
     "text": [
      "25/05/20 03:02:19 WARN ProcessingTimeExecutor: Current batch is falling behind. The trigger interval is 1000 milliseconds, but spent 3700 milliseconds\n"
     ]
    },
    {
     "data": {
      "text/plain": [
       "False"
      ]
     },
     "execution_count": 4,
     "metadata": {},
     "output_type": "execute_result"
    }
   ],
   "source": [
    "# Read from Kafka\n",
    "df_stream = spark.readStream \\\n",
    "    .format(\"kafka\") \\\n",
    "    .option(\"kafka.bootstrap.servers\", \"kafka:9092\") \\\n",
    "    .option(\"subscribe\", \"pizza\") \\\n",
    "    .option(\"startingOffsets\", \"earliest\") \\\n",
    "    .load()\n",
    "\n",
    "from pyspark.sql.types import StructType, StructField, StringType, LongType, IntegerType, ArrayType\n",
    "from pyspark.sql.functions import col, from_json\n",
    "from pyspark.sql.types import StructType, StringType, TimestampType\n",
    "\n",
    "schema = StructType([\n",
    "    StructField(\"id\", IntegerType()),\n",
    "    StructField(\"shop\", StringType()),\n",
    "    StructField(\"name\", StringType()),\n",
    "    StructField(\"phoneNumber\", StringType()),\n",
    "    StructField(\"address\", StringType()),\n",
    "    StructField(\"pizzas\", ArrayType(\n",
    "        StructType([\n",
    "            StructField(\"pizzaName\", StringType()),\n",
    "            StructField(\"additionalToppings\", ArrayType(StringType()))\n",
    "        ])\n",
    "    )),\n",
    "    StructField(\"timestamp\", LongType())  # This is in epoch millis\n",
    "])\n",
    "\n",
    "\n",
    "df_stream = df_stream.selectExpr(\"CAST(value AS STRING) as json_str\")\n",
    "df_stream = df_stream.select(from_json(col(\"json_str\"), schema).alias(\"data\")).select(\"data.*\")\n",
    "\n",
    "df_stream_writer = df_stream.writeStream.format(\"console\").outputMode(\"append\")\n",
    "df_stream_writer = df_stream_writer.trigger(processingTime=\"1 second\")\n",
    "df_stream_query = df_stream_writer.start()\n",
    "df_stream_query.awaitTermination(10)"
   ]
  },
  {
   "cell_type": "markdown",
   "id": "b44d5679-e700-418a-bbc6-254b401f8c4b",
   "metadata": {},
   "source": [
    "### Step 3: Explore the example above, change parameters, see the results\n",
    "\n",
    "This is a open exercise (show your work and explain the output). Fake kafka stream has other options concerning subject, number of messages, waiting time, etc."
   ]
  },
  {
   "cell_type": "code",
   "execution_count": null,
   "id": "3736f199-dcf8-4299-8822-dd32511c3f0b",
   "metadata": {},
   "outputs": [],
   "source": []
  }
 ],
 "metadata": {
  "kernelspec": {
   "display_name": "Python 3 (ipykernel)",
   "language": "python",
   "name": "python3"
  },
  "language_info": {
   "codemirror_mode": {
    "name": "ipython",
    "version": 3
   },
   "file_extension": ".py",
   "mimetype": "text/x-python",
   "name": "python",
   "nbconvert_exporter": "python",
   "pygments_lexer": "ipython3",
   "version": "3.12.10"
  }
 },
 "nbformat": 4,
 "nbformat_minor": 5
}
